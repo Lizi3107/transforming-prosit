{
 "cells": [
  {
   "cell_type": "code",
   "execution_count": 1,
   "id": "cf66aae0",
   "metadata": {},
   "outputs": [],
   "source": [
    "%load_ext autoreload\n",
    "\n",
    "%autoreload 2"
   ]
  },
  {
   "cell_type": "code",
   "execution_count": 4,
   "id": "915fd50e",
   "metadata": {},
   "outputs": [],
   "source": [
    "import tensorflow as tf\n",
    "import wandb\n",
    "import pandas as pd\n",
    "from prosit_t.wandb_agent.train_utils import get_proteometools_data\n",
    "from dlomix.losses import masked_spectral_distance\n",
    "import os\n",
    "from prosit_t.models import PrositTransformerV2\n",
    "from dlomix.models import PrositIntensityPredictor\n",
    "import numpy as np\n",
    "import tensorflow.keras.backend as K\n",
    "from prosit_t.inference.visualization import compare_spectra, compare_multiple_spectra"
   ]
  },
  {
   "cell_type": "code",
   "execution_count": 3,
   "id": "e287b19a",
   "metadata": {},
   "outputs": [],
   "source": [
    "import plotly.io as pio\n",
    "pio.renderers.default = \"iframe\"\n",
    "import plotly.express as px"
   ]
  },
  {
   "cell_type": "code",
   "execution_count": 5,
   "id": "53eddb94",
   "metadata": {},
   "outputs": [],
   "source": [
    "os.environ[\"CUDA_VISIBLE_DEVICES\"] = \"2\"\n",
    "physical_devices = tf.config.list_physical_devices(\"GPU\")\n",
    "tf.config.experimental.set_memory_growth(physical_devices[0], enable=True)"
   ]
  },
  {
   "cell_type": "code",
   "execution_count": 6,
   "id": "6d373731",
   "metadata": {},
   "outputs": [],
   "source": [
    "data_config = {\n",
    "    \"dataset\": \"proteometools\",\n",
    "    \"data_source\": {\n",
    "        \"train\": \"/cmnfs/proj/prosit/Transformer/first_pool_train.parquet\",\n",
    "        \"val\": \"/cmnfs/proj/prosit/Transformer/first_pool_test.parquet\",\n",
    "    },\n",
    "    \"fragmentation\": \"HCD\",\n",
    "    \"batch_size\": 1024,\n",
    "    \"seq_length\": 30,\n",
    "}"
   ]
  },
  {
   "cell_type": "code",
   "execution_count": 7,
   "id": "82b9c581",
   "metadata": {},
   "outputs": [
    {
     "name": "stderr",
     "output_type": "stream",
     "text": [
      "\u001b[34m\u001b[1mwandb\u001b[0m: Currently logged in as: \u001b[33mmamisashvili-lizi\u001b[0m (\u001b[33mprosit-compms\u001b[0m). Use \u001b[1m`wandb login --relogin`\u001b[0m to force relogin\n"
     ]
    },
    {
     "data": {
      "text/html": [
       "wandb version 0.15.11 is available!  To upgrade, please run:\n",
       " $ pip install wandb --upgrade"
      ],
      "text/plain": [
       "<IPython.core.display.HTML object>"
      ]
     },
     "metadata": {},
     "output_type": "display_data"
    },
    {
     "data": {
      "text/html": [
       "Tracking run with wandb version 0.15.3"
      ],
      "text/plain": [
       "<IPython.core.display.HTML object>"
      ]
     },
     "metadata": {},
     "output_type": "display_data"
    },
    {
     "data": {
      "text/html": [
       "Run data is saved locally in <code>/cmnfs/home/l.mamisashvili/transforming-prosit/notebooks/wandb/run-20231002_154434-7uy49fsb</code>"
      ],
      "text/plain": [
       "<IPython.core.display.HTML object>"
      ]
     },
     "metadata": {},
     "output_type": "display_data"
    },
    {
     "data": {
      "text/html": [
       "Syncing run <strong><a href='https://wandb.ai/prosit-compms/transforming-prosit-first-pool/runs/7uy49fsb' target=\"_blank\">vibrant-spaceship-162</a></strong> to <a href='https://wandb.ai/prosit-compms/transforming-prosit-first-pool' target=\"_blank\">Weights & Biases</a> (<a href='https://wandb.me/run' target=\"_blank\">docs</a>)<br/>"
      ],
      "text/plain": [
       "<IPython.core.display.HTML object>"
      ]
     },
     "metadata": {},
     "output_type": "display_data"
    },
    {
     "data": {
      "text/html": [
       " View project at <a href='https://wandb.ai/prosit-compms/transforming-prosit-first-pool' target=\"_blank\">https://wandb.ai/prosit-compms/transforming-prosit-first-pool</a>"
      ],
      "text/plain": [
       "<IPython.core.display.HTML object>"
      ]
     },
     "metadata": {},
     "output_type": "display_data"
    },
    {
     "data": {
      "text/html": [
       " View run at <a href='https://wandb.ai/prosit-compms/transforming-prosit-first-pool/runs/7uy49fsb' target=\"_blank\">https://wandb.ai/prosit-compms/transforming-prosit-first-pool/runs/7uy49fsb</a>"
      ],
      "text/plain": [
       "<IPython.core.display.HTML object>"
      ]
     },
     "metadata": {},
     "output_type": "display_data"
    }
   ],
   "source": [
    "project_name = \"transforming-prosit-first-pool\"\n",
    "run = wandb.init(project=project_name)"
   ]
  },
  {
   "cell_type": "code",
   "execution_count": 8,
   "id": "794bd528",
   "metadata": {},
   "outputs": [
    {
     "name": "stderr",
     "output_type": "stream",
     "text": [
      "2023-10-02 15:45:28.521689: I tensorflow/core/common_runtime/gpu/gpu_device.cc:1639] Created device /job:localhost/replica:0/task:0/device:GPU:0 with 38970 MB memory:  -> device: 0, name: NVIDIA A40, pci bus id: 0000:e2:00.0, compute capability: 8.6\n"
     ]
    }
   ],
   "source": [
    "_, val_data = get_proteometools_data(data_config)"
   ]
  },
  {
   "cell_type": "code",
   "execution_count": 10,
   "id": "c6ab080c",
   "metadata": {},
   "outputs": [
    {
     "name": "stderr",
     "output_type": "stream",
     "text": [
      "\u001b[34m\u001b[1mwandb\u001b[0m:   5 of 5 files downloaded.  \n",
      "2023-10-02 15:50:30.414895: W tensorflow/core/util/tensor_slice_reader.cc:97] Could not open ./artifacts/model-hardy-pine-74:v144: FAILED_PRECONDITION: artifacts/model-hardy-pine-74:v144; Is a directory: perhaps your file is in a different file format and you need to use a different restore operator?\n"
     ]
    },
    {
     "data": {
      "text/plain": [
       "<tensorflow.python.checkpoint.checkpoint.CheckpointLoadStatus at 0x7fc45071c4c0>"
      ]
     },
     "execution_count": 10,
     "metadata": {},
     "output_type": "execute_result"
    }
   ],
   "source": [
    "artifact_path = \"prosit-compms/transforming-prosit-first-pool/model-hardy-pine-74:v144\"\n",
    "artifact = run.use_artifact(artifact_path)\n",
    "model_dir = artifact.download()\n",
    "transformer = PrositTransformerV2(\n",
    "    seq_length=30,\n",
    "    embedding_output_dim=64,\n",
    "    num_heads=16,\n",
    "    num_transformers=6,\n",
    "    dense_dim_factor=4\n",
    ")\n",
    "transformer.load_weights(model_dir)"
   ]
  },
  {
   "cell_type": "code",
   "execution_count": 11,
   "id": "84473f64",
   "metadata": {},
   "outputs": [
    {
     "name": "stderr",
     "output_type": "stream",
     "text": [
      "\u001b[34m\u001b[1mwandb\u001b[0m:   4 of 4 files downloaded.  \n",
      "2023-10-02 15:50:36.295582: W tensorflow/core/util/tensor_slice_reader.cc:97] Could not open ./artifacts/model-classic-star-15:v19: FAILED_PRECONDITION: artifacts/model-classic-star-15:v19; Is a directory: perhaps your file is in a different file format and you need to use a different restore operator?\n"
     ]
    },
    {
     "data": {
      "text/plain": [
       "<tensorflow.python.checkpoint.checkpoint.CheckpointLoadStatus at 0x7fc450946700>"
      ]
     },
     "execution_count": 11,
     "metadata": {},
     "output_type": "execute_result"
    }
   ],
   "source": [
    "baseline_path = \"prosit-compms/transforming-prosit-first-pool/model-classic-star-15:v19\"\n",
    "baseline_artifact = run.use_artifact(baseline_path)\n",
    "baseline_dir = baseline_artifact.download()\n",
    "\n",
    "baseline = PrositIntensityPredictor(seq_length=30,embedding_output_dim=16,\n",
    "        recurrent_layers_sizes=(256, 512))\n",
    "\n",
    "baseline.load_weights(baseline_dir)"
   ]
  },
  {
   "cell_type": "code",
   "execution_count": 27,
   "id": "b6dc6cd4",
   "metadata": {},
   "outputs": [
    {
     "name": "stdout",
     "output_type": "stream",
     "text": [
      "32/32 [==============================] - 0s 3ms/step\n",
      "32/32 [==============================] - 0s 2ms/step\n"
     ]
    }
   ],
   "source": [
    "batch_idx = 600\n",
    "batch_x, batch_y = [x for x in val_data.skip(batch_idx).take(1)][0]\n",
    "\n",
    "transformer_pred = transformer.predict(batch_x)\n",
    "transformer_loss = masked_spectral_distance(batch_y, transformer_pred)\n",
    "transformer_loss = tf.round(transformer_loss * 1000) / 1000\n",
    "\n",
    "baseline_pred = baseline.predict(batch_x)\n",
    "baseline_loss = masked_spectral_distance(batch_y, baseline_pred)\n",
    "baseline_loss = tf.round(baseline_loss * 1000) / 1000"
   ]
  },
  {
   "cell_type": "code",
   "execution_count": 38,
   "id": "6cd377b6",
   "metadata": {},
   "outputs": [
    {
     "data": {
      "text/plain": [
       "<tf.Tensor: shape=(13, 1), dtype=int64, numpy=\n",
       "array([[  73],\n",
       "       [ 279],\n",
       "       [ 281],\n",
       "       [ 354],\n",
       "       [ 477],\n",
       "       [ 661],\n",
       "       [ 704],\n",
       "       [ 817],\n",
       "       [ 895],\n",
       "       [ 907],\n",
       "       [ 909],\n",
       "       [ 975],\n",
       "       [1004]])>"
      ]
     },
     "execution_count": 38,
     "metadata": {},
     "output_type": "execute_result"
    }
   ],
   "source": [
    "tf.where(transformer_loss > 0.5)"
   ]
  },
  {
   "cell_type": "code",
   "execution_count": 39,
   "id": "717d85b8",
   "metadata": {},
   "outputs": [
    {
     "data": {
      "text/html": [
       "<iframe\n",
       "    scrolling=\"no\"\n",
       "    width=\"100%\"\n",
       "    height=\"545px\"\n",
       "    src=\"iframe_figures/figure_39.html\"\n",
       "    frameborder=\"0\"\n",
       "    allowfullscreen\n",
       "></iframe>\n"
      ]
     },
     "metadata": {},
     "output_type": "display_data"
    }
   ],
   "source": [
    "sample_idx = 1004\n",
    "\n",
    "compare_multiple_spectra(\n",
    "    batch_y[sample_idx],\n",
    "    [transformer_pred[sample_idx], baseline_pred[sample_idx]],\n",
    "    [\"Transformer\", \"Baseline\"],\n",
    "    [transformer_loss[sample_idx], baseline_loss[sample_idx]]\n",
    ")"
   ]
  },
  {
   "cell_type": "code",
   "execution_count": 44,
   "id": "22214e20",
   "metadata": {
    "scrolled": false
   },
   "outputs": [
    {
     "name": "stdout",
     "output_type": "stream",
     "text": [
      "32/32 [==============================] - 0s 3ms/step\n",
      "32/32 [==============================] - 0s 2ms/step\n"
     ]
    },
    {
     "data": {
      "text/html": [
       "<iframe\n",
       "    scrolling=\"no\"\n",
       "    width=\"100%\"\n",
       "    height=\"545px\"\n",
       "    src=\"iframe_figures/figure_44.html\"\n",
       "    frameborder=\"0\"\n",
       "    allowfullscreen\n",
       "></iframe>\n"
      ]
     },
     "metadata": {},
     "output_type": "display_data"
    }
   ],
   "source": [
    "batch_idx = 600\n",
    "sample_idx = 1004\n",
    "batch_x, batch_y = [x for x in val_data.skip(batch_idx).take(1)][0]\n",
    "\n",
    "transformer_pred = transformer.predict(batch_x)\n",
    "transformer_loss = masked_spectral_distance(batch_y, transformer_pred)\n",
    "transformer_loss = tf.round(transformer_loss * 1000) / 1000\n",
    "\n",
    "baseline_pred = baseline.predict(batch_x)\n",
    "baseline_loss = masked_spectral_distance(batch_y, baseline_pred)\n",
    "baseline_loss = tf.round(baseline_loss * 1000) / 1000\n",
    "\n",
    "compare_multiple_spectra(\n",
    "    batch_y[sample_idx],\n",
    "    [transformer_pred[sample_idx], baseline_pred[sample_idx]],\n",
    "    [\"Transformer\", \"Baseline\"],\n",
    "    [transformer_loss[sample_idx], baseline_loss[sample_idx]]\n",
    ")"
   ]
  },
  {
   "cell_type": "code",
   "execution_count": 45,
   "id": "a1b4a387",
   "metadata": {},
   "outputs": [
    {
     "name": "stdout",
     "output_type": "stream",
     "text": [
      "32/32 [==============================] - 0s 2ms/step\n",
      "32/32 [==============================] - 0s 2ms/step\n"
     ]
    },
    {
     "data": {
      "text/html": [
       "<iframe\n",
       "    scrolling=\"no\"\n",
       "    width=\"100%\"\n",
       "    height=\"545px\"\n",
       "    src=\"iframe_figures/figure_45.html\"\n",
       "    frameborder=\"0\"\n",
       "    allowfullscreen\n",
       "></iframe>\n"
      ]
     },
     "metadata": {},
     "output_type": "display_data"
    }
   ],
   "source": [
    "batch_idx = 121\n",
    "sample_idx = 7\n",
    "batch_x, batch_y = [x for x in val_data.skip(batch_idx).take(1)][0]\n",
    "\n",
    "transformer_pred = transformer.predict(batch_x)\n",
    "transformer_loss = masked_spectral_distance(batch_y, transformer_pred)\n",
    "transformer_loss = tf.round(transformer_loss * 1000) / 1000\n",
    "\n",
    "baseline_pred = baseline.predict(batch_x)\n",
    "baseline_loss = masked_spectral_distance(batch_y, baseline_pred)\n",
    "baseline_loss = tf.round(baseline_loss * 1000) / 1000\n",
    "\n",
    "compare_multiple_spectra(\n",
    "    batch_y[sample_idx],\n",
    "    [transformer_pred[sample_idx], baseline_pred[sample_idx]],\n",
    "    [\"Transformer\", \"Baseline\"],\n",
    "    [transformer_loss[sample_idx], baseline_loss[sample_idx]]\n",
    ")"
   ]
  }
 ],
 "metadata": {
  "kernelspec": {
   "display_name": "Python 3 (ipykernel)",
   "language": "python",
   "name": "python3"
  },
  "language_info": {
   "codemirror_mode": {
    "name": "ipython",
    "version": 3
   },
   "file_extension": ".py",
   "mimetype": "text/x-python",
   "name": "python",
   "nbconvert_exporter": "python",
   "pygments_lexer": "ipython3",
   "version": "3.9.16"
  }
 },
 "nbformat": 4,
 "nbformat_minor": 5
}
