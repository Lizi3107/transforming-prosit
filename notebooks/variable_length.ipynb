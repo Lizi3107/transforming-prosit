{
 "cells": [
  {
   "cell_type": "code",
   "execution_count": 1,
   "id": "2e0e1f8a",
   "metadata": {},
   "outputs": [],
   "source": [
    "%load_ext autoreload\n",
    "\n",
    "%autoreload 2"
   ]
  },
  {
   "cell_type": "code",
   "execution_count": 2,
   "id": "6d0187b9",
   "metadata": {},
   "outputs": [
    {
     "name": "stderr",
     "output_type": "stream",
     "text": [
      "2023-09-04 17:14:50.780442: I tensorflow/core/platform/cpu_feature_guard.cc:182] This TensorFlow binary is optimized to use available CPU instructions in performance-critical operations.\n",
      "To enable the following instructions: AVX2 FMA, in other operations, rebuild TensorFlow with the appropriate compiler flags.\n",
      "2023-09-04 17:14:51.379975: W tensorflow/compiler/tf2tensorrt/utils/py_utils.cc:38] TF-TRT Warning: Could not find TensorRT\n"
     ]
    }
   ],
   "source": [
    "import tensorflow as tf\n",
    "import os"
   ]
  },
  {
   "cell_type": "code",
   "execution_count": 3,
   "id": "0f687660",
   "metadata": {},
   "outputs": [],
   "source": [
    "os.environ[\"CUDA_VISIBLE_DEVICES\"] = \"1\"\n",
    "physical_devices = tf.config.list_physical_devices(\"GPU\")\n",
    "tf.config.experimental.set_memory_growth(physical_devices[0], enable=True)"
   ]
  },
  {
   "cell_type": "code",
   "execution_count": 4,
   "id": "d8d5063b",
   "metadata": {},
   "outputs": [
    {
     "name": "stderr",
     "output_type": "stream",
     "text": [
      "2023-09-04 17:14:52.783019: I tensorflow/core/common_runtime/gpu/gpu_device.cc:1639] Created device /job:localhost/replica:0/task:0/device:GPU:0 with 43194 MB memory:  -> device: 0, name: NVIDIA A40, pci bus id: 0000:81:00.0, compute capability: 8.6\n"
     ]
    }
   ],
   "source": [
    "sequences_data = [\n",
    "    [1, 2, 3],\n",
    "    [4, 5],\n",
    "    [6, 7, 8, 9],\n",
    "]\n",
    "\n",
    "labels_data = [0, 1, 0]\n",
    "\n",
    "sequences_ragged = tf.ragged.constant(sequences_data, dtype=tf.int32)\n",
    "labels_ragged = tf.ragged.constant(labels_data, dtype=tf.int32)\n",
    "\n",
    "dataset = tf.data.Dataset.from_tensor_slices((sequences_ragged, labels_ragged))"
   ]
  },
  {
   "cell_type": "code",
   "execution_count": 5,
   "id": "04ea5bcb",
   "metadata": {},
   "outputs": [],
   "source": [
    "batched_dataset = dataset.batch(batch_size=2)"
   ]
  },
  {
   "cell_type": "code",
   "execution_count": 6,
   "id": "c19528d6",
   "metadata": {},
   "outputs": [],
   "source": [
    "def rand_data(x):\n",
    "    return (tf.fill([x], x), tf.constant([1], dtype=tf.int32))"
   ]
  },
  {
   "cell_type": "code",
   "execution_count": 98,
   "id": "db718335",
   "metadata": {},
   "outputs": [],
   "source": [
    "A = (tf.data.Dataset\n",
    "     .range(1,5, output_type=tf.int32)\n",
    "     .map(rand_data))\n",
    "A = A.padded_batch(2)"
   ]
  },
  {
   "cell_type": "code",
   "execution_count": 7,
   "id": "3ffcacce",
   "metadata": {
    "scrolled": true
   },
   "outputs": [
    {
     "name": "stdout",
     "output_type": "stream",
     "text": [
      "Epoch 1/5\n"
     ]
    },
    {
     "name": "stderr",
     "output_type": "stream",
     "text": [
      "2023-09-04 17:13:43.820807: I tensorflow/compiler/xla/stream_executor/cuda/cuda_blas.cc:606] TensorFloat-32 will be used for the matrix multiplication. This will only be logged once.\n",
      "2023-09-04 17:13:43.821143: I tensorflow/compiler/xla/service/service.cc:168] XLA service 0x7f0c70001950 initialized for platform CUDA (this does not guarantee that XLA will be used). Devices:\n",
      "2023-09-04 17:13:43.821155: I tensorflow/compiler/xla/service/service.cc:176]   StreamExecutor device (0): NVIDIA A40, Compute Capability 8.6\n",
      "2023-09-04 17:13:43.824558: I tensorflow/compiler/mlir/tensorflow/utils/dump_mlir_util.cc:255] disabling MLIR crash reproducer, set env var `MLIR_CRASH_REPRODUCER_DIRECTORY` to enable.\n",
      "2023-09-04 17:13:44.910295: I tensorflow/compiler/xla/stream_executor/cuda/cuda_dnn.cc:432] Loaded cuDNN version 8801\n",
      "2023-09-04 17:13:44.996048: I ./tensorflow/compiler/jit/device_compiler.h:186] Compiled cluster using XLA!  This line is logged at most once for the lifetime of the process.\n"
     ]
    },
    {
     "name": "stdout",
     "output_type": "stream",
     "text": [
      "2/2 [==============================] - 3s 118ms/step - loss: 1.4710\n",
      "Epoch 2/5\n",
      "2/2 [==============================] - 0s 3ms/step - loss: 1.4691\n",
      "Epoch 3/5\n",
      "2/2 [==============================] - 0s 3ms/step - loss: 1.4671\n",
      "Epoch 4/5\n",
      "2/2 [==============================] - 0s 3ms/step - loss: 1.4651\n",
      "Epoch 5/5\n",
      "2/2 [==============================] - 0s 3ms/step - loss: 1.4631\n"
     ]
    },
    {
     "data": {
      "text/plain": [
       "<keras.src.callbacks.History at 0x7f0d21164880>"
      ]
     },
     "execution_count": 7,
     "metadata": {},
     "output_type": "execute_result"
    }
   ],
   "source": [
    "input_layer = tf.keras.layers.Input(shape=(None,), dtype=tf.int32)\n",
    "embedding_layer = tf.keras.layers.Embedding(input_dim=10, output_dim=32, mask_zero=False)(input_layer)\n",
    "output_layer = tf.keras.layers.Dense(1, activation='sigmoid')(embedding_layer)\n",
    "\n",
    "model = tf.keras.models.Model(inputs=input_layer, outputs=output_layer)\n",
    "\n",
    "model.compile(loss='binary_crossentropy', optimizer='adam')\n",
    "\n",
    "epochs = 5\n",
    "batch_size = 2\n",
    "\n",
    "model.fit(batched_dataset, epochs=epochs)"
   ]
  },
  {
   "cell_type": "code",
   "execution_count": 8,
   "id": "db265087",
   "metadata": {},
   "outputs": [
    {
     "name": "stdout",
     "output_type": "stream",
     "text": [
      "Model: \"model\"\n",
      "_________________________________________________________________\n",
      " Layer (type)                Output Shape              Param #   \n",
      "=================================================================\n",
      " input_1 (InputLayer)        [(None, None)]            0         \n",
      "                                                                 \n",
      " embedding (Embedding)       (None, None, 32)          320       \n",
      "                                                                 \n",
      " dense (Dense)               (None, None, 1)           33        \n",
      "                                                                 \n",
      "=================================================================\n",
      "Total params: 353 (1.38 KB)\n",
      "Trainable params: 353 (1.38 KB)\n",
      "Non-trainable params: 0 (0.00 Byte)\n",
      "_________________________________________________________________\n"
     ]
    }
   ],
   "source": [
    "model.summary()"
   ]
  }
 ],
 "metadata": {
  "kernelspec": {
   "display_name": "Python 3 (ipykernel)",
   "language": "python",
   "name": "python3"
  },
  "language_info": {
   "codemirror_mode": {
    "name": "ipython",
    "version": 3
   },
   "file_extension": ".py",
   "mimetype": "text/x-python",
   "name": "python",
   "nbconvert_exporter": "python",
   "pygments_lexer": "ipython3",
   "version": "3.9.16"
  }
 },
 "nbformat": 4,
 "nbformat_minor": 5
}
