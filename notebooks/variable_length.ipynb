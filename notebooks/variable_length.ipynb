{
 "cells": [
  {
   "cell_type": "code",
   "execution_count": 1,
   "id": "2e0e1f8a",
   "metadata": {},
   "outputs": [],
   "source": [
    "%load_ext autoreload\n",
    "\n",
    "%autoreload 2"
   ]
  },
  {
   "cell_type": "code",
   "execution_count": 2,
   "id": "6d0187b9",
   "metadata": {},
   "outputs": [
    {
     "name": "stderr",
     "output_type": "stream",
     "text": [
      "2023-09-18 12:38:06.087931: I tensorflow/core/platform/cpu_feature_guard.cc:182] This TensorFlow binary is optimized to use available CPU instructions in performance-critical operations.\n",
      "To enable the following instructions: AVX2 FMA, in other operations, rebuild TensorFlow with the appropriate compiler flags.\n",
      "2023-09-18 12:38:06.745149: W tensorflow/compiler/tf2tensorrt/utils/py_utils.cc:38] TF-TRT Warning: Could not find TensorRT\n"
     ]
    }
   ],
   "source": [
    "import tensorflow as tf\n",
    "import os"
   ]
  },
  {
   "cell_type": "code",
   "execution_count": 3,
   "id": "0f687660",
   "metadata": {},
   "outputs": [],
   "source": [
    "os.environ[\"CUDA_VISIBLE_DEVICES\"] = \"1\"\n",
    "physical_devices = tf.config.list_physical_devices(\"GPU\")\n",
    "tf.config.experimental.set_memory_growth(physical_devices[0], enable=True)"
   ]
  },
  {
   "cell_type": "code",
   "execution_count": 4,
   "id": "d8d5063b",
   "metadata": {},
   "outputs": [
    {
     "name": "stderr",
     "output_type": "stream",
     "text": [
      "2023-09-18 12:38:08.197326: I tensorflow/core/common_runtime/gpu/gpu_device.cc:1639] Created device /job:localhost/replica:0/task:0/device:GPU:0 with 43192 MB memory:  -> device: 0, name: NVIDIA A40, pci bus id: 0000:81:00.0, compute capability: 8.6\n"
     ]
    }
   ],
   "source": [
    "sequences_data = [\n",
    "    [1, 2, 3],\n",
    "    [4, 5],\n",
    "    [6, 7, 8, 9],\n",
    "]\n",
    "\n",
    "labels_data = [0, 1, 0]\n",
    "\n",
    "sequences_ragged = tf.ragged.constant(sequences_data, dtype=tf.int32)\n",
    "labels_ragged = tf.ragged.constant(labels_data, dtype=tf.int32)\n",
    "\n",
    "dataset = tf.data.Dataset.from_tensor_slices((sequences_ragged, labels_ragged))"
   ]
  },
  {
   "cell_type": "code",
   "execution_count": 5,
   "id": "04ea5bcb",
   "metadata": {},
   "outputs": [],
   "source": [
    "batched_dataset = dataset.batch(batch_size=2)"
   ]
  },
  {
   "cell_type": "code",
   "execution_count": 6,
   "id": "c19528d6",
   "metadata": {},
   "outputs": [],
   "source": [
    "def rand_data(x):\n",
    "    return (tf.fill([x], x), tf.constant([1], dtype=tf.int32))"
   ]
  },
  {
   "cell_type": "code",
   "execution_count": 7,
   "id": "db718335",
   "metadata": {},
   "outputs": [],
   "source": [
    "A = (tf.data.Dataset\n",
    "     .range(1,5, output_type=tf.int32)\n",
    "     .map(rand_data))\n",
    "A = A.padded_batch(2)"
   ]
  },
  {
   "cell_type": "code",
   "execution_count": 11,
   "id": "3ffcacce",
   "metadata": {
    "scrolled": true
   },
   "outputs": [
    {
     "name": "stdout",
     "output_type": "stream",
     "text": [
      "Epoch 1/5\n",
      "2/2 [==============================] - 1s 83ms/step - loss: 1.4673\n",
      "Epoch 2/5\n",
      "2/2 [==============================] - 0s 3ms/step - loss: 1.4655\n",
      "Epoch 3/5\n",
      "2/2 [==============================] - 0s 3ms/step - loss: 1.4637\n",
      "Epoch 4/5\n",
      "2/2 [==============================] - 0s 3ms/step - loss: 1.4619\n",
      "Epoch 5/5\n",
      "2/2 [==============================] - 0s 3ms/step - loss: 1.4601\n"
     ]
    },
    {
     "data": {
      "text/plain": [
       "<keras.src.callbacks.History at 0x7f077026acd0>"
      ]
     },
     "execution_count": 11,
     "metadata": {},
     "output_type": "execute_result"
    }
   ],
   "source": [
    "input_layer = tf.keras.layers.Input(shape=(None,), dtype=tf.int32)\n",
    "embedding_layer = tf.keras.layers.Embedding(input_dim=10, output_dim=32, mask_zero=False)(input_layer)\n",
    "output_layer = tf.keras.layers.Dense(1, activation='sigmoid')(embedding_layer)\n",
    "\n",
    "model = tf.keras.models.Model(inputs=input_layer, outputs=output_layer)\n",
    "\n",
    "model.compile(loss='binary_crossentropy', optimizer='adam')\n",
    "\n",
    "epochs = 5\n",
    "batch_size = 2\n",
    "\n",
    "model.fit(batched_dataset, epochs=epochs)"
   ]
  },
  {
   "cell_type": "code",
   "execution_count": 10,
   "id": "db265087",
   "metadata": {},
   "outputs": [
    {
     "name": "stdout",
     "output_type": "stream",
     "text": [
      "Model: \"model_1\"\n",
      "_________________________________________________________________\n",
      " Layer (type)                Output Shape              Param #   \n",
      "=================================================================\n",
      " input_2 (InputLayer)        [(None, None)]            0         \n",
      "                                                                 \n",
      " embedding_1 (Embedding)     (None, None, 32)          320       \n",
      "                                                                 \n",
      " dense_1 (Dense)             (None, None, 1)           33        \n",
      "                                                                 \n",
      "=================================================================\n",
      "Total params: 353 (1.38 KB)\n",
      "Trainable params: 353 (1.38 KB)\n",
      "Non-trainable params: 0 (0.00 Byte)\n",
      "_________________________________________________________________\n"
     ]
    }
   ],
   "source": [
    "model.summary()"
   ]
  },
  {
   "cell_type": "code",
   "execution_count": null,
   "id": "7f4860cd",
   "metadata": {},
   "outputs": [],
   "source": []
  }
 ],
 "metadata": {
  "kernelspec": {
   "display_name": "Python 3 (ipykernel)",
   "language": "python",
   "name": "python3"
  },
  "language_info": {
   "codemirror_mode": {
    "name": "ipython",
    "version": 3
   },
   "file_extension": ".py",
   "mimetype": "text/x-python",
   "name": "python",
   "nbconvert_exporter": "python",
   "pygments_lexer": "ipython3",
   "version": "3.9.16"
  }
 },
 "nbformat": 4,
 "nbformat_minor": 5
}
