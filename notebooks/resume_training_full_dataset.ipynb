{
 "cells": [
  {
   "cell_type": "code",
   "execution_count": 1,
   "id": "33594bb3",
   "metadata": {},
   "outputs": [
    {
     "name": "stderr",
     "output_type": "stream",
     "text": [
      "2023-11-21 11:14:20.785332: I tensorflow/core/platform/cpu_feature_guard.cc:193] This TensorFlow binary is optimized with oneAPI Deep Neural Network Library (oneDNN) to use the following CPU instructions in performance-critical operations:  AVX2 FMA\n",
      "To enable them in other operations, rebuild TensorFlow with the appropriate compiler flags.\n",
      "2023-11-21 11:14:20.892301: E tensorflow/stream_executor/cuda/cuda_blas.cc:2981] Unable to register cuBLAS factory: Attempting to register factory for plugin cuBLAS when one has already been registered\n",
      "2023-11-21 11:14:21.588602: W tensorflow/stream_executor/platform/default/dso_loader.cc:64] Could not load dynamic library 'libnvinfer.so.7'; dlerror: libnvinfer.so.7: cannot open shared object file: No such file or directory\n",
      "2023-11-21 11:14:21.588661: W tensorflow/stream_executor/platform/default/dso_loader.cc:64] Could not load dynamic library 'libnvinfer_plugin.so.7'; dlerror: libnvinfer_plugin.so.7: cannot open shared object file: No such file or directory\n",
      "2023-11-21 11:14:21.588667: W tensorflow/compiler/tf2tensorrt/utils/py_utils.cc:38] TF-TRT Warning: Cannot dlopen some TensorRT libraries. If you would like to use Nvidia GPU with TensorRT, please make sure the missing libraries mentioned above are installed properly.\n"
     ]
    }
   ],
   "source": [
    "import tensorflow as tf\n",
    "from prosit_t.wandb_agent.train_utils import get_tfdatasets_padded_filtered\n",
    "import os\n",
    "import argparse\n",
    "import yaml\n",
    "from dlomix.losses import masked_spectral_distance\n",
    "import wandb\n",
    "from prosit_t.models import PrositTransformerV2\n",
    "from prosit_t.eval import prosit_transformer_eval\n",
    "from wandb.keras import WandbCallback\n",
    "from keras.callbacks import EarlyStopping, ReduceLROnPlateau, LearningRateScheduler\n",
    "from prosit_t.constants import ALPHABET_UNMOD"
   ]
  },
  {
   "cell_type": "code",
   "execution_count": 3,
   "id": "a0e27dcc",
   "metadata": {},
   "outputs": [],
   "source": [
    "os.environ[\"CUDA_VISIBLE_DEVICES\"] = \"1\"\n",
    "# physical_devices = tf.config.list_physical_devices(\"GPU\")\n",
    "# tf.config.experimental.set_memory_growth(physical_devices[0], enable=True)"
   ]
  },
  {
   "cell_type": "code",
   "execution_count": 4,
   "id": "ec6a3f90",
   "metadata": {},
   "outputs": [
    {
     "name": "stderr",
     "output_type": "stream",
     "text": [
      "\u001b[34m\u001b[1mwandb\u001b[0m: Currently logged in as: \u001b[33mmamisashvili-lizi\u001b[0m (\u001b[33mprosit-compms\u001b[0m). Use \u001b[1m`wandb login --relogin`\u001b[0m to force relogin\n"
     ]
    },
    {
     "data": {
      "text/html": [
       "wandb version 0.16.0 is available!  To upgrade, please run:\n",
       " $ pip install wandb --upgrade"
      ],
      "text/plain": [
       "<IPython.core.display.HTML object>"
      ]
     },
     "metadata": {},
     "output_type": "display_data"
    },
    {
     "data": {
      "text/html": [
       "Tracking run with wandb version 0.15.3"
      ],
      "text/plain": [
       "<IPython.core.display.HTML object>"
      ]
     },
     "metadata": {},
     "output_type": "display_data"
    },
    {
     "data": {
      "text/html": [
       "Run data is saved locally in <code>/cmnfs/home/l.mamisashvili/transforming-prosit/notebooks/wandb/run-20231121_111426-t5ltsie7</code>"
      ],
      "text/plain": [
       "<IPython.core.display.HTML object>"
      ]
     },
     "metadata": {},
     "output_type": "display_data"
    },
    {
     "data": {
      "text/html": [
       "Syncing run <strong><a href='https://wandb.ai/prosit-compms/transforming-prosit-full-dataset/runs/t5ltsie7' target=\"_blank\">pleasant-bee-31</a></strong> to <a href='https://wandb.ai/prosit-compms/transforming-prosit-full-dataset' target=\"_blank\">Weights & Biases</a> (<a href='https://wandb.me/run' target=\"_blank\">docs</a>)<br/>"
      ],
      "text/plain": [
       "<IPython.core.display.HTML object>"
      ]
     },
     "metadata": {},
     "output_type": "display_data"
    },
    {
     "data": {
      "text/html": [
       " View project at <a href='https://wandb.ai/prosit-compms/transforming-prosit-full-dataset' target=\"_blank\">https://wandb.ai/prosit-compms/transforming-prosit-full-dataset</a>"
      ],
      "text/plain": [
       "<IPython.core.display.HTML object>"
      ]
     },
     "metadata": {},
     "output_type": "display_data"
    },
    {
     "data": {
      "text/html": [
       " View run at <a href='https://wandb.ai/prosit-compms/transforming-prosit-full-dataset/runs/t5ltsie7' target=\"_blank\">https://wandb.ai/prosit-compms/transforming-prosit-full-dataset/runs/t5ltsie7</a>"
      ],
      "text/plain": [
       "<IPython.core.display.HTML object>"
      ]
     },
     "metadata": {},
     "output_type": "display_data"
    }
   ],
   "source": [
    "project_name = \"transforming-prosit-full-dataset\"\n",
    "run = wandb.init(project=project_name)"
   ]
  },
  {
   "cell_type": "code",
   "execution_count": 5,
   "id": "9abe7469",
   "metadata": {},
   "outputs": [
    {
     "name": "stderr",
     "output_type": "stream",
     "text": [
      "\u001b[34m\u001b[1mwandb\u001b[0m:   4 of 4 files downloaded.  \n"
     ]
    }
   ],
   "source": [
    "artifact_path = \"prosit-compms/transforming-prosit-full-dataset/model-leafy-universe-28:v26\"\n",
    "model = run.use_artifact(artifact_path)\n",
    "model_dir = model.download()"
   ]
  },
  {
   "cell_type": "code",
   "execution_count": 6,
   "id": "5681eb57",
   "metadata": {},
   "outputs": [
    {
     "name": "stderr",
     "output_type": "stream",
     "text": [
      "2023-11-21 11:14:41.279677: I tensorflow/core/platform/cpu_feature_guard.cc:193] This TensorFlow binary is optimized with oneAPI Deep Neural Network Library (oneDNN) to use the following CPU instructions in performance-critical operations:  AVX2 FMA\n",
      "To enable them in other operations, rebuild TensorFlow with the appropriate compiler flags.\n",
      "2023-11-21 11:14:41.411806: I tensorflow/core/common_runtime/gpu/gpu_device.cc:1616] Created device /job:localhost/replica:0/task:0/device:GPU:0 with 43607 MB memory:  -> device: 0, name: NVIDIA A40, pci bus id: 0000:81:00.0, compute capability: 8.6\n"
     ]
    }
   ],
   "source": [
    "model_loaded = tf.keras.models.load_model(model_dir, custom_objects={\n",
    "    \"masked_spectral_distance\": masked_spectral_distance,\n",
    "})"
   ]
  },
  {
   "cell_type": "code",
   "execution_count": 7,
   "id": "171f647d",
   "metadata": {},
   "outputs": [],
   "source": [
    "data_config = {\n",
    "    \"data_source\": {\n",
    "        \"train\": \"/cmnfs/proj/prosit/Transformer/all_unmod_train.parquet\",\n",
    "          \"val\": \"/cmnfs/proj/prosit/Transformer/all_unmod_test.parquet\"\n",
    "    },\n",
    "    \"seq_length\": 30,\n",
    "    \"batch_size\": 1024\n",
    "          \n",
    "}"
   ]
  },
  {
   "cell_type": "code",
   "execution_count": 8,
   "id": "9e0ea6ea",
   "metadata": {},
   "outputs": [],
   "source": [
    "train_dataset, val_dataset = get_tfdatasets_padded_filtered(data_config)"
   ]
  },
  {
   "cell_type": "code",
   "execution_count": 10,
   "id": "7d30c729",
   "metadata": {},
   "outputs": [],
   "source": [
    "cb_wandb = WandbCallback()\n",
    "\n",
    "callback_earlystopping = EarlyStopping(\n",
    "    monitor=\"val_loss\",\n",
    "    patience=8,\n",
    "    min_delta=0.0001,\n",
    "    restore_best_weights=True,\n",
    "    verbose=1,\n",
    ")\n",
    "\n",
    "callback_reduce_lr = ReduceLROnPlateau(\n",
    "    monitor=\"val_loss\",\n",
    "    factor=0.8,\n",
    "    patience=4,\n",
    ")\n",
    "callbacks = [cb_wandb, callback_earlystopping, callback_reduce_lr]"
   ]
  },
  {
   "cell_type": "code",
   "execution_count": null,
   "id": "a1419e72",
   "metadata": {},
   "outputs": [
    {
     "name": "stdout",
     "output_type": "stream",
     "text": [
      "Epoch 1/100\n"
     ]
    },
    {
     "name": "stderr",
     "output_type": "stream",
     "text": [
      "2023-11-21 11:36:04.871537: W tensorflow/core/grappler/costs/op_level_cost_estimator.cc:690] Error in PredictCost() for the op: op: \"Softmax\" attr { key: \"T\" value { type: DT_FLOAT } } inputs { dtype: DT_FLOAT shape { unknown_rank: true } } device { type: \"GPU\" vendor: \"NVIDIA\" model: \"NVIDIA A40\" frequency: 1740 num_cores: 84 environment { key: \"architecture\" value: \"8.6\" } environment { key: \"cuda\" value: \"11020\" } environment { key: \"cudnn\" value: \"8100\" } num_registers: 65536 l1_cache_size: 24576 l2_cache_size: 6291456 shared_memory_size_per_multiprocessor: 102400 memory_size: 45725646848 bandwidth: 696096000 } outputs { dtype: DT_FLOAT shape { unknown_rank: true } }\n",
      "2023-11-21 11:36:06.211663: I tensorflow/stream_executor/cuda/cuda_blas.cc:1614] TensorFloat-32 will be used for the matrix multiplication. This will only be logged once.\n"
     ]
    },
    {
     "name": "stdout",
     "output_type": "stream",
     "text": [
      "12178/12178 [==============================] - ETA: 0s - loss: 0.1124"
     ]
    },
    {
     "name": "stderr",
     "output_type": "stream",
     "text": [
      "2023-11-21 12:06:54.147637: W tensorflow/core/grappler/costs/op_level_cost_estimator.cc:690] Error in PredictCost() for the op: op: \"Softmax\" attr { key: \"T\" value { type: DT_FLOAT } } inputs { dtype: DT_FLOAT shape { unknown_rank: true } } device { type: \"GPU\" vendor: \"NVIDIA\" model: \"NVIDIA A40\" frequency: 1740 num_cores: 84 environment { key: \"architecture\" value: \"8.6\" } environment { key: \"cuda\" value: \"11020\" } environment { key: \"cudnn\" value: \"8100\" } num_registers: 65536 l1_cache_size: 24576 l2_cache_size: 6291456 shared_memory_size_per_multiprocessor: 102400 memory_size: 45725646848 bandwidth: 696096000 } outputs { dtype: DT_FLOAT shape { unknown_rank: true } }\n",
      "\u001b[34m\u001b[1mwandb\u001b[0m: \u001b[32m\u001b[41mERROR\u001b[0m Can't save model in the h5py format. The model will be saved as as an W&B Artifact in the 'tf' format.\n",
      "WARNING:absl:Function `_wrapped_model` contains input name(s) args_0 with unsupported characters which will be renamed to args_0_2 in the SavedModel.\n",
      "WARNING:absl:Found untraced functions such as flatten_layer_call_fn, flatten_layer_call_and_return_conditional_losses, dense_12_layer_call_fn, dense_12_layer_call_and_return_conditional_losses, multiply_layer_call_fn while saving (showing 5 of 162). These functions will not be directly callable after loading.\n"
     ]
    },
    {
     "name": "stdout",
     "output_type": "stream",
     "text": [
      "INFO:tensorflow:Assets written to: /cmnfs/home/l.mamisashvili/transforming-prosit/notebooks/wandb/run-20231121_111426-t5ltsie7/files/model-best/assets\n"
     ]
    },
    {
     "name": "stderr",
     "output_type": "stream",
     "text": [
      "INFO:tensorflow:Assets written to: /cmnfs/home/l.mamisashvili/transforming-prosit/notebooks/wandb/run-20231121_111426-t5ltsie7/files/model-best/assets\n",
      "\u001b[34m\u001b[1mwandb\u001b[0m: Adding directory to artifact (/cmnfs/home/l.mamisashvili/transforming-prosit/notebooks/wandb/run-20231121_111426-t5ltsie7/files/model-best)... Done. 0.2s\n"
     ]
    },
    {
     "name": "stdout",
     "output_type": "stream",
     "text": [
      "12178/12178 [==============================] - 2040s 167ms/step - loss: 0.1124 - val_loss: 0.1449 - lr: 1.0000e-04\n",
      "Epoch 2/100\n",
      "12178/12178 [==============================] - ETA: 0s - loss: 0.1121"
     ]
    },
    {
     "name": "stderr",
     "output_type": "stream",
     "text": [
      "\u001b[34m\u001b[1mwandb\u001b[0m: \u001b[32m\u001b[41mERROR\u001b[0m Can't save model in the h5py format. The model will be saved as as an W&B Artifact in the 'tf' format.\n",
      "WARNING:absl:Function `_wrapped_model` contains input name(s) args_0 with unsupported characters which will be renamed to args_0_2 in the SavedModel.\n",
      "WARNING:absl:Found untraced functions such as flatten_layer_call_fn, flatten_layer_call_and_return_conditional_losses, dense_12_layer_call_fn, dense_12_layer_call_and_return_conditional_losses, multiply_layer_call_fn while saving (showing 5 of 162). These functions will not be directly callable after loading.\n"
     ]
    },
    {
     "name": "stdout",
     "output_type": "stream",
     "text": [
      "INFO:tensorflow:Assets written to: /cmnfs/home/l.mamisashvili/transforming-prosit/notebooks/wandb/run-20231121_111426-t5ltsie7/files/model-best/assets\n"
     ]
    },
    {
     "name": "stderr",
     "output_type": "stream",
     "text": [
      "INFO:tensorflow:Assets written to: /cmnfs/home/l.mamisashvili/transforming-prosit/notebooks/wandb/run-20231121_111426-t5ltsie7/files/model-best/assets\n",
      "\u001b[34m\u001b[1mwandb\u001b[0m: Adding directory to artifact (/cmnfs/home/l.mamisashvili/transforming-prosit/notebooks/wandb/run-20231121_111426-t5ltsie7/files/model-best)... Done. 0.2s\n"
     ]
    },
    {
     "name": "stdout",
     "output_type": "stream",
     "text": [
      "12178/12178 [==============================] - 2026s 166ms/step - loss: 0.1121 - val_loss: 0.1434 - lr: 1.0000e-04\n",
      "Epoch 3/100\n",
      "12178/12178 [==============================] - 2021s 166ms/step - loss: 0.1116 - val_loss: 0.1448 - lr: 1.0000e-04\n",
      "Epoch 4/100\n",
      "12178/12178 [==============================] - 2021s 166ms/step - loss: 0.1113 - val_loss: 0.1491 - lr: 1.0000e-04\n",
      "Epoch 5/100\n",
      " 4124/12178 [=========>....................] - ETA: 20:16 - loss: 0.1229"
     ]
    }
   ],
   "source": [
    "model_loaded.fit(\n",
    "    train_dataset,\n",
    "    validation_data=val_dataset,\n",
    "    epochs=100,\n",
    "    callbacks=callbacks,\n",
    ")"
   ]
  },
  {
   "cell_type": "code",
   "execution_count": 14,
   "id": "fad639b4",
   "metadata": {},
   "outputs": [
    {
     "name": "stdout",
     "output_type": "stream",
     "text": [
      "Model: \"model_1\"\n",
      "__________________________________________________________________________________________________\n",
      " Layer (type)                   Output Shape         Param #     Connected to                     \n",
      "==================================================================================================\n",
      " input_4 (InputLayer)           [(None, 30)]         0           []                               \n",
      "                                                                                                  \n",
      " string_lookup (StringLookup)   (None, 30)           0           ['input_4[0][0]']                \n",
      "                                                                                                  \n",
      " positional_embedding (Position  (None, 30, 64)      1472        ['string_lookup[1][0]']          \n",
      " alEmbedding)                                                                                     \n",
      "                                                                                                  \n",
      " transformer_encoder (Transform  (None, 30, 64)      2157824     ['positional_embedding[1][0]']   \n",
      " erEncoder)                                                                                       \n",
      "                                                                                                  \n",
      " flatten (Flatten)              (None, 1920)         0           ['transformer_encoder[1][0]']    \n",
      "                                                                                                  \n",
      " dense_16 (Dense)               (None, 512)          983552      ['flatten[1][0]']                \n",
      "                                                                                                  \n",
      " input_5 (InputLayer)           [(None, 1)]          0           []                               \n",
      "                                                                                                  \n",
      " input_6 (InputLayer)           [(None, 6)]          0           []                               \n",
      "                                                                                                  \n",
      " leaky_re_lu (LeakyReLU)        (None, 512)          0           ['dense_16[1][0]',               \n",
      "                                                                  'multiply[1][0]']               \n",
      "                                                                                                  \n",
      " meta_encoder (MetaEncoder)     (None, 512)          4096        ['input_5[0][0]',                \n",
      "                                                                  'input_6[0][0]']                \n",
      "                                                                                                  \n",
      " multiply (Multiply)            (None, 512)          0           ['leaky_re_lu[2][0]',            \n",
      "                                                                  'meta_encoder[1][0]']           \n",
      "                                                                                                  \n",
      " regressor_v2 (RegressorV2)     (None, 174)          89262       ['leaky_re_lu[3][0]']            \n",
      "                                                                                                  \n",
      "==================================================================================================\n",
      "Total params: 3,236,206\n",
      "Trainable params: 3,236,206\n",
      "Non-trainable params: 0\n",
      "__________________________________________________________________________________________________\n"
     ]
    }
   ],
   "source": [
    "transformer.summary()"
   ]
  },
  {
   "cell_type": "code",
   "execution_count": null,
   "id": "c79f487e",
   "metadata": {},
   "outputs": [],
   "source": []
  }
 ],
 "metadata": {
  "kernelspec": {
   "display_name": "Python 3 (ipykernel)",
   "language": "python",
   "name": "python3"
  },
  "language_info": {
   "codemirror_mode": {
    "name": "ipython",
    "version": 3
   },
   "file_extension": ".py",
   "mimetype": "text/x-python",
   "name": "python",
   "nbconvert_exporter": "python",
   "pygments_lexer": "ipython3",
   "version": "3.9.16"
  }
 },
 "nbformat": 4,
 "nbformat_minor": 5
}
