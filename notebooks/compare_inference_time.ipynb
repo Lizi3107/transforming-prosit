{
 "cells": [
  {
   "cell_type": "code",
   "execution_count": 1,
   "id": "8e3492ef",
   "metadata": {},
   "outputs": [
    {
     "name": "stderr",
     "output_type": "stream",
     "text": [
      "2023-08-24 13:52:57.334595: I tensorflow/core/platform/cpu_feature_guard.cc:193] This TensorFlow binary is optimized with oneAPI Deep Neural Network Library (oneDNN) to use the following CPU instructions in performance-critical operations:  AVX2 FMA\n",
      "To enable them in other operations, rebuild TensorFlow with the appropriate compiler flags.\n",
      "2023-08-24 13:52:57.444929: E tensorflow/stream_executor/cuda/cuda_blas.cc:2981] Unable to register cuBLAS factory: Attempting to register factory for plugin cuBLAS when one has already been registered\n",
      "2023-08-24 13:52:58.120304: W tensorflow/stream_executor/platform/default/dso_loader.cc:64] Could not load dynamic library 'libnvinfer.so.7'; dlerror: libnvinfer.so.7: cannot open shared object file: No such file or directory\n",
      "2023-08-24 13:52:58.120357: W tensorflow/stream_executor/platform/default/dso_loader.cc:64] Could not load dynamic library 'libnvinfer_plugin.so.7'; dlerror: libnvinfer_plugin.so.7: cannot open shared object file: No such file or directory\n",
      "2023-08-24 13:52:58.120363: W tensorflow/compiler/tf2tensorrt/utils/py_utils.cc:38] TF-TRT Warning: Cannot dlopen some TensorRT libraries. If you would like to use Nvidia GPU with TensorRT, please make sure the missing libraries mentioned above are installed properly.\n"
     ]
    }
   ],
   "source": [
    "import time\n",
    "import tensorflow as tf\n",
    "import wandb\n",
    "import pandas as pd\n",
    "from prosit_t.wandb_agent.train_utils import get_proteometools_data\n",
    "import seaborn as sns\n",
    "from dlomix.losses import masked_spectral_distance, masked_pearson_correlation_distance\n",
    "import os\n",
    "from dlomix.models import PrositIntensityPredictor"
   ]
  },
  {
   "cell_type": "code",
   "execution_count": 2,
   "id": "2f43fa8f",
   "metadata": {},
   "outputs": [],
   "source": [
    "os.environ[\"CUDA_VISIBLE_DEVICES\"] = \"2\"\n",
    "# physical_devices = tf.config.list_physical_devices(\"GPU\")\n",
    "# tf.config.experimental.set_memory_growth(physical_devices[0], enable=True)"
   ]
  },
  {
   "cell_type": "code",
   "execution_count": 3,
   "id": "16e80ea0",
   "metadata": {},
   "outputs": [],
   "source": [
    "data_config = {\n",
    "    \"data_source\": {\n",
    "        \"train\": \"/cmnfs/proj/prosit/Transformer/first_pool_train.parquet\",\n",
    "        \"val\": \"/cmnfs/proj/prosit/Transformer/first_pool_test.parquet\",\n",
    "    },\n",
    "    \"fragmentation\": \"HCD\",\n",
    "    \"batch_size\": 1024,\n",
    "    \"seq_length\": 30,\n",
    "}"
   ]
  },
  {
   "cell_type": "code",
   "execution_count": 4,
   "id": "f3d08c10",
   "metadata": {},
   "outputs": [
    {
     "name": "stderr",
     "output_type": "stream",
     "text": [
      "\u001b[34m\u001b[1mwandb\u001b[0m: Currently logged in as: \u001b[33mmamisashvili-lizi\u001b[0m (\u001b[33mprosit-compms\u001b[0m). Use \u001b[1m`wandb login --relogin`\u001b[0m to force relogin\n"
     ]
    },
    {
     "data": {
      "text/html": [
       "wandb version 0.15.8 is available!  To upgrade, please run:\n",
       " $ pip install wandb --upgrade"
      ],
      "text/plain": [
       "<IPython.core.display.HTML object>"
      ]
     },
     "metadata": {},
     "output_type": "display_data"
    },
    {
     "data": {
      "text/html": [
       "Tracking run with wandb version 0.15.3"
      ],
      "text/plain": [
       "<IPython.core.display.HTML object>"
      ]
     },
     "metadata": {},
     "output_type": "display_data"
    },
    {
     "data": {
      "text/html": [
       "Run data is saved locally in <code>/cmnfs/home/l.mamisashvili/transforming-prosit/notebooks/wandb/run-20230824_135301-lfnd7ko1</code>"
      ],
      "text/plain": [
       "<IPython.core.display.HTML object>"
      ]
     },
     "metadata": {},
     "output_type": "display_data"
    },
    {
     "data": {
      "text/html": [
       "Syncing run <strong><a href='https://wandb.ai/prosit-compms/transforming-prosit-big-data/runs/lfnd7ko1' target=\"_blank\">electric-serenity-122</a></strong> to <a href='https://wandb.ai/prosit-compms/transforming-prosit-big-data' target=\"_blank\">Weights & Biases</a> (<a href='https://wandb.me/run' target=\"_blank\">docs</a>)<br/>"
      ],
      "text/plain": [
       "<IPython.core.display.HTML object>"
      ]
     },
     "metadata": {},
     "output_type": "display_data"
    },
    {
     "data": {
      "text/html": [
       " View project at <a href='https://wandb.ai/prosit-compms/transforming-prosit-big-data' target=\"_blank\">https://wandb.ai/prosit-compms/transforming-prosit-big-data</a>"
      ],
      "text/plain": [
       "<IPython.core.display.HTML object>"
      ]
     },
     "metadata": {},
     "output_type": "display_data"
    },
    {
     "data": {
      "text/html": [
       " View run at <a href='https://wandb.ai/prosit-compms/transforming-prosit-big-data/runs/lfnd7ko1' target=\"_blank\">https://wandb.ai/prosit-compms/transforming-prosit-big-data/runs/lfnd7ko1</a>"
      ],
      "text/plain": [
       "<IPython.core.display.HTML object>"
      ]
     },
     "metadata": {},
     "output_type": "display_data"
    }
   ],
   "source": [
    "project_name = \"transforming-prosit-big-data\"\n",
    "run = wandb.init(project=project_name)"
   ]
  },
  {
   "cell_type": "code",
   "execution_count": 5,
   "id": "64b32805",
   "metadata": {},
   "outputs": [],
   "source": [
    "artifact_paths = [\n",
    "    \"prosit-compms/transforming-prosit-first-pool/model-glamorous-night-50:v19\",\n",
    "    \"prosit-compms/transforming-prosit-first-pool/model-chocolate-silence-59:v19\"\n",
    "]"
   ]
  },
  {
   "cell_type": "code",
   "execution_count": 17,
   "id": "92c60c46",
   "metadata": {},
   "outputs": [],
   "source": [
    "given_names = [\n",
    "    \"6t_embed64_dense4_ffdim32\",\n",
    "    \"6t_embed64_dense4_no_fusion\"\n",
    "]"
   ]
  },
  {
   "cell_type": "code",
   "execution_count": 35,
   "id": "371c76a5",
   "metadata": {},
   "outputs": [],
   "source": [
    "def record_time(artifact_paths, batch, given_names):\n",
    "    df = pd.DataFrame(columns=[\"artifact_name\", \"given_name\", \"time\"])\n",
    "    for idx, path in enumerate(artifact_paths):\n",
    "        artifact = run.use_artifact(path)\n",
    "        model_dir = artifact.download()\n",
    "        model = tf.keras.models.load_model(model_dir, custom_objects={\n",
    "            \"masked_spectral_distance\": masked_spectral_distance,\n",
    "            \"masked_pearson_correlation_distance\": masked_pearson_correlation_distance\n",
    "        })\n",
    "        start_time = time.time()\n",
    "        model(batch)\n",
    "        end_time = time.time()\n",
    "        time_diff = end_time - start_time\n",
    "        model_name = path.split(\"/\")[-1]\n",
    "        df = df.append({\n",
    "            \"artifact_name\": model_name,\n",
    "            \"given_name\": given_names[idx],\n",
    "            \"time\": time_diff\n",
    "        }, ignore_index=True)\n",
    "    return df"
   ]
  },
  {
   "cell_type": "code",
   "execution_count": 7,
   "id": "044b4435",
   "metadata": {
    "scrolled": true
   },
   "outputs": [
    {
     "name": "stderr",
     "output_type": "stream",
     "text": [
      "2023-08-24 13:53:56.782825: I tensorflow/core/platform/cpu_feature_guard.cc:193] This TensorFlow binary is optimized with oneAPI Deep Neural Network Library (oneDNN) to use the following CPU instructions in performance-critical operations:  AVX2 FMA\n",
      "To enable them in other operations, rebuild TensorFlow with the appropriate compiler flags.\n",
      "2023-08-24 13:53:57.137538: I tensorflow/core/common_runtime/gpu/gpu_device.cc:1616] Created device /job:localhost/replica:0/task:0/device:GPU:0 with 43648 MB memory:  -> device: 0, name: NVIDIA A40, pci bus id: 0000:e2:00.0, compute capability: 8.6\n"
     ]
    }
   ],
   "source": [
    "_, val_data = get_proteometools_data(data_config)"
   ]
  },
  {
   "cell_type": "code",
   "execution_count": 8,
   "id": "daee0de7",
   "metadata": {},
   "outputs": [],
   "source": [
    "batch = [i[0] for i in val_data.take(1)][0]"
   ]
  },
  {
   "cell_type": "code",
   "execution_count": 36,
   "id": "517dad6c",
   "metadata": {
    "scrolled": true
   },
   "outputs": [
    {
     "name": "stderr",
     "output_type": "stream",
     "text": [
      "\u001b[34m\u001b[1mwandb\u001b[0m:   4 of 4 files downloaded.  \n",
      "2023-08-24 16:33:49.260491: W tensorflow/core/grappler/costs/op_level_cost_estimator.cc:690] Error in PredictCost() for the op: op: \"Softmax\" attr { key: \"T\" value { type: DT_FLOAT } } inputs { dtype: DT_FLOAT shape { unknown_rank: true } } device { type: \"GPU\" vendor: \"NVIDIA\" model: \"NVIDIA A40\" frequency: 1740 num_cores: 84 environment { key: \"architecture\" value: \"8.6\" } environment { key: \"cuda\" value: \"11020\" } environment { key: \"cudnn\" value: \"8100\" } num_registers: 65536 l1_cache_size: 24576 l2_cache_size: 6291456 shared_memory_size_per_multiprocessor: 102400 memory_size: 45768966144 bandwidth: 696096000 } outputs { dtype: DT_FLOAT shape { unknown_rank: true } }\n",
      "/tmp/ipykernel_1151387/2546239800.py:15: FutureWarning: The frame.append method is deprecated and will be removed from pandas in a future version. Use pandas.concat instead.\n",
      "  df = df.append({\n",
      "\u001b[34m\u001b[1mwandb\u001b[0m:   4 of 4 files downloaded.  \n",
      "2023-08-24 16:33:52.748661: W tensorflow/core/grappler/costs/op_level_cost_estimator.cc:690] Error in PredictCost() for the op: op: \"Softmax\" attr { key: \"T\" value { type: DT_FLOAT } } inputs { dtype: DT_FLOAT shape { unknown_rank: true } } device { type: \"GPU\" vendor: \"NVIDIA\" model: \"NVIDIA A40\" frequency: 1740 num_cores: 84 environment { key: \"architecture\" value: \"8.6\" } environment { key: \"cuda\" value: \"11020\" } environment { key: \"cudnn\" value: \"8100\" } num_registers: 65536 l1_cache_size: 24576 l2_cache_size: 6291456 shared_memory_size_per_multiprocessor: 102400 memory_size: 45768966144 bandwidth: 696096000 } outputs { dtype: DT_FLOAT shape { unknown_rank: true } }\n",
      "/tmp/ipykernel_1151387/2546239800.py:15: FutureWarning: The frame.append method is deprecated and will be removed from pandas in a future version. Use pandas.concat instead.\n",
      "  df = df.append({\n"
     ]
    }
   ],
   "source": [
    "df = record_time(artifact_paths, batch, given_names)"
   ]
  },
  {
   "cell_type": "code",
   "execution_count": 37,
   "id": "0280cee9",
   "metadata": {},
   "outputs": [
    {
     "data": {
      "text/html": [
       "<div>\n",
       "<style scoped>\n",
       "    .dataframe tbody tr th:only-of-type {\n",
       "        vertical-align: middle;\n",
       "    }\n",
       "\n",
       "    .dataframe tbody tr th {\n",
       "        vertical-align: top;\n",
       "    }\n",
       "\n",
       "    .dataframe thead th {\n",
       "        text-align: right;\n",
       "    }\n",
       "</style>\n",
       "<table border=\"1\" class=\"dataframe\">\n",
       "  <thead>\n",
       "    <tr style=\"text-align: right;\">\n",
       "      <th></th>\n",
       "      <th>artifact_name</th>\n",
       "      <th>given_name</th>\n",
       "      <th>time</th>\n",
       "    </tr>\n",
       "  </thead>\n",
       "  <tbody>\n",
       "    <tr>\n",
       "      <th>0</th>\n",
       "      <td>model-glamorous-night-50:v19</td>\n",
       "      <td>6t_embed64_dense4_ffdim32</td>\n",
       "      <td>0.358074</td>\n",
       "    </tr>\n",
       "    <tr>\n",
       "      <th>1</th>\n",
       "      <td>model-chocolate-silence-59:v19</td>\n",
       "      <td>6t_embed64_dense4_no_fusion</td>\n",
       "      <td>0.283374</td>\n",
       "    </tr>\n",
       "  </tbody>\n",
       "</table>\n",
       "</div>"
      ],
      "text/plain": [
       "                    artifact_name                   given_name      time\n",
       "0    model-glamorous-night-50:v19    6t_embed64_dense4_ffdim32  0.358074\n",
       "1  model-chocolate-silence-59:v19  6t_embed64_dense4_no_fusion  0.283374"
      ]
     },
     "execution_count": 37,
     "metadata": {},
     "output_type": "execute_result"
    }
   ],
   "source": [
    "df"
   ]
  },
  {
   "cell_type": "markdown",
   "id": "7ad15ca7",
   "metadata": {},
   "source": [
    "## baseline"
   ]
  },
  {
   "cell_type": "code",
   "execution_count": 10,
   "id": "77abef24",
   "metadata": {},
   "outputs": [
    {
     "name": "stderr",
     "output_type": "stream",
     "text": [
      "\u001b[34m\u001b[1mwandb\u001b[0m:   4 of 4 files downloaded.  \n"
     ]
    }
   ],
   "source": [
    "baseline_path = \"prosit-compms/transforming-prosit-first-pool/model-classic-star-15:v19\"\n",
    "baseline_artifact = run.use_artifact(baseline_path)\n",
    "baseline_dir = baseline_artifact.download()"
   ]
  },
  {
   "cell_type": "code",
   "execution_count": 11,
   "id": "d24a456b",
   "metadata": {},
   "outputs": [],
   "source": [
    "baseline = PrositIntensityPredictor(seq_length=30,embedding_output_dim=16,\n",
    "        recurrent_layers_sizes=(256, 512))"
   ]
  },
  {
   "cell_type": "code",
   "execution_count": 12,
   "id": "c7b1d2b6",
   "metadata": {},
   "outputs": [
    {
     "name": "stderr",
     "output_type": "stream",
     "text": [
      "2023-08-24 13:54:25.114390: W tensorflow/core/util/tensor_slice_reader.cc:96] Could not open ./artifacts/model-classic-star-15:v19: FAILED_PRECONDITION: artifacts/model-classic-star-15:v19; Is a directory: perhaps your file is in a different file format and you need to use a different restore operator?\n"
     ]
    },
    {
     "data": {
      "text/plain": [
       "<tensorflow.python.checkpoint.checkpoint.CheckpointLoadStatus at 0x7fc5116f0760>"
      ]
     },
     "execution_count": 12,
     "metadata": {},
     "output_type": "execute_result"
    }
   ],
   "source": [
    "baseline.load_weights(baseline_dir)"
   ]
  },
  {
   "cell_type": "code",
   "execution_count": 38,
   "id": "5f7fe96f",
   "metadata": {
    "scrolled": true
   },
   "outputs": [
    {
     "name": "stdout",
     "output_type": "stream",
     "text": [
      "WARNING:tensorflow:Layers in a Sequential model should only have a single input tensor. Received: inputs=[<tf.Tensor: shape=(1024, 1), dtype=float32, numpy=\n",
      "array([[0.21534173],\n",
      "       [0.21220897],\n",
      "       [0.24663639],\n",
      "       ...,\n",
      "       [0.32626745],\n",
      "       [0.21299644],\n",
      "       [0.24857906]], dtype=float32)>, <tf.Tensor: shape=(1024, 6), dtype=float32, numpy=\n",
      "array([[0., 1., 0., 0., 0., 0.],\n",
      "       [0., 0., 0., 1., 0., 0.],\n",
      "       [0., 1., 0., 0., 0., 0.],\n",
      "       ...,\n",
      "       [0., 1., 0., 0., 0., 0.],\n",
      "       [0., 0., 1., 0., 0., 0.],\n",
      "       [0., 1., 0., 0., 0., 0.]], dtype=float32)>]. Consider rewriting this model with the Functional API.\n",
      "WARNING:tensorflow:Layers in a Sequential model should only have a single input tensor. Received: inputs=[<tf.Tensor: shape=(1024, 512), dtype=float32, numpy=\n",
      "array([[-0.15172893,  0.04987135, -0.35561872, ..., -0.3890507 ,\n",
      "        -0.8873333 , -0.11872212],\n",
      "       [-0.09067769,  0.12253203, -0.09175467, ...,  0.25554445,\n",
      "        -0.73951197,  0.01048607],\n",
      "       [ 0.06030523,  0.3424019 , -0.16427863, ..., -0.38893914,\n",
      "        -0.8969771 , -0.04029872],\n",
      "       ...,\n",
      "       [ 0.4602992 ,  0.6751278 ,  0.16786389, ...,  0.31491935,\n",
      "        -0.8998191 , -0.30336973],\n",
      "       [ 0.55587864,  0.01062334,  0.05179136, ..., -0.3331563 ,\n",
      "        -0.93493694,  0.20514537],\n",
      "       [ 0.15441947,  0.11636624, -0.15640458, ..., -0.45511952,\n",
      "        -0.9313457 ,  0.65519166]], dtype=float32)>, <tf.Tensor: shape=(1024, 512), dtype=float32, numpy=\n",
      "array([[ 0.10301557,  0.13835913,  0.19608724, ..., -0.44377163,\n",
      "         0.02338649,  0.13198973],\n",
      "       [-0.20072216,  0.04176058, -0.23002261, ..., -0.46393812,\n",
      "         0.01139256, -0.38071752],\n",
      "       [ 0.10055176,  0.1459714 ,  0.19202621, ..., -0.45319623,\n",
      "         0.01790107,  0.13028187],\n",
      "       ...,\n",
      "       [ 0.09428246,  0.16534127,  0.18169266, ..., -0.47717762,\n",
      "         0.00394313,  0.12593606],\n",
      "       [-0.17708702,  0.11936739, -0.16695368, ..., -0.43893015,\n",
      "        -0.05247619,  0.02195057],\n",
      "       [ 0.10039882,  0.14644395,  0.19177411, ..., -0.45378125,\n",
      "         0.01756056,  0.13017584]], dtype=float32)>]. Consider rewriting this model with the Functional API.\n"
     ]
    }
   ],
   "source": [
    "start_time = time.time()\n",
    "baseline(batch)\n",
    "end_time = time.time()\n",
    "time_dff = end_time - start_time\n",
    "model_name = baseline_path.split(\"/\")[-1]"
   ]
  },
  {
   "cell_type": "code",
   "execution_count": 39,
   "id": "e0d2d91d",
   "metadata": {},
   "outputs": [
    {
     "name": "stderr",
     "output_type": "stream",
     "text": [
      "/tmp/ipykernel_1151387/174103341.py:1: FutureWarning: The frame.append method is deprecated and will be removed from pandas in a future version. Use pandas.concat instead.\n",
      "  df = df.append({\n"
     ]
    }
   ],
   "source": [
    "df = df.append({\n",
    "        \"artifact_name\": model_name,\n",
    "        \"given_name\": \"baseline\",\n",
    "        \"time\": time_dff\n",
    "    }, ignore_index=True\n",
    ")"
   ]
  },
  {
   "cell_type": "code",
   "execution_count": 43,
   "id": "c9c5e271",
   "metadata": {},
   "outputs": [
    {
     "data": {
      "image/png": "[encoded data removed]",
      "text/plain": [
       "<Figure size 640x480 with 1 Axes>"
      ]
     },
     "metadata": {},
     "output_type": "display_data"
    }
   ],
   "source": [
    "ax = sns.barplot(x=\"given_name\", y=\"time\", data=df)\n",
    "\n",
    "for p in ax.patches:\n",
    "    ax.annotate(format(p.get_height(), '.5f'), \n",
    "    (p.get_x() + p.get_width() / 2., p.get_height()), \n",
    "    ha = 'center', va = 'center', \n",
    "    xytext = (0, 10), \n",
    "    textcoords = 'offset points')\n",
    "ax.set_xticklabels(ax.get_xticklabels(), rotation=45, ha='right')\n",
    "ax.yaxis.set_visible(False)\n",
    "ax.grid(False, axis='y')\n",
    "sns.despine(bottom = False, left = True)"
   ]
  },
  {
   "cell_type": "code",
   "execution_count": 44,
   "id": "ca469e8f",
   "metadata": {},
   "outputs": [
    {
     "name": "stdout",
     "output_type": "stream",
     "text": [
      "Thu Aug 24 16:38:54 2023       \r\n",
      "+-----------------------------------------------------------------------------+\r\n",
      "| NVIDIA-SMI 525.85.12    Driver Version: 525.85.12    CUDA Version: 12.0     |\r\n",
      "|-------------------------------+----------------------+----------------------+\r\n",
      "| GPU  Name        Persistence-M| Bus-Id        Disp.A | Volatile Uncorr. ECC |\r\n",
      "| Fan  Temp  Perf  Pwr:Usage/Cap|         Memory-Usage | GPU-Util  Compute M. |\r\n",
      "|                               |                      |               MIG M. |\r\n",
      "|===============================+======================+======================|\r\n",
      "|   0  NVIDIA A40          Off  | 00000000:21:00.0 Off |                    0 |\r\n",
      "|  0%   69C    P0   277W / 300W |   9468MiB / 46068MiB |     95%      Default |\r\n",
      "|                               |                      |                  N/A |\r\n",
      "+-------------------------------+----------------------+----------------------+\r\n",
      "|   1  NVIDIA A40          Off  | 00000000:81:00.0 Off |                    0 |\r\n",
      "|  0%   67C    P0   267W / 300W |  44452MiB / 46068MiB |     95%      Default |\r\n",
      "|                               |                      |                  N/A |\r\n",
      "+-------------------------------+----------------------+----------------------+\r\n",
      "|   2  NVIDIA A40          Off  | 00000000:E2:00.0 Off |                    0 |\r\n",
      "|  0%   29C    P0    69W / 300W |  44924MiB / 46068MiB |      0%      Default |\r\n",
      "|                               |                      |                  N/A |\r\n",
      "+-------------------------------+----------------------+----------------------+\r\n",
      "                                                                               \r\n",
      "+-----------------------------------------------------------------------------+\r\n",
      "| Processes:                                                                  |\r\n",
      "|  GPU   GI   CI        PID   Type   Process name                  GPU Memory |\r\n",
      "|        ID   ID                                                   Usage      |\r\n",
      "|=============================================================================|\r\n",
      "|    0   N/A  N/A    594860      C   ray::ImplicitFunc.train           348MiB |\r\n",
      "|    0   N/A  N/A   1855400      C   .../envs/prosit-t/bin/python     9118MiB |\r\n",
      "|    1   N/A  N/A   1047637      C   python                          44450MiB |\r\n",
      "|    2   N/A  N/A   1151387      C   .../envs/prosit-t/bin/python    44922MiB |\r\n",
      "+-----------------------------------------------------------------------------+\r\n"
     ]
    }
   ],
   "source": [
    "!nvidia-smi"
   ]
  },
  {
   "cell_type": "code",
   "execution_count": null,
   "id": "d5866971",
   "metadata": {},
   "outputs": [],
   "source": []
  }
 ],
 "metadata": {
  "kernelspec": {
   "display_name": "Python 3 (ipykernel)",
   "language": "python",
   "name": "python3"
  },
  "language_info": {
   "codemirror_mode": {
    "name": "ipython",
    "version": 3
   },
   "file_extension": ".py",
   "mimetype": "text/x-python",
   "name": "python",
   "nbconvert_exporter": "python",
   "pygments_lexer": "ipython3",
   "version": "3.9.16"
  }
 },
 "nbformat": 4,
 "nbformat_minor": 5
}
