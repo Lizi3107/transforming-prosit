{
 "cells": [
  {
   "cell_type": "code",
   "execution_count": 29,
   "id": "8e3492ef",
   "metadata": {},
   "outputs": [],
   "source": [
    "import time\n",
    "import tensorflow as tf\n",
    "import wandb\n",
    "import pandas as pd\n",
    "from prosit_t.wandb_agent.train_utils import get_proteometools_data\n",
    "import seaborn as sns\n",
    "from dlomix.losses import masked_spectral_distance, masked_pearson_correlation_distance"
   ]
  },
  {
   "cell_type": "code",
   "execution_count": 3,
   "id": "16e80ea0",
   "metadata": {},
   "outputs": [],
   "source": [
    "data_config = {\n",
    "    \"data_source\": \"/cmnfs/home/l.mamisashvili/transforming-prosit/prosit_t/data/first_pool_copy.json\",\n",
    "    \"fragmentation\": \"HCD\",\n",
    "    \"batch_size\": 1024,\n",
    "    \"seq_length\": 30,\n",
    "}"
   ]
  },
  {
   "cell_type": "code",
   "execution_count": 4,
   "id": "f3d08c10",
   "metadata": {},
   "outputs": [
    {
     "name": "stderr",
     "output_type": "stream",
     "text": [
      "\u001b[34m\u001b[1mwandb\u001b[0m: Currently logged in as: \u001b[33mmamisashvili-lizi\u001b[0m (\u001b[33mprosit-compms\u001b[0m). Use \u001b[1m`wandb login --relogin`\u001b[0m to force relogin\n"
     ]
    },
    {
     "data": {
      "text/html": [
       "wandb version 0.15.5 is available!  To upgrade, please run:\n",
       " $ pip install wandb --upgrade"
      ],
      "text/plain": [
       "<IPython.core.display.HTML object>"
      ]
     },
     "metadata": {},
     "output_type": "display_data"
    },
    {
     "data": {
      "text/html": [
       "Tracking run with wandb version 0.15.3"
      ],
      "text/plain": [
       "<IPython.core.display.HTML object>"
      ]
     },
     "metadata": {},
     "output_type": "display_data"
    },
    {
     "data": {
      "text/html": [
       "Run data is saved locally in <code>/cmnfs/home/l.mamisashvili/transforming-prosit/notebooks/wandb/run-20230724_130530-a4sjrpqv</code>"
      ],
      "text/plain": [
       "<IPython.core.display.HTML object>"
      ]
     },
     "metadata": {},
     "output_type": "display_data"
    },
    {
     "data": {
      "text/html": [
       "Syncing run <strong><a href='https://wandb.ai/prosit-compms/transforming-prosit-big-data/runs/a4sjrpqv' target=\"_blank\">dauntless-gorge-38</a></strong> to <a href='https://wandb.ai/prosit-compms/transforming-prosit-big-data' target=\"_blank\">Weights & Biases</a> (<a href='https://wandb.me/run' target=\"_blank\">docs</a>)<br/>"
      ],
      "text/plain": [
       "<IPython.core.display.HTML object>"
      ]
     },
     "metadata": {},
     "output_type": "display_data"
    },
    {
     "data": {
      "text/html": [
       " View project at <a href='https://wandb.ai/prosit-compms/transforming-prosit-big-data' target=\"_blank\">https://wandb.ai/prosit-compms/transforming-prosit-big-data</a>"
      ],
      "text/plain": [
       "<IPython.core.display.HTML object>"
      ]
     },
     "metadata": {},
     "output_type": "display_data"
    },
    {
     "data": {
      "text/html": [
       " View run at <a href='https://wandb.ai/prosit-compms/transforming-prosit-big-data/runs/a4sjrpqv' target=\"_blank\">https://wandb.ai/prosit-compms/transforming-prosit-big-data/runs/a4sjrpqv</a>"
      ],
      "text/plain": [
       "<IPython.core.display.HTML object>"
      ]
     },
     "metadata": {},
     "output_type": "display_data"
    }
   ],
   "source": [
    "project_name = \"transforming-prosit-big-data\"\n",
    "run = wandb.init(project=project_name)"
   ]
  },
  {
   "cell_type": "code",
   "execution_count": 39,
   "id": "64b32805",
   "metadata": {},
   "outputs": [],
   "source": [
    "artifact_paths = [\n",
    "#     \"prosit-compms/transforming-prosit-big-data/model-worthy-bee-27:v19\",\n",
    "    \"prosit-compms/transforming-prosit-big-data/model-dark-terrain-23:v19\",\n",
    "    \"prosit-compms/transforming-prosit-big-data/model-bright-gorge-11:v5\",\n",
    "    \"mamisashvili-lizi/transforming-prosit/model-youthful-glitter-3974:v19\",\n",
    "    \"mamisashvili-lizi/transforming-prosit/model-dazzling-jazz-3969:v19\"\n",
    "]"
   ]
  },
  {
   "cell_type": "code",
   "execution_count": 31,
   "id": "371c76a5",
   "metadata": {},
   "outputs": [],
   "source": [
    "def record_time(artifact_paths, batch):\n",
    "    time_dict = {}\n",
    "    for path in artifact_paths:\n",
    "        artifact = run.use_artifact(path)\n",
    "        model_dir = artifact.download()\n",
    "        model = tf.keras.models.load_model(model_dir, custom_objects={\n",
    "            \"masked_spectral_distance\": masked_spectral_distance,\n",
    "            \"masked_pearson_correlation_distance\": masked_pearson_correlation_distance\n",
    "        })\n",
    "        start_time = time.time()\n",
    "        model(batch)\n",
    "        end_time = time.time()\n",
    "        time_dff = end_time - start_time\n",
    "        model_name = path.split(\"/\")[-1]\n",
    "        time_dict[model_name] = [time_dff]\n",
    "    return pd.DataFrame.from_dict(time_dict)"
   ]
  },
  {
   "cell_type": "code",
   "execution_count": 32,
   "id": "044b4435",
   "metadata": {
    "scrolled": true
   },
   "outputs": [],
   "source": [
    "_, val_data = get_proteometools_data(data_config)"
   ]
  },
  {
   "cell_type": "code",
   "execution_count": 35,
   "id": "daee0de7",
   "metadata": {},
   "outputs": [],
   "source": [
    "batch = [i[0] for i in val_data.take(1)][0]"
   ]
  },
  {
   "cell_type": "code",
   "execution_count": 42,
   "id": "517dad6c",
   "metadata": {
    "scrolled": true
   },
   "outputs": [
    {
     "name": "stderr",
     "output_type": "stream",
     "text": [
      "\u001b[34m\u001b[1mwandb\u001b[0m:   4 of 4 files downloaded.  \n",
      "2023-07-24 16:06:30.093697: W tensorflow/core/grappler/costs/op_level_cost_estimator.cc:690] Error in PredictCost() for the op: op: \"Softmax\" attr { key: \"T\" value { type: DT_FLOAT } } inputs { dtype: DT_FLOAT shape { unknown_rank: true } } device { type: \"GPU\" vendor: \"NVIDIA\" model: \"NVIDIA A40\" frequency: 1740 num_cores: 84 environment { key: \"architecture\" value: \"8.6\" } environment { key: \"cuda\" value: \"11020\" } environment { key: \"cudnn\" value: \"8100\" } num_registers: 65536 l1_cache_size: 24576 l2_cache_size: 6291456 shared_memory_size_per_multiprocessor: 102400 memory_size: 24564662272 bandwidth: 696096000 } outputs { dtype: DT_FLOAT shape { unknown_rank: true } }\n",
      "\u001b[34m\u001b[1mwandb\u001b[0m:   4 of 4 files downloaded.  \n",
      "2023-07-24 16:06:34.773840: W tensorflow/core/grappler/costs/op_level_cost_estimator.cc:690] Error in PredictCost() for the op: op: \"Softmax\" attr { key: \"T\" value { type: DT_FLOAT } } inputs { dtype: DT_FLOAT shape { unknown_rank: true } } device { type: \"GPU\" vendor: \"NVIDIA\" model: \"NVIDIA A40\" frequency: 1740 num_cores: 84 environment { key: \"architecture\" value: \"8.6\" } environment { key: \"cuda\" value: \"11020\" } environment { key: \"cudnn\" value: \"8100\" } num_registers: 65536 l1_cache_size: 24576 l2_cache_size: 6291456 shared_memory_size_per_multiprocessor: 102400 memory_size: 24564662272 bandwidth: 696096000 } outputs { dtype: DT_FLOAT shape { unknown_rank: true } }\n",
      "\u001b[34m\u001b[1mwandb\u001b[0m: Downloading large artifact model-youthful-glitter-3974:v19, 507.30MB. 4 files... \n",
      "\u001b[34m\u001b[1mwandb\u001b[0m:   4 of 4 files downloaded.  \n",
      "Done. 0:0:0.8\n",
      "2023-07-24 16:06:38.323552: W tensorflow/core/grappler/costs/op_level_cost_estimator.cc:690] Error in PredictCost() for the op: op: \"Softmax\" attr { key: \"T\" value { type: DT_FLOAT } } inputs { dtype: DT_FLOAT shape { unknown_rank: true } } device { type: \"GPU\" vendor: \"NVIDIA\" model: \"NVIDIA A40\" frequency: 1740 num_cores: 84 environment { key: \"architecture\" value: \"8.6\" } environment { key: \"cuda\" value: \"11020\" } environment { key: \"cudnn\" value: \"8100\" } num_registers: 65536 l1_cache_size: 24576 l2_cache_size: 6291456 shared_memory_size_per_multiprocessor: 102400 memory_size: 24564662272 bandwidth: 696096000 } outputs { dtype: DT_FLOAT shape { unknown_rank: true } }\n",
      "\u001b[34m\u001b[1mwandb\u001b[0m: Downloading large artifact model-dazzling-jazz-3969:v19, 135.74MB. 4 files... \n",
      "\u001b[34m\u001b[1mwandb\u001b[0m:   4 of 4 files downloaded.  \n",
      "Done. 0:0:0.3\n",
      "2023-07-24 16:06:42.043681: W tensorflow/core/grappler/costs/op_level_cost_estimator.cc:690] Error in PredictCost() for the op: op: \"Softmax\" attr { key: \"T\" value { type: DT_FLOAT } } inputs { dtype: DT_FLOAT shape { unknown_rank: true } } device { type: \"GPU\" vendor: \"NVIDIA\" model: \"NVIDIA A40\" frequency: 1740 num_cores: 84 environment { key: \"architecture\" value: \"8.6\" } environment { key: \"cuda\" value: \"11020\" } environment { key: \"cudnn\" value: \"8100\" } num_registers: 65536 l1_cache_size: 24576 l2_cache_size: 6291456 shared_memory_size_per_multiprocessor: 102400 memory_size: 24564662272 bandwidth: 696096000 } outputs { dtype: DT_FLOAT shape { unknown_rank: true } }\n"
     ]
    }
   ],
   "source": [
    "df = record_time(artifact_paths, batch)"
   ]
  },
  {
   "cell_type": "code",
   "execution_count": 51,
   "id": "8ba1ece0",
   "metadata": {},
   "outputs": [
    {
     "data": {
      "text/plain": [
       "[Text(0, 0, 'model-dark-terrain-23:v19'),\n",
       " Text(1, 0, 'model-bright-gorge-11:v5'),\n",
       " Text(2, 0, 'model-youthful-glitter-3974:v19'),\n",
       " Text(3, 0, 'model-dazzling-jazz-3969:v19')]"
      ]
     },
     "execution_count": 51,
     "metadata": {},
     "output_type": "execute_result"
    },
    {
     "data": {
      "image/png": "[encoded data removed]",
      "text/plain": [
       "<Figure size 640x480 with 1 Axes>"
      ]
     },
     "metadata": {},
     "output_type": "display_data"
    }
   ],
   "source": [
    "plt = sns.barplot(df)\n",
    "plt.set_xticklabels(plt.get_xticklabels(), rotation=45, ha='right')\n"
   ]
  }
 ],
 "metadata": {
  "kernelspec": {
   "display_name": "Python 3 (ipykernel)",
   "language": "python",
   "name": "python3"
  },
  "language_info": {
   "codemirror_mode": {
    "name": "ipython",
    "version": 3
   },
   "file_extension": ".py",
   "mimetype": "text/x-python",
   "name": "python",
   "nbconvert_exporter": "python",
   "pygments_lexer": "ipython3",
   "version": "3.9.16"
  }
 },
 "nbformat": 4,
 "nbformat_minor": 5
}
