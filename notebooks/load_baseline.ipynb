{
 "cells": [
  {
   "cell_type": "code",
   "execution_count": 6,
   "id": "a02bd0ec",
   "metadata": {},
   "outputs": [],
   "source": [
    "import tensorflow as tf\n",
    "from tensorflow.data import Dataset\n",
    "from dlomix.losses import masked_spectral_distance, masked_pearson_correlation_distance\n",
    "import wandb\n",
    "from dlomix.models import PrositIntensityPredictor\n",
    "from wandb.keras import WandbCallback"
   ]
  },
  {
   "cell_type": "code",
   "execution_count": 2,
   "id": "d36f9162",
   "metadata": {},
   "outputs": [],
   "source": [
    "project_name = \"transforming-prosit-big-data\""
   ]
  },
  {
   "cell_type": "code",
   "execution_count": 3,
   "id": "be5c4c68",
   "metadata": {},
   "outputs": [
    {
     "name": "stderr",
     "output_type": "stream",
     "text": [
      "\u001b[34m\u001b[1mwandb\u001b[0m: Currently logged in as: \u001b[33mmamisashvili-lizi\u001b[0m (\u001b[33mprosit-compms\u001b[0m). Use \u001b[1m`wandb login --relogin`\u001b[0m to force relogin\n"
     ]
    },
    {
     "data": {
      "text/html": [
       "wandb version 0.15.7 is available!  To upgrade, please run:\n",
       " $ pip install wandb --upgrade"
      ],
      "text/plain": [
       "<IPython.core.display.HTML object>"
      ]
     },
     "metadata": {},
     "output_type": "display_data"
    },
    {
     "data": {
      "text/html": [
       "Tracking run with wandb version 0.15.3"
      ],
      "text/plain": [
       "<IPython.core.display.HTML object>"
      ]
     },
     "metadata": {},
     "output_type": "display_data"
    },
    {
     "data": {
      "text/html": [
       "Run data is saved locally in <code>/cmnfs/home/l.mamisashvili/transforming-prosit/notebooks/wandb/run-20230728_074740-l4jfmk8x</code>"
      ],
      "text/plain": [
       "<IPython.core.display.HTML object>"
      ]
     },
     "metadata": {},
     "output_type": "display_data"
    },
    {
     "data": {
      "text/html": [
       "Syncing run <strong><a href='https://wandb.ai/prosit-compms/transforming-prosit-big-data/runs/l4jfmk8x' target=\"_blank\">fallen-morning-94</a></strong> to <a href='https://wandb.ai/prosit-compms/transforming-prosit-big-data' target=\"_blank\">Weights & Biases</a> (<a href='https://wandb.me/run' target=\"_blank\">docs</a>)<br/>"
      ],
      "text/plain": [
       "<IPython.core.display.HTML object>"
      ]
     },
     "metadata": {},
     "output_type": "display_data"
    },
    {
     "data": {
      "text/html": [
       " View project at <a href='https://wandb.ai/prosit-compms/transforming-prosit-big-data' target=\"_blank\">https://wandb.ai/prosit-compms/transforming-prosit-big-data</a>"
      ],
      "text/plain": [
       "<IPython.core.display.HTML object>"
      ]
     },
     "metadata": {},
     "output_type": "display_data"
    },
    {
     "data": {
      "text/html": [
       " View run at <a href='https://wandb.ai/prosit-compms/transforming-prosit-big-data/runs/l4jfmk8x' target=\"_blank\">https://wandb.ai/prosit-compms/transforming-prosit-big-data/runs/l4jfmk8x</a>"
      ],
      "text/plain": [
       "<IPython.core.display.HTML object>"
      ]
     },
     "metadata": {},
     "output_type": "display_data"
    }
   ],
   "source": [
    "run = wandb.init(project=project_name)"
   ]
  },
  {
   "cell_type": "code",
   "execution_count": 4,
   "id": "68201eae",
   "metadata": {},
   "outputs": [],
   "source": [
    "model_artifact_name = \"prosit-compms/transforming-prosit-big-data/model-upbeat-fire-90:v19\""
   ]
  },
  {
   "cell_type": "code",
   "execution_count": 8,
   "id": "a02ed648",
   "metadata": {},
   "outputs": [
    {
     "name": "stderr",
     "output_type": "stream",
     "text": [
      "\u001b[34m\u001b[1mwandb\u001b[0m:   4 of 4 files downloaded.  \n"
     ]
    }
   ],
   "source": [
    "model = run.use_artifact(model_artifact_name)\n",
    "model_dir = model.download()"
   ]
  },
  {
   "cell_type": "code",
   "execution_count": 9,
   "id": "27480e54",
   "metadata": {},
   "outputs": [],
   "source": [
    "model = PrositIntensityPredictor(seq_length=30,embedding_output_dim=16,\n",
    "        recurrent_layers_sizes=(256, 512))"
   ]
  },
  {
   "cell_type": "code",
   "execution_count": 10,
   "id": "4a5a8a85",
   "metadata": {},
   "outputs": [
    {
     "name": "stderr",
     "output_type": "stream",
     "text": [
      "2023-07-28 08:05:48.445951: W tensorflow/core/util/tensor_slice_reader.cc:96] Could not open ./artifacts/model-upbeat-fire-90:v19: FAILED_PRECONDITION: artifacts/model-upbeat-fire-90:v19; Is a directory: perhaps your file is in a different file format and you need to use a different restore operator?\n"
     ]
    },
    {
     "data": {
      "text/plain": [
       "<tensorflow.python.checkpoint.checkpoint.CheckpointLoadStatus at 0x7f6bffffc5e0>"
      ]
     },
     "execution_count": 10,
     "metadata": {},
     "output_type": "execute_result"
    }
   ],
   "source": [
    "model.load_weights(model_dir)"
   ]
  },
  {
   "cell_type": "code",
   "execution_count": 15,
   "id": "f141d81a",
   "metadata": {},
   "outputs": [],
   "source": [
    "from dlomix.data import IntensityDataset\n",
    "\n",
    "TRAIN_DATAPATH = 'https://raw.githubusercontent.com/wilhelm-lab/dlomix-resources/main/example_datasets/Intensity/proteomeTools_train_val.csv'\n",
    "BATCH_SIZE = 64\n",
    "int_data = IntensityDataset(data_source=TRAIN_DATAPATH, seq_length=30,\n",
    "                            collision_energy_col='collision_energy', batch_size=BATCH_SIZE, val_ratio=0.2, test=False)"
   ]
  },
  {
   "cell_type": "code",
   "execution_count": 16,
   "id": "6898a598",
   "metadata": {},
   "outputs": [],
   "source": [
    "batch = [i[0] for i in int_data.val_data.take(1)][0]"
   ]
  },
  {
   "cell_type": "code",
   "execution_count": 17,
   "id": "d8d263ee",
   "metadata": {},
   "outputs": [
    {
     "name": "stdout",
     "output_type": "stream",
     "text": [
      "WARNING:tensorflow:Layers in a Sequential model should only have a single input tensor. Received: inputs=[<tf.Tensor 'prosit_intensity_predictor_1/Cast:0' shape=(32, 1) dtype=float32>, <tf.Tensor 'IteratorGetNext:1' shape=(32, 6) dtype=float32>]. Consider rewriting this model with the Functional API.\n",
      "WARNING:tensorflow:Layers in a Sequential model should only have a single input tensor. Received: inputs=[<tf.Tensor 'prosit_intensity_predictor_1/encoder_att/Sum_1:0' shape=(32, 512) dtype=float32>, <tf.Tensor 'prosit_intensity_predictor_1/sequential_5/meta_dense_do/Identity:0' shape=(32, 512) dtype=float32>]. Consider rewriting this model with the Functional API.\n",
      "WARNING:tensorflow:Layers in a Sequential model should only have a single input tensor. Received: inputs=[<tf.Tensor 'prosit_intensity_predictor_1/Cast:0' shape=(32, 1) dtype=float32>, <tf.Tensor 'IteratorGetNext:1' shape=(32, 6) dtype=float32>]. Consider rewriting this model with the Functional API.\n",
      "WARNING:tensorflow:Layers in a Sequential model should only have a single input tensor. Received: inputs=[<tf.Tensor 'prosit_intensity_predictor_1/encoder_att/Sum_1:0' shape=(32, 512) dtype=float32>, <tf.Tensor 'prosit_intensity_predictor_1/sequential_5/meta_dense_do/Identity:0' shape=(32, 512) dtype=float32>]. Consider rewriting this model with the Functional API.\n"
     ]
    },
    {
     "name": "stderr",
     "output_type": "stream",
     "text": [
      "2023-07-28 08:11:42.547402: I tensorflow/stream_executor/cuda/cuda_blas.cc:1614] TensorFloat-32 will be used for the matrix multiplication. This will only be logged once.\n",
      "2023-07-28 08:11:45.156120: I tensorflow/stream_executor/cuda/cuda_dnn.cc:384] Loaded cuDNN version 8801\n"
     ]
    },
    {
     "name": "stdout",
     "output_type": "stream",
     "text": [
      "2/2 [==============================] - 6s 5ms/step\n"
     ]
    },
    {
     "data": {
      "text/plain": [
       "array([[ 3.8942376e-01, -6.6739689e-03, -2.5656414e-03, ...,\n",
       "         5.5417750e-02,  2.3561168e-02,  2.8940304e-03],\n",
       "       [ 8.8465363e-02, -2.6688171e-03,  6.2772981e-03, ...,\n",
       "        -5.2634105e-03, -1.2254994e-03, -8.9235837e-06],\n",
       "       [ 2.0679609e-01, -5.9504653e-03, -3.2184611e-04, ...,\n",
       "        -2.7970611e-03, -2.1006195e-03,  1.6501448e-03],\n",
       "       ...,\n",
       "       [ 1.1669327e-01, -4.5414069e-03, -2.9422487e-03, ...,\n",
       "        -3.1002155e-03, -8.6860458e-04,  1.5268062e-03],\n",
       "       [ 1.9214045e-01, -1.0262341e-02, -3.3900246e-03, ...,\n",
       "        -2.4697027e-04, -2.7772663e-03,  2.3312496e-03],\n",
       "       [ 5.2495338e-02, -6.2475097e-03,  2.9272414e-03, ...,\n",
       "         1.1687269e-03, -1.6118909e-03,  6.5638305e-04]], dtype=float32)"
      ]
     },
     "execution_count": 17,
     "metadata": {},
     "output_type": "execute_result"
    }
   ],
   "source": [
    "model.predict(batch)"
   ]
  },
  {
   "cell_type": "code",
   "execution_count": 18,
   "id": "7759a36e",
   "metadata": {},
   "outputs": [
    {
     "name": "stdout",
     "output_type": "stream",
     "text": [
      "Model: \"prosit_intensity_predictor_1\"\n",
      "_________________________________________________________________\n",
      " Layer (type)                Output Shape              Param #   \n",
      "=================================================================\n",
      " string_lookup_1 (StringLook  multiple                 0         \n",
      " up)                                                             \n",
      "                                                                 \n",
      " embedding_1 (Embedding)     multiple                  352       \n",
      "                                                                 \n",
      " sequential_5 (Sequential)   multiple                  4096      \n",
      "                                                                 \n",
      " sequential_6 (Sequential)   (32, 30, 512)             1996800   \n",
      "                                                                 \n",
      " sequential_7 (Sequential)   (32, 29, 512)             1576806   \n",
      "                                                                 \n",
      " encoder_att (AttentionLayer  multiple                 542       \n",
      " )                                                               \n",
      "                                                                 \n",
      " sequential_8 (Sequential)   multiple                  0         \n",
      "                                                                 \n",
      " sequential_9 (Sequential)   (32, 174)                 3078      \n",
      "                                                                 \n",
      "=================================================================\n",
      "Total params: 3,581,674\n",
      "Trainable params: 3,581,674\n",
      "Non-trainable params: 0\n",
      "_________________________________________________________________\n"
     ]
    }
   ],
   "source": [
    "model.summary()"
   ]
  },
  {
   "cell_type": "code",
   "execution_count": 22,
   "id": "815d830e",
   "metadata": {},
   "outputs": [],
   "source": [
    "dict_ = {\n",
    "    \"train\": \"dd\",\n",
    "    \"val\": \"ee\"\n",
    "}"
   ]
  },
  {
   "cell_type": "code",
   "execution_count": 27,
   "id": "66ab561f",
   "metadata": {},
   "outputs": [],
   "source": [
    "train, val = dict_.values()"
   ]
  },
  {
   "cell_type": "code",
   "execution_count": 28,
   "id": "9d519d06",
   "metadata": {},
   "outputs": [
    {
     "data": {
      "text/plain": [
       "'dd'"
      ]
     },
     "execution_count": 28,
     "metadata": {},
     "output_type": "execute_result"
    }
   ],
   "source": [
    "train"
   ]
  },
  {
   "cell_type": "code",
   "execution_count": null,
   "id": "8fc92b36",
   "metadata": {},
   "outputs": [],
   "source": []
  }
 ],
 "metadata": {
  "kernelspec": {
   "display_name": "Python 3 (ipykernel)",
   "language": "python",
   "name": "python3"
  },
  "language_info": {
   "codemirror_mode": {
    "name": "ipython",
    "version": 3
   },
   "file_extension": ".py",
   "mimetype": "text/x-python",
   "name": "python",
   "nbconvert_exporter": "python",
   "pygments_lexer": "ipython3",
   "version": "3.9.16"
  }
 },
 "nbformat": 4,
 "nbformat_minor": 5
}
