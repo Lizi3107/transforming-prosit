{
 "cells": [
  {
   "cell_type": "code",
   "execution_count": 1,
   "id": "545169fb",
   "metadata": {},
   "outputs": [],
   "source": [
    "%load_ext autoreload\n",
    "\n",
    "%autoreload 2"
   ]
  },
  {
   "cell_type": "code",
   "execution_count": 2,
   "id": "a7440606",
   "metadata": {},
   "outputs": [
    {
     "name": "stderr",
     "output_type": "stream",
     "text": [
      "2023-10-02 15:16:17.327120: I tensorflow/core/platform/cpu_feature_guard.cc:182] This TensorFlow binary is optimized to use available CPU instructions in performance-critical operations.\n",
      "To enable the following instructions: AVX2 FMA, in other operations, rebuild TensorFlow with the appropriate compiler flags.\n",
      "2023-10-02 15:16:57.054652: W tensorflow/compiler/tf2tensorrt/utils/py_utils.cc:38] TF-TRT Warning: Could not find TensorRT\n",
      "\u001b[34m\u001b[1mwandb\u001b[0m: \u001b[32m\u001b[41mERROR\u001b[0m Unable to patch Tensorflow/Keras\n",
      "exception while trying to patch_tf_keras\n",
      "Traceback (most recent call last):\n",
      "  File \"/cmnfs/home/l.mamisashvili/miniconda3/envs/prosit-t/lib/python3.9/site-packages/wandb/integration/keras/keras.py\", line 86, in patch_tf_keras\n",
      "    from keras.engine import training\n",
      "ModuleNotFoundError: No module named 'keras.engine'\n",
      "\u001b[34m\u001b[1mwandb\u001b[0m: \u001b[32m\u001b[41mERROR\u001b[0m Unable to patch Tensorflow/Keras\n",
      "exception while trying to patch_tf_keras\n",
      "Traceback (most recent call last):\n",
      "  File \"/cmnfs/home/l.mamisashvili/miniconda3/envs/prosit-t/lib/python3.9/site-packages/wandb/integration/keras/keras.py\", line 86, in patch_tf_keras\n",
      "    from keras.engine import training\n",
      "ModuleNotFoundError: No module named 'keras.engine'\n",
      "\u001b[34m\u001b[1mwandb\u001b[0m: \u001b[32m\u001b[41mERROR\u001b[0m Unable to patch Tensorflow/Keras\n",
      "exception while trying to patch_tf_keras\n",
      "Traceback (most recent call last):\n",
      "  File \"/cmnfs/home/l.mamisashvili/miniconda3/envs/prosit-t/lib/python3.9/site-packages/wandb/integration/keras/keras.py\", line 86, in patch_tf_keras\n",
      "    from keras.engine import training\n",
      "ModuleNotFoundError: No module named 'keras.engine'\n"
     ]
    }
   ],
   "source": [
    "import tensorflow as tf\n",
    "import wandb\n",
    "import pandas as pd\n",
    "from prosit_t.wandb_agent.train_utils import get_proteometools_data\n",
    "from dlomix.losses import masked_spectral_distance\n",
    "import os\n",
    "from prosit_t.models import PrositTransformerV2\n",
    "from dlomix.models import PrositIntensityPredictor\n",
    "import numpy as np\n",
    "import tensorflow.keras.backend as K\n",
    "from prosit_t.inference.visualization import compare_spectra, compare_multiple_spectra"
   ]
  },
  {
   "cell_type": "code",
   "execution_count": 4,
   "id": "614865f6",
   "metadata": {},
   "outputs": [],
   "source": [
    "os.environ[\"CUDA_VISIBLE_DEVICES\"] = \"2\"\n",
    "physical_devices = tf.config.list_physical_devices(\"GPU\")\n",
    "tf.config.experimental.set_memory_growth(physical_devices[0], enable=True)"
   ]
  },
  {
   "cell_type": "code",
   "execution_count": 5,
   "id": "29f47264",
   "metadata": {},
   "outputs": [],
   "source": [
    "data_config = {\n",
    "    \"dataset\": \"proteometools\",\n",
    "    \"data_source\": {\n",
    "        \"train\": \"/cmnfs/proj/prosit/Transformer/first_pool_train.parquet\",\n",
    "        \"val\": \"/cmnfs/proj/prosit/Transformer/first_pool_test.parquet\",\n",
    "    },\n",
    "    \"fragmentation\": \"HCD\",\n",
    "    \"batch_size\": 1024,\n",
    "    \"seq_length\": 30,\n",
    "}"
   ]
  },
  {
   "cell_type": "code",
   "execution_count": 6,
   "id": "8a5514ca",
   "metadata": {},
   "outputs": [
    {
     "name": "stderr",
     "output_type": "stream",
     "text": [
      "\u001b[34m\u001b[1mwandb\u001b[0m: Currently logged in as: \u001b[33mmamisashvili-lizi\u001b[0m (\u001b[33mprosit-compms\u001b[0m). Use \u001b[1m`wandb login --relogin`\u001b[0m to force relogin\n"
     ]
    },
    {
     "data": {
      "text/html": [
       "wandb version 0.15.11 is available!  To upgrade, please run:\n",
       " $ pip install wandb --upgrade"
      ],
      "text/plain": [
       "<IPython.core.display.HTML object>"
      ]
     },
     "metadata": {},
     "output_type": "display_data"
    },
    {
     "data": {
      "text/html": [
       "Tracking run with wandb version 0.15.3"
      ],
      "text/plain": [
       "<IPython.core.display.HTML object>"
      ]
     },
     "metadata": {},
     "output_type": "display_data"
    },
    {
     "data": {
      "text/html": [
       "Run data is saved locally in <code>/cmnfs/home/l.mamisashvili/transforming-prosit/notebooks/wandb/run-20231002_152159-3fnlqrsx</code>"
      ],
      "text/plain": [
       "<IPython.core.display.HTML object>"
      ]
     },
     "metadata": {},
     "output_type": "display_data"
    },
    {
     "data": {
      "text/html": [
       "Syncing run <strong><a href='https://wandb.ai/prosit-compms/transforming-prosit-first-pool/runs/3fnlqrsx' target=\"_blank\">crimson-leaf-161</a></strong> to <a href='https://wandb.ai/prosit-compms/transforming-prosit-first-pool' target=\"_blank\">Weights & Biases</a> (<a href='https://wandb.me/run' target=\"_blank\">docs</a>)<br/>"
      ],
      "text/plain": [
       "<IPython.core.display.HTML object>"
      ]
     },
     "metadata": {},
     "output_type": "display_data"
    },
    {
     "data": {
      "text/html": [
       " View project at <a href='https://wandb.ai/prosit-compms/transforming-prosit-first-pool' target=\"_blank\">https://wandb.ai/prosit-compms/transforming-prosit-first-pool</a>"
      ],
      "text/plain": [
       "<IPython.core.display.HTML object>"
      ]
     },
     "metadata": {},
     "output_type": "display_data"
    },
    {
     "data": {
      "text/html": [
       " View run at <a href='https://wandb.ai/prosit-compms/transforming-prosit-first-pool/runs/3fnlqrsx' target=\"_blank\">https://wandb.ai/prosit-compms/transforming-prosit-first-pool/runs/3fnlqrsx</a>"
      ],
      "text/plain": [
       "<IPython.core.display.HTML object>"
      ]
     },
     "metadata": {},
     "output_type": "display_data"
    }
   ],
   "source": [
    "project_name = \"transforming-prosit-first-pool\"\n",
    "run = wandb.init(project=project_name)"
   ]
  },
  {
   "cell_type": "code",
   "execution_count": 7,
   "id": "6e125067",
   "metadata": {},
   "outputs": [
    {
     "name": "stderr",
     "output_type": "stream",
     "text": [
      "2023-10-02 15:23:07.795144: I tensorflow/core/common_runtime/gpu/gpu_device.cc:1639] Created device /job:localhost/replica:0/task:0/device:GPU:0 with 43640 MB memory:  -> device: 0, name: NVIDIA A40, pci bus id: 0000:e2:00.0, compute capability: 8.6\n"
     ]
    }
   ],
   "source": [
    "_, val_data = get_proteometools_data(data_config)"
   ]
  },
  {
   "cell_type": "code",
   "execution_count": 8,
   "id": "d8009619",
   "metadata": {},
   "outputs": [],
   "source": [
    "batch_idx = 0\n",
    "sample_idx = 456\n",
    "batch_x, batch_y = [x for x in val_data.skip(batch_idx).take(1)][0]"
   ]
  },
  {
   "cell_type": "code",
   "execution_count": 9,
   "id": "4f020826",
   "metadata": {},
   "outputs": [
    {
     "data": {
      "text/plain": [
       "{'sequence': <tf.Tensor: shape=(1024, 30), dtype=string, numpy=\n",
       " array([[b'T', b'A', b'A', ..., b'', b'', b''],\n",
       "        [b'W', b'I', b'I', ..., b'', b'', b''],\n",
       "        [b'F', b'E', b'L', ..., b'', b'', b''],\n",
       "        ...,\n",
       "        [b'Q', b'L', b'E', ..., b'', b'', b''],\n",
       "        [b'A', b'I', b'E', ..., b'', b'', b''],\n",
       "        [b'A', b'I', b'G', ..., b'', b'', b'']], dtype=object)>,\n",
       " 'collision_energy': <tf.Tensor: shape=(1024, 1), dtype=float64, numpy=\n",
       " array([[0.21534173],\n",
       "        [0.21220896],\n",
       "        [0.24663639],\n",
       "        ...,\n",
       "        [0.32626746],\n",
       "        [0.21299643],\n",
       "        [0.24857905]])>,\n",
       " 'precursor_charge': <tf.Tensor: shape=(1024, 6), dtype=float32, numpy=\n",
       " array([[0., 1., 0., 0., 0., 0.],\n",
       "        [0., 0., 0., 1., 0., 0.],\n",
       "        [0., 1., 0., 0., 0., 0.],\n",
       "        ...,\n",
       "        [0., 1., 0., 0., 0., 0.],\n",
       "        [0., 0., 1., 0., 0., 0.],\n",
       "        [0., 1., 0., 0., 0., 0.]], dtype=float32)>}"
      ]
     },
     "execution_count": 9,
     "metadata": {},
     "output_type": "execute_result"
    }
   ],
   "source": [
    "batch_x"
   ]
  },
  {
   "cell_type": "code",
   "execution_count": 19,
   "id": "ea708f4f",
   "metadata": {},
   "outputs": [
    {
     "data": {
      "text/plain": [
       "18"
      ]
     },
     "execution_count": 19,
     "metadata": {},
     "output_type": "execute_result"
    }
   ],
   "source": [
    "arr = np.array(test_seq)\n",
    "len(arr[arr != b''])"
   ]
  },
  {
   "cell_type": "code",
   "execution_count": 21,
   "id": "ac6db754",
   "metadata": {},
   "outputs": [
    {
     "name": "stdout",
     "output_type": "stream",
     "text": [
      "index in batch tf.Tensor([[7]], shape=(1, 1), dtype=int64) batch index 121\n",
      "tf.Tensor([0.3144403], shape=(1,), dtype=float64)\n",
      "tf.Tensor([0. 0. 1. 0. 0. 0.], shape=(6,), dtype=float32)\n",
      "tf.Tensor(\n",
      "[b'V' b'R' b'E' b'E' b'V' b'P' b'L' b'E' b'L' b'V' b'E' b'A' b'H' b'V'\n",
      " b'K' b'' b'' b'' b'' b'' b'' b'' b'' b'' b'' b'' b'' b'' b'' b''], shape=(30,), dtype=string)\n",
      "index in batch tf.Tensor([[1004]], shape=(1, 1), dtype=int64) batch index 600\n",
      "tf.Tensor([0.3144403], shape=(1,), dtype=float64)\n",
      "tf.Tensor([0. 0. 1. 0. 0. 0.], shape=(6,), dtype=float32)\n",
      "tf.Tensor(\n",
      "[b'V' b'R' b'E' b'E' b'V' b'P' b'L' b'E' b'L' b'V' b'E' b'A' b'H' b'V'\n",
      " b'K' b'' b'' b'' b'' b'' b'' b'' b'' b'' b'' b'' b'' b'' b'' b''], shape=(30,), dtype=string)\n"
     ]
    }
   ],
   "source": [
    "test_seq = [b'V', b'R', b'E', b'E', b'V', b'P', b'L', b'E', b'L', b'V', b'E',\n",
    "        b'A', b'H', b'V', b'K', b'', b'', b'', b'', b'', b'', b'', b'',\n",
    "        b'', b'', b'', b'', b'', b'', b'']\n",
    "for batch_idx, batch in enumerate(val_data):\n",
    "    x, _ = batch\n",
    "\n",
    "    mask = (\n",
    "        tf.math.less_equal(\n",
    "            abs(tf.squeeze(x[\"collision_energy\"]) - 0.3144403), 1e-5\n",
    "        )\n",
    "        & tf.reduce_all(\n",
    "            tf.equal(x[\"precursor_charge\"], [0.0, 0.0, 1.0, 0.0, 0.0, 0.0]), axis=1\n",
    "        )\n",
    "        & tf.reduce_all(tf.equal(x[\"sequence\"], test_seq), axis=1)\n",
    "    )\n",
    "\n",
    "    indices = tf.where(mask)\n",
    "    if len(indices) > 0:\n",
    "        print(\"index in batch\", indices, \"batch index\", batch_idx)\n",
    "        print(x[\"collision_energy\"][int(tf.squeeze(indices))])\n",
    "        print(x[\"precursor_charge\"][int(tf.squeeze(indices))])\n",
    "        print(x[\"sequence\"][int(tf.squeeze(indices))])"
   ]
  },
  {
   "cell_type": "code",
   "execution_count": null,
   "id": "469450e9",
   "metadata": {},
   "outputs": [],
   "source": []
  }
 ],
 "metadata": {
  "kernelspec": {
   "display_name": "Python 3 (ipykernel)",
   "language": "python",
   "name": "python3"
  },
  "language_info": {
   "codemirror_mode": {
    "name": "ipython",
    "version": 3
   },
   "file_extension": ".py",
   "mimetype": "text/x-python",
   "name": "python",
   "nbconvert_exporter": "python",
   "pygments_lexer": "ipython3",
   "version": "3.9.16"
  }
 },
 "nbformat": 4,
 "nbformat_minor": 5
}
