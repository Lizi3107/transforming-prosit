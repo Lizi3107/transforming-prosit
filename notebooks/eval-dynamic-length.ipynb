{
 "cells": [
  {
   "cell_type": "code",
   "execution_count": 3,
   "id": "5c9e83ef",
   "metadata": {},
   "outputs": [
    {
     "name": "stdout",
     "output_type": "stream",
     "text": [
      "The autoreload extension is already loaded. To reload it, use:\n",
      "  %reload_ext autoreload\n"
     ]
    }
   ],
   "source": [
    "%load_ext autoreload\n",
    "\n",
    "%autoreload 2"
   ]
  },
  {
   "cell_type": "code",
   "execution_count": 4,
   "id": "a100d63c",
   "metadata": {},
   "outputs": [],
   "source": [
    "from prosit_t.eval import prosit_transformer_eval\n",
    "import wandb\n",
    "import tensorflow as tf\n",
    "import plotly.io as pio\n",
    "import plotly.express as px\n",
    "import plotly.graph_objects as go\n",
    "import numpy as np\n",
    "import os\n",
    "from prosit_t.data.parquet_to_tfdataset import get_tfdatasets\n",
    "from prosit_t.models import PrositTransformerV2, ProstTransformerDynamicLen\n",
    "import pandas as pd\n",
    "from dlomix.models import PrositIntensityPredictor"
   ]
  },
  {
   "cell_type": "code",
   "execution_count": 5,
   "id": "de29b2c2",
   "metadata": {},
   "outputs": [],
   "source": [
    "pio.renderers.default = \"iframe\""
   ]
  },
  {
   "cell_type": "code",
   "execution_count": 6,
   "id": "f167886e",
   "metadata": {},
   "outputs": [],
   "source": [
    "os.environ[\"CUDA_VISIBLE_DEVICES\"] = \"2\"\n",
    "physical_devices = tf.config.list_physical_devices(\"GPU\")\n",
    "tf.config.experimental.set_memory_growth(physical_devices[0], enable=True)"
   ]
  },
  {
   "cell_type": "code",
   "execution_count": null,
   "id": "f5515f7a",
   "metadata": {},
   "outputs": [
    {
     "name": "stderr",
     "output_type": "stream",
     "text": [
      "\u001b[34m\u001b[1mwandb\u001b[0m: W&B API key is configured. Use \u001b[1m`wandb login --relogin`\u001b[0m to force relogin\n"
     ]
    }
   ],
   "source": [
    "project_name = \"transforming-prosit-first-pool\"\n",
    "run = wandb.init(project=project_name)"
   ]
  },
  {
   "cell_type": "code",
   "execution_count": null,
   "id": "94917e2c",
   "metadata": {},
   "outputs": [],
   "source": [
    "batch_size = 1024"
   ]
  },
  {
   "cell_type": "code",
   "execution_count": null,
   "id": "f35c7e30",
   "metadata": {},
   "outputs": [],
   "source": [
    "_, val_data = get_tfdatasets(batch_size=batch_size, encode_ox=False)"
   ]
  },
  {
   "cell_type": "code",
   "execution_count": null,
   "id": "1e7f78c7",
   "metadata": {},
   "outputs": [],
   "source": [
    "artifact_path = \"prosit-compms/transforming-prosit-first-pool/model-glorious-dawn-885:v94\"\n",
    "transformer = ProstTransformerDynamicLen(embedding_output_dim=64,num_heads=16,meta_embedding_dim=256,\n",
    "        num_transformers=6)\n",
    "transformer = prosit_transformer_eval.load_model(run,artifact_path,transformer)"
   ]
  },
  {
   "cell_type": "code",
   "execution_count": null,
   "id": "a0640348",
   "metadata": {},
   "outputs": [],
   "source": [
    "data_list = prosit_transformer_eval.dataset_to_list(val_data)\n",
    "df = pd.DataFrame(data_list)"
   ]
  },
  {
   "cell_type": "code",
   "execution_count": null,
   "id": "d2d94d60",
   "metadata": {},
   "outputs": [],
   "source": [
    "df = prosit_transformer_eval.process_df(df)"
   ]
  },
  {
   "cell_type": "code",
   "execution_count": null,
   "id": "558f1c7e",
   "metadata": {
    "scrolled": true
   },
   "outputs": [],
   "source": [
    "transformer_loss = prosit_transformer_eval.compute_losses(transformer, val_data, len(df), 1024)"
   ]
  },
  {
   "cell_type": "code",
   "execution_count": null,
   "id": "6e3e986e",
   "metadata": {},
   "outputs": [],
   "source": [
    "df[\"Transformer_loss\"] = transformer_loss"
   ]
  },
  {
   "cell_type": "code",
   "execution_count": null,
   "id": "48a61257",
   "metadata": {},
   "outputs": [],
   "source": [
    "violin_sequence_length = prosit_transformer_eval.violin_plot_per_feature_val(\n",
    "    df,\n",
    "    \"Transformer_loss\",\n",
    "    \"sequence_length\",\n",
    "    title=\"<b>Spectral Distance Stratified on Sequence Length</b>\",\n",
    "    xaxis_title=\"<b>Sequence Length</b>\",\n",
    "    yaxis_title=\"<b>Spectral Distance</b>\",\n",
    "    title_font=dict(\n",
    "        size=18,\n",
    "    ),\n",
    ")\n",
    "violin_sequence_length.show()"
   ]
  },
  {
   "cell_type": "code",
   "execution_count": null,
   "id": "10ca23ec",
   "metadata": {
    "scrolled": false
   },
   "outputs": [],
   "source": [
    "violin_charge = prosit_transformer_eval.violin_plot_per_feature_val(\n",
    "    df,\n",
    "    \"Transformer_loss\",\n",
    "    \"precursor_charge_int\",\n",
    "    title=\"<b>Spectral Distance Stratified on Precursor Charge</b>\",\n",
    "    xaxis_title=\"<b>Precursor Charge</b>\",\n",
    "    yaxis_title=\"<b>Spectral Distance</b>\",\n",
    "    title_font=dict(\n",
    "        size=18,\n",
    "    )\n",
    ")\n",
    "violin_charge.show()"
   ]
  },
  {
   "cell_type": "code",
   "execution_count": null,
   "id": "4b720b83",
   "metadata": {},
   "outputs": [],
   "source": [
    "df.collision_energy_range = df.collision_energy_range.apply(str)"
   ]
  },
  {
   "cell_type": "code",
   "execution_count": null,
   "id": "5fe63893",
   "metadata": {},
   "outputs": [],
   "source": [
    "violin_ce = prosit_transformer_eval.violin_plot_per_feature_val(\n",
    "    df,\n",
    "    \"Transformer_loss\",\n",
    "    \"collision_energy_range\",\n",
    "    title=\"<b>Spectral Distance Stratified on Collision Energy Ranges</b>\",\n",
    "    xaxis_title=\"<b>Collision Energy Range</b>\",\n",
    "    yaxis_title=\"<b>Spectral Distance</b>\"\n",
    ")\n",
    "violin_ce.show()"
   ]
  },
  {
   "cell_type": "code",
   "execution_count": 107,
   "id": "3abcfa17",
   "metadata": {},
   "outputs": [
    {
     "data": {
      "text/html": [
       "<iframe\n",
       "    scrolling=\"no\"\n",
       "    width=\"100%\"\n",
       "    height=\"545px\"\n",
       "    src=\"iframe_figures/figure_107.html\"\n",
       "    frameborder=\"0\"\n",
       "    allowfullscreen\n",
       "></iframe>\n"
      ]
     },
     "metadata": {},
     "output_type": "display_data"
    }
   ],
   "source": [
    "fig = px.histogram(df[df.collision_energy_range == \"(0.282, 0.292]\"][\"sequence_length\"])\n",
    "fig.update_layout(xaxis_title='Sequence Length')\n",
    "fig.update_traces(name='Sequence Length when NCE is in (0.282, 0.292]')\n",
    "fig.show()"
   ]
  },
  {
   "cell_type": "code",
   "execution_count": 33,
   "id": "f85c1df7",
   "metadata": {},
   "outputs": [
    {
     "data": {
      "text/html": [
       "<iframe\n",
       "    scrolling=\"no\"\n",
       "    width=\"100%\"\n",
       "    height=\"545px\"\n",
       "    src=\"iframe_figures/figure_33.html\"\n",
       "    frameborder=\"0\"\n",
       "    allowfullscreen\n",
       "></iframe>\n"
      ]
     },
     "metadata": {},
     "output_type": "display_data"
    }
   ],
   "source": [
    "charge_histograms_transformer = prosit_transformer_eval.histogram_per_feature_val(\n",
    "    df,\n",
    "    \"Transformer_loss\",\n",
    "    \"precursor_charge_int\",\n",
    "    2,\n",
    "    3,\n",
    "    title=\"Transformer: Histograms for Precursor Charge Groups\",\n",
    "    xaxis_title=\"Spectral Distance\",\n",
    "    yaxis_title=\"Count\"\n",
    ")\n",
    "charge_histograms_transformer.show()"
   ]
  },
  {
   "cell_type": "code",
   "execution_count": 34,
   "id": "f1aa2b94",
   "metadata": {},
   "outputs": [
    {
     "data": {
      "text/html": [
       "<iframe\n",
       "    scrolling=\"no\"\n",
       "    width=\"100%\"\n",
       "    height=\"545px\"\n",
       "    src=\"iframe_figures/figure_34.html\"\n",
       "    frameborder=\"0\"\n",
       "    allowfullscreen\n",
       "></iframe>\n"
      ]
     },
     "metadata": {},
     "output_type": "display_data"
    }
   ],
   "source": [
    "charge_histograms_baseline = prosit_transformer_eval.histogram_per_feature_val(\n",
    "    df,\n",
    "    \"Baseline_loss\",\n",
    "    \"precursor_charge_int\",\n",
    "    2,\n",
    "    3,\n",
    "    title=\"Baseline: Histograms for Precursor Charge Groups\",\n",
    "    xaxis_title=\"Spectral Distance\",\n",
    "    yaxis_title=\"Count\"\n",
    ")\n",
    "charge_histograms_baseline.show()"
   ]
  },
  {
   "cell_type": "code",
   "execution_count": 19,
   "id": "5c6c8e56",
   "metadata": {},
   "outputs": [
    {
     "data": {
      "image/png": "[encoded data removed]",
      "text/plain": [
       "<Figure size 640x480 with 1 Axes>"
      ]
     },
     "metadata": {},
     "output_type": "display_data"
    }
   ],
   "source": [
    "prosit_transformer_eval.kde_per_model(\n",
    "    df,\n",
    "    [\"Transformer_loss\", \"Baseline_loss\", \"TransformerSmall_loss\"],\n",
    "    title=\"Density Estimation Plots for the Transformers and Baseline\",\n",
    "    xaxis_title=\"Spectral Distance\",\n",
    "    yaxis_title=\"Density\",\n",
    "#     colors=[\"#4028ff\",\"#f8a500\", \"#288f3b\"],\n",
    "    alpha=0.5,\n",
    "    fill=False,\n",
    "    linewidth=1.8\n",
    ")"
   ]
  },
  {
   "cell_type": "code",
   "execution_count": null,
   "id": "5a144133",
   "metadata": {},
   "outputs": [],
   "source": []
  }
 ],
 "metadata": {
  "kernelspec": {
   "display_name": "Python 3 (ipykernel)",
   "language": "python",
   "name": "python3"
  },
  "language_info": {
   "codemirror_mode": {
    "name": "ipython",
    "version": 3
   },
   "file_extension": ".py",
   "mimetype": "text/x-python",
   "name": "python",
   "nbconvert_exporter": "python",
   "pygments_lexer": "ipython3",
   "version": "3.9.16"
  }
 },
 "nbformat": 4,
 "nbformat_minor": 5
}
