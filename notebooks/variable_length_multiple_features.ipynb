{
 "cells": [
  {
   "cell_type": "code",
   "execution_count": 1,
   "id": "2e0e1f8a",
   "metadata": {},
   "outputs": [],
   "source": [
    "%load_ext autoreload\n",
    "\n",
    "%autoreload 2"
   ]
  },
  {
   "cell_type": "code",
   "execution_count": 2,
   "id": "6d0187b9",
   "metadata": {},
   "outputs": [
    {
     "name": "stderr",
     "output_type": "stream",
     "text": [
      "2023-09-19 07:44:56.786645: I tensorflow/core/platform/cpu_feature_guard.cc:182] This TensorFlow binary is optimized to use available CPU instructions in performance-critical operations.\n",
      "To enable the following instructions: AVX2 FMA, in other operations, rebuild TensorFlow with the appropriate compiler flags.\n",
      "2023-09-19 07:44:57.690443: W tensorflow/compiler/tf2tensorrt/utils/py_utils.cc:38] TF-TRT Warning: Could not find TensorRT\n"
     ]
    }
   ],
   "source": [
    "import tensorflow as tf\n",
    "import os\n",
    "import numpy as np\n",
    "from prosit_t.models import PrositTransformerV2\n",
    "from dlomix.losses import masked_spectral_distance"
   ]
  },
  {
   "cell_type": "code",
   "execution_count": 3,
   "id": "0f687660",
   "metadata": {},
   "outputs": [],
   "source": [
    "tf.config.run_functions_eagerly(True)\n",
    "\n",
    "os.environ[\"CUDA_VISIBLE_DEVICES\"] = \"1\"\n",
    "physical_devices = tf.config.list_physical_devices(\"GPU\")\n",
    "tf.config.experimental.set_memory_growth(physical_devices[0], enable=True)"
   ]
  },
  {
   "cell_type": "code",
   "execution_count": 4,
   "id": "d8d5063b",
   "metadata": {},
   "outputs": [
    {
     "name": "stderr",
     "output_type": "stream",
     "text": [
      "2023-09-19 07:44:59.965140: I tensorflow/core/common_runtime/gpu/gpu_device.cc:1639] Created device /job:localhost/replica:0/task:0/device:GPU:0 with 43640 MB memory:  -> device: 0, name: NVIDIA A40, pci bus id: 0000:81:00.0, compute capability: 8.6\n"
     ]
    }
   ],
   "source": [
    "sequences_data = [\n",
    "    [1, 2, 3],\n",
    "    [4, 5],\n",
    "    [6, 7, 8, 9],\n",
    "    [1,7],\n",
    "    [4,5,6,7,8,9,9],\n",
    "    [9,9,9,9,9,9,9,9,9]\n",
    "]\n",
    "\n",
    "labels_data = []\n",
    "for i in sequences_data:\n",
    "    labels_data.append(i*6)\n",
    "\n",
    "charge_data = [\n",
    "    [0,1,0,0,0,0],\n",
    "    [0,0,1,0,0,0],\n",
    "    [0,0,1,0,0,0],\n",
    "    [0,0,0,0,1,0],\n",
    "    [0,0,0,0,0,1],\n",
    "    [0,1,0,0,0,0]\n",
    "]\n",
    "ce_data = [\n",
    "    [0.215],\n",
    "    [0.24],\n",
    "    [0.287],\n",
    "    [0.213],\n",
    "    [0.215],\n",
    "    [0.234]\n",
    "]\n",
    "sequences_ragged = tf.ragged.constant(sequences_data, dtype=tf.int32)\n",
    "labels_ragged = tf.ragged.constant(labels_data, dtype=tf.float64)\n",
    "charge_ragged = tf.ragged.constant(charge_data, dtype=tf.int32)\n",
    "ce_ragged = tf.ragged.constant(ce_data, dtype=tf.float64)"
   ]
  },
  {
   "cell_type": "code",
   "execution_count": 5,
   "id": "cb0f04a1",
   "metadata": {},
   "outputs": [],
   "source": [
    "def ragged_to_dense(x,y):\n",
    "    return x, y\n",
    "\n",
    "def merge_tuples(item1, item2):\n",
    "    return ({\n",
    "        \"sequence\": item1[0],\n",
    "        \"collision_energy\": item2[1],\n",
    "        \"precursor_charge\": item2[0],\n",
    "    }, item1[-1])"
   ]
  },
  {
   "cell_type": "code",
   "execution_count": 6,
   "id": "fe28194e",
   "metadata": {},
   "outputs": [
    {
     "name": "stderr",
     "output_type": "stream",
     "text": [
      "/cmnfs/home/l.mamisashvili/miniconda3/envs/prosit-t/lib/python3.9/site-packages/tensorflow/python/data/ops/structured_function.py:265: UserWarning: Even though the `tf.config.experimental_run_functions_eagerly` option is set, this option does not apply to tf.data functions. To force eager execution of tf.data functions, please use `tf.data.experimental.enable_debug_mode()`.\n",
      "  warnings.warn(\n"
     ]
    }
   ],
   "source": [
    "dataset = tf.data.Dataset.from_tensor_slices(\n",
    "            (\n",
    "                sequences_ragged,\n",
    "                labels_ragged,\n",
    "            )\n",
    "        ).map(ragged_to_dense).padded_batch(2).unbatch()"
   ]
  },
  {
   "cell_type": "code",
   "execution_count": 7,
   "id": "ae3bfc37",
   "metadata": {},
   "outputs": [],
   "source": [
    "dataset_meta = tf.data.Dataset.from_tensor_slices(\n",
    "    (\n",
    "        charge_ragged,\n",
    "        ce_ragged\n",
    "    )).map(ragged_to_dense)"
   ]
  },
  {
   "cell_type": "code",
   "execution_count": 8,
   "id": "f38b1076",
   "metadata": {},
   "outputs": [],
   "source": [
    "full = tf.data.Dataset.zip(dataset, dataset_meta).map(merge_tuples).batch(2).prefetch(tf.data.AUTOTUNE)"
   ]
  },
  {
   "cell_type": "code",
   "execution_count": 9,
   "id": "8726a0c5",
   "metadata": {},
   "outputs": [],
   "source": [
    "from prosit_t.models.test_model import TestModel\n",
    "import keras.backend as K"
   ]
  },
  {
   "cell_type": "code",
   "execution_count": 10,
   "id": "67b758f4",
   "metadata": {},
   "outputs": [],
   "source": [
    "test = TestModel(32)"
   ]
  },
  {
   "cell_type": "code",
   "execution_count": 11,
   "id": "6108079d",
   "metadata": {},
   "outputs": [],
   "source": [
    "test.compile(loss=masked_spectral_distance, optimizer='adam')"
   ]
  },
  {
   "cell_type": "code",
   "execution_count": 13,
   "id": "b10e0b0b",
   "metadata": {},
   "outputs": [
    {
     "name": "stdout",
     "output_type": "stream",
     "text": [
      "Epoch 1/10\n",
      "3/3 [==============================] - 1s 17ms/step - loss: 0.8681\n"
     ]
    },
    {
     "name": "stderr",
     "output_type": "stream",
     "text": [
      "2023-09-19 07:45:08.617992: I tensorflow/compiler/xla/stream_executor/cuda/cuda_blas.cc:606] TensorFloat-32 will be used for the matrix multiplication. This will only be logged once.\n"
     ]
    },
    {
     "name": "stdout",
     "output_type": "stream",
     "text": [
      "Epoch 2/10\n",
      "3/3 [==============================] - 0s 18ms/step - loss: 0.7160\n",
      "Epoch 3/10\n",
      "3/3 [==============================] - 0s 16ms/step - loss: 0.5808\n",
      "Epoch 4/10\n",
      "3/3 [==============================] - 0s 17ms/step - loss: 0.4667\n",
      "Epoch 5/10\n",
      "3/3 [==============================] - 0s 17ms/step - loss: 0.3771\n",
      "Epoch 6/10\n",
      "3/3 [==============================] - 0s 16ms/step - loss: 0.3106\n",
      "Epoch 7/10\n",
      "3/3 [==============================] - 0s 16ms/step - loss: 0.2603\n",
      "Epoch 8/10\n",
      "3/3 [==============================] - 0s 17ms/step - loss: 0.2200\n",
      "Epoch 9/10\n",
      "3/3 [==============================] - 0s 17ms/step - loss: 0.1871\n",
      "Epoch 10/10\n",
      "3/3 [==============================] - 0s 16ms/step - loss: 0.1614\n"
     ]
    },
    {
     "data": {
      "text/plain": [
       "<keras.src.callbacks.History at 0x7fc3ca347670>"
      ]
     },
     "execution_count": 13,
     "metadata": {},
     "output_type": "execute_result"
    }
   ],
   "source": [
    "test.fit(full, epochs=10)"
   ]
  },
  {
   "cell_type": "code",
   "execution_count": null,
   "id": "fe8025c8",
   "metadata": {},
   "outputs": [],
   "source": []
  },
  {
   "cell_type": "code",
   "execution_count": null,
   "id": "86526124",
   "metadata": {},
   "outputs": [],
   "source": []
  }
 ],
 "metadata": {
  "kernelspec": {
   "display_name": "Python 3 (ipykernel)",
   "language": "python",
   "name": "python3"
  },
  "language_info": {
   "codemirror_mode": {
    "name": "ipython",
    "version": 3
   },
   "file_extension": ".py",
   "mimetype": "text/x-python",
   "name": "python",
   "nbconvert_exporter": "python",
   "pygments_lexer": "ipython3",
   "version": "3.9.16"
  }
 },
 "nbformat": 4,
 "nbformat_minor": 5
}
