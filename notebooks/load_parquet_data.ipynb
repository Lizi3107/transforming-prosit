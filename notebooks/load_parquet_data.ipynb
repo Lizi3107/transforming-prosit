{
 "cells": [
  {
   "cell_type": "code",
   "execution_count": 1,
   "id": "e026c865",
   "metadata": {},
   "outputs": [
    {
     "name": "stdout",
     "output_type": "stream",
     "text": [
      "\u001b[33mWARNING: Ignoring invalid distribution -rotobuf (/cmnfs/home/l.mamisashvili/miniconda3/envs/prosit-t/lib/python3.9/site-packages)\u001b[0m\u001b[33m\n",
      "\u001b[0m\u001b[33mWARNING: Ignoring invalid distribution -rotobuf (/cmnfs/home/l.mamisashvili/miniconda3/envs/prosit-t/lib/python3.9/site-packages)\u001b[0m\u001b[33m\n",
      "\u001b[0m\u001b[33mWARNING: Skipping dlomix as it is not installed.\u001b[0m\u001b[33m\n",
      "\u001b[0m\u001b[33mWARNING: Ignoring invalid distribution -rotobuf (/cmnfs/home/l.mamisashvili/miniconda3/envs/prosit-t/lib/python3.9/site-packages)\u001b[0m\u001b[33m\n",
      "\u001b[0mFound existing installation: prospect-dataset 0.0.2.dev0\n",
      "Uninstalling prospect-dataset-0.0.2.dev0:\n",
      "  Successfully uninstalled prospect-dataset-0.0.2.dev0\n"
     ]
    }
   ],
   "source": [
    "!pip uninstall dlomix prospect-dataset -y"
   ]
  },
  {
   "cell_type": "code",
   "execution_count": 2,
   "id": "2fc7baf8",
   "metadata": {},
   "outputs": [
    {
     "name": "stdout",
     "output_type": "stream",
     "text": [
      "\u001b[33mWARNING: Ignoring invalid distribution -rotobuf (/cmnfs/home/l.mamisashvili/miniconda3/envs/prosit-t/lib/python3.9/site-packages)\u001b[0m\u001b[33m\n",
      "\u001b[0m\u001b[33mWARNING: Ignoring invalid distribution -rotobuf (/cmnfs/home/l.mamisashvili/miniconda3/envs/prosit-t/lib/python3.9/site-packages)\u001b[0m\u001b[33m\n",
      "\u001b[0mCollecting git+https://github.com/wilhelm-lab/dlomix.git@develop\n",
      "  Cloning https://github.com/wilhelm-lab/dlomix.git (to revision develop) to /tmp/pip-req-build-93dnqntq\n",
      "  Running command git clone --filter=blob:none --quiet https://github.com/wilhelm-lab/dlomix.git /tmp/pip-req-build-93dnqntq\n",
      "  Running command git checkout -b develop --track origin/develop\n",
      "  Switched to a new branch 'develop'\n",
      "  Branch 'develop' set up to track remote branch 'develop' from 'origin'.\n",
      "  Resolved https://github.com/wilhelm-lab/dlomix.git to commit 4ce8b93abed7e0f0d1c4b56d2fa3771086295fac\n",
      "  Installing build dependencies ... \u001b[?25ldone\n",
      "\u001b[?25h  Getting requirements to build wheel ... \u001b[?25ldone\n",
      "\u001b[?25h  Preparing metadata (pyproject.toml) ... \u001b[?25ldone\n",
      "\u001b[?25hCollecting prospect-dataset@ git+https://github.com/wilhelm-lab/PROSPECT.git@develop\n",
      "  Cloning https://github.com/wilhelm-lab/PROSPECT.git (to revision develop) to /tmp/pip-install-4umg1212/prospect-dataset_d2da507ec9fc4841838a112681fb8fb7\n",
      "  Running command git clone --filter=blob:none --quiet https://github.com/wilhelm-lab/PROSPECT.git /tmp/pip-install-4umg1212/prospect-dataset_d2da507ec9fc4841838a112681fb8fb7\n",
      "  Running command git checkout -b develop --track origin/develop\n",
      "  Switched to a new branch 'develop'\n",
      "  Branch 'develop' set up to track remote branch 'develop' from 'origin'.\n",
      "  Resolved https://github.com/wilhelm-lab/PROSPECT.git to commit 2587bc8cbc4892d058e6f6bf40bb4880fa35e35e\n",
      "  Preparing metadata (setup.py) ... \u001b[?25ldone\n",
      "\u001b[?25hRequirement already satisfied: pyarrow in /cmnfs/home/l.mamisashvili/miniconda3/envs/prosit-t/lib/python3.9/site-packages (from dlomix==0.0.5.dev0) (12.0.0)\n",
      "Requirement already satisfied: fpdf in /cmnfs/home/l.mamisashvili/miniconda3/envs/prosit-t/lib/python3.9/site-packages (from dlomix==0.0.5.dev0) (1.7.2)\n",
      "Requirement already satisfied: scikit-learn in /cmnfs/home/l.mamisashvili/miniconda3/envs/prosit-t/lib/python3.9/site-packages (from dlomix==0.0.5.dev0) (1.2.2)\n",
      "Requirement already satisfied: tensorflow==2.10.0 in /cmnfs/home/l.mamisashvili/miniconda3/envs/prosit-t/lib/python3.9/site-packages (from dlomix==0.0.5.dev0) (2.10.0)\n",
      "Requirement already satisfied: pyteomics[xml] in /cmnfs/home/l.mamisashvili/miniconda3/envs/prosit-t/lib/python3.9/site-packages (from dlomix==0.0.5.dev0) (4.6)\n",
      "Requirement already satisfied: matplotlib in /cmnfs/home/l.mamisashvili/miniconda3/envs/prosit-t/lib/python3.9/site-packages (from dlomix==0.0.5.dev0) (3.7.1)\n",
      "Requirement already satisfied: seaborn in /cmnfs/home/l.mamisashvili/miniconda3/envs/prosit-t/lib/python3.9/site-packages (from dlomix==0.0.5.dev0) (0.12.2)\n",
      "Requirement already satisfied: numpy in /cmnfs/home/l.mamisashvili/miniconda3/envs/prosit-t/lib/python3.9/site-packages (from dlomix==0.0.5.dev0) (1.24.3)\n",
      "Requirement already satisfied: pandas in /cmnfs/home/l.mamisashvili/miniconda3/envs/prosit-t/lib/python3.9/site-packages (from dlomix==0.0.5.dev0) (1.5.3)\n",
      "Requirement already satisfied: wrapt>=1.11.0 in /cmnfs/home/l.mamisashvili/miniconda3/envs/prosit-t/lib/python3.9/site-packages (from tensorflow==2.10.0->dlomix==0.0.5.dev0) (1.14.1)\n",
      "Requirement already satisfied: absl-py>=1.0.0 in /cmnfs/home/l.mamisashvili/miniconda3/envs/prosit-t/lib/python3.9/site-packages (from tensorflow==2.10.0->dlomix==0.0.5.dev0) (1.4.0)\n",
      "Requirement already satisfied: astunparse>=1.6.0 in /cmnfs/home/l.mamisashvili/miniconda3/envs/prosit-t/lib/python3.9/site-packages (from tensorflow==2.10.0->dlomix==0.0.5.dev0) (1.6.3)\n",
      "Requirement already satisfied: six>=1.12.0 in /cmnfs/home/l.mamisashvili/miniconda3/envs/prosit-t/lib/python3.9/site-packages (from tensorflow==2.10.0->dlomix==0.0.5.dev0) (1.16.0)\n",
      "Requirement already satisfied: h5py>=2.9.0 in /cmnfs/home/l.mamisashvili/miniconda3/envs/prosit-t/lib/python3.9/site-packages (from tensorflow==2.10.0->dlomix==0.0.5.dev0) (3.8.0)\n",
      "Requirement already satisfied: setuptools in /cmnfs/home/l.mamisashvili/miniconda3/envs/prosit-t/lib/python3.9/site-packages (from tensorflow==2.10.0->dlomix==0.0.5.dev0) (66.0.0)\n",
      "Requirement already satisfied: protobuf<3.20,>=3.9.2 in /cmnfs/home/l.mamisashvili/miniconda3/envs/prosit-t/lib/python3.9/site-packages (from tensorflow==2.10.0->dlomix==0.0.5.dev0) (3.19.6)\n",
      "Requirement already satisfied: typing-extensions>=3.6.6 in /cmnfs/home/l.mamisashvili/miniconda3/envs/prosit-t/lib/python3.9/site-packages (from tensorflow==2.10.0->dlomix==0.0.5.dev0) (4.5.0)\n",
      "Requirement already satisfied: keras-preprocessing>=1.1.1 in /cmnfs/home/l.mamisashvili/miniconda3/envs/prosit-t/lib/python3.9/site-packages (from tensorflow==2.10.0->dlomix==0.0.5.dev0) (1.1.2)\n",
      "Requirement already satisfied: gast<=0.4.0,>=0.2.1 in /cmnfs/home/l.mamisashvili/miniconda3/envs/prosit-t/lib/python3.9/site-packages (from tensorflow==2.10.0->dlomix==0.0.5.dev0) (0.4.0)\n",
      "Requirement already satisfied: tensorflow-estimator<2.11,>=2.10.0 in /cmnfs/home/l.mamisashvili/miniconda3/envs/prosit-t/lib/python3.9/site-packages (from tensorflow==2.10.0->dlomix==0.0.5.dev0) (2.10.0)\n",
      "Requirement already satisfied: opt-einsum>=2.3.2 in /cmnfs/home/l.mamisashvili/miniconda3/envs/prosit-t/lib/python3.9/site-packages (from tensorflow==2.10.0->dlomix==0.0.5.dev0) (3.3.0)\n",
      "Requirement already satisfied: keras<2.11,>=2.10.0 in /cmnfs/home/l.mamisashvili/miniconda3/envs/prosit-t/lib/python3.9/site-packages (from tensorflow==2.10.0->dlomix==0.0.5.dev0) (2.10.0)\n",
      "Requirement already satisfied: tensorflow-io-gcs-filesystem>=0.23.1 in /cmnfs/home/l.mamisashvili/miniconda3/envs/prosit-t/lib/python3.9/site-packages (from tensorflow==2.10.0->dlomix==0.0.5.dev0) (0.32.0)\n",
      "Requirement already satisfied: grpcio<2.0,>=1.24.3 in /cmnfs/home/l.mamisashvili/miniconda3/envs/prosit-t/lib/python3.9/site-packages (from tensorflow==2.10.0->dlomix==0.0.5.dev0) (1.54.2)\n",
      "Requirement already satisfied: flatbuffers>=2.0 in /cmnfs/home/l.mamisashvili/miniconda3/envs/prosit-t/lib/python3.9/site-packages (from tensorflow==2.10.0->dlomix==0.0.5.dev0) (23.5.9)\n",
      "Requirement already satisfied: termcolor>=1.1.0 in /cmnfs/home/l.mamisashvili/miniconda3/envs/prosit-t/lib/python3.9/site-packages (from tensorflow==2.10.0->dlomix==0.0.5.dev0) (2.3.0)\n",
      "Requirement already satisfied: google-pasta>=0.1.1 in /cmnfs/home/l.mamisashvili/miniconda3/envs/prosit-t/lib/python3.9/site-packages (from tensorflow==2.10.0->dlomix==0.0.5.dev0) (0.2.0)\n",
      "Requirement already satisfied: tensorboard<2.11,>=2.10 in /cmnfs/home/l.mamisashvili/miniconda3/envs/prosit-t/lib/python3.9/site-packages (from tensorflow==2.10.0->dlomix==0.0.5.dev0) (2.10.1)\n",
      "Requirement already satisfied: packaging in /cmnfs/home/l.mamisashvili/miniconda3/envs/prosit-t/lib/python3.9/site-packages (from tensorflow==2.10.0->dlomix==0.0.5.dev0) (23.0)\n",
      "Requirement already satisfied: libclang>=13.0.0 in /cmnfs/home/l.mamisashvili/miniconda3/envs/prosit-t/lib/python3.9/site-packages (from tensorflow==2.10.0->dlomix==0.0.5.dev0) (16.0.0)\n",
      "Requirement already satisfied: contourpy>=1.0.1 in /cmnfs/home/l.mamisashvili/miniconda3/envs/prosit-t/lib/python3.9/site-packages (from matplotlib->dlomix==0.0.5.dev0) (1.0.7)\n",
      "Requirement already satisfied: pyparsing>=2.3.1 in /cmnfs/home/l.mamisashvili/miniconda3/envs/prosit-t/lib/python3.9/site-packages (from matplotlib->dlomix==0.0.5.dev0) (3.0.9)\n",
      "Requirement already satisfied: importlib-resources>=3.2.0 in /cmnfs/home/l.mamisashvili/miniconda3/envs/prosit-t/lib/python3.9/site-packages (from matplotlib->dlomix==0.0.5.dev0) (5.12.0)\n",
      "Requirement already satisfied: fonttools>=4.22.0 in /cmnfs/home/l.mamisashvili/miniconda3/envs/prosit-t/lib/python3.9/site-packages (from matplotlib->dlomix==0.0.5.dev0) (4.39.4)\n",
      "Requirement already satisfied: kiwisolver>=1.0.1 in /cmnfs/home/l.mamisashvili/miniconda3/envs/prosit-t/lib/python3.9/site-packages (from matplotlib->dlomix==0.0.5.dev0) (1.4.4)\n",
      "Requirement already satisfied: pillow>=6.2.0 in /cmnfs/home/l.mamisashvili/miniconda3/envs/prosit-t/lib/python3.9/site-packages (from matplotlib->dlomix==0.0.5.dev0) (9.5.0)\n",
      "Requirement already satisfied: cycler>=0.10 in /cmnfs/home/l.mamisashvili/miniconda3/envs/prosit-t/lib/python3.9/site-packages (from matplotlib->dlomix==0.0.5.dev0) (0.11.0)\n",
      "Requirement already satisfied: python-dateutil>=2.7 in /cmnfs/home/l.mamisashvili/miniconda3/envs/prosit-t/lib/python3.9/site-packages (from matplotlib->dlomix==0.0.5.dev0) (2.8.2)\n",
      "Requirement already satisfied: pytz>=2020.1 in /cmnfs/home/l.mamisashvili/miniconda3/envs/prosit-t/lib/python3.9/site-packages (from pandas->dlomix==0.0.5.dev0) (2023.3)\n"
     ]
    },
    {
     "name": "stdout",
     "output_type": "stream",
     "text": [
      "Collecting spectrum_fundamentals@ git+https://github.com/wilhelm-lab/spectrum_fundamentals.git@main\n",
      "  Cloning https://github.com/wilhelm-lab/spectrum_fundamentals.git (to revision main) to /tmp/pip-install-4umg1212/spectrum-fundamentals_77b89b1c0e7e49b1ae370880e493641c\n",
      "  Running command git clone --filter=blob:none --quiet https://github.com/wilhelm-lab/spectrum_fundamentals.git /tmp/pip-install-4umg1212/spectrum-fundamentals_77b89b1c0e7e49b1ae370880e493641c\n",
      "  Running command git checkout -b main --track origin/main\n",
      "  Switched to a new branch 'main'\n",
      "  Branch 'main' set up to track remote branch 'main' from 'origin'.\n",
      "  Resolved https://github.com/wilhelm-lab/spectrum_fundamentals.git to commit a0a8d21bb4196e5a968662664330935b1e512040\n",
      "  Installing build dependencies ... \u001b[?25ldone\n",
      "\u001b[?25h  Getting requirements to build wheel ... \u001b[?25ldone\n",
      "\u001b[?25h  Preparing metadata (pyproject.toml) ... \u001b[?25ldone\n",
      "\u001b[?25hRequirement already satisfied: fastparquet in /cmnfs/home/l.mamisashvili/miniconda3/envs/prosit-t/lib/python3.9/site-packages (from prospect-dataset@ git+https://github.com/wilhelm-lab/PROSPECT.git@develop->dlomix==0.0.5.dev0) (2023.4.0)\n",
      "Requirement already satisfied: requests in /cmnfs/home/l.mamisashvili/miniconda3/envs/prosit-t/lib/python3.9/site-packages (from prospect-dataset@ git+https://github.com/wilhelm-lab/PROSPECT.git@develop->dlomix==0.0.5.dev0) (2.30.0)\n",
      "Requirement already satisfied: bs4 in /cmnfs/home/l.mamisashvili/miniconda3/envs/prosit-t/lib/python3.9/site-packages (from prospect-dataset@ git+https://github.com/wilhelm-lab/PROSPECT.git@develop->dlomix==0.0.5.dev0) (0.0.1)\n",
      "Requirement already satisfied: lxml in /cmnfs/home/l.mamisashvili/miniconda3/envs/prosit-t/lib/python3.9/site-packages (from pyteomics[xml]->dlomix==0.0.5.dev0) (4.9.2)\n",
      "Requirement already satisfied: scipy>=1.3.2 in /cmnfs/home/l.mamisashvili/miniconda3/envs/prosit-t/lib/python3.9/site-packages (from scikit-learn->dlomix==0.0.5.dev0) (1.10.1)\n",
      "Requirement already satisfied: threadpoolctl>=2.0.0 in /cmnfs/home/l.mamisashvili/miniconda3/envs/prosit-t/lib/python3.9/site-packages (from scikit-learn->dlomix==0.0.5.dev0) (3.1.0)\n",
      "Requirement already satisfied: joblib>=1.1.1 in /cmnfs/home/l.mamisashvili/miniconda3/envs/prosit-t/lib/python3.9/site-packages (from scikit-learn->dlomix==0.0.5.dev0) (1.2.0)\n",
      "Requirement already satisfied: wheel<1.0,>=0.23.0 in /cmnfs/home/l.mamisashvili/miniconda3/envs/prosit-t/lib/python3.9/site-packages (from astunparse>=1.6.0->tensorflow==2.10.0->dlomix==0.0.5.dev0) (0.38.4)\n",
      "Requirement already satisfied: zipp>=3.1.0 in /cmnfs/home/l.mamisashvili/miniconda3/envs/prosit-t/lib/python3.9/site-packages (from importlib-resources>=3.2.0->matplotlib->dlomix==0.0.5.dev0) (3.11.0)\n",
      "Requirement already satisfied: markdown>=2.6.8 in /cmnfs/home/l.mamisashvili/miniconda3/envs/prosit-t/lib/python3.9/site-packages (from tensorboard<2.11,>=2.10->tensorflow==2.10.0->dlomix==0.0.5.dev0) (3.4.3)\n",
      "Requirement already satisfied: werkzeug>=1.0.1 in /cmnfs/home/l.mamisashvili/miniconda3/envs/prosit-t/lib/python3.9/site-packages (from tensorboard<2.11,>=2.10->tensorflow==2.10.0->dlomix==0.0.5.dev0) (2.3.4)\n",
      "Requirement already satisfied: tensorboard-plugin-wit>=1.6.0 in /cmnfs/home/l.mamisashvili/miniconda3/envs/prosit-t/lib/python3.9/site-packages (from tensorboard<2.11,>=2.10->tensorflow==2.10.0->dlomix==0.0.5.dev0) (1.8.1)\n",
      "Requirement already satisfied: google-auth<3,>=1.6.3 in /cmnfs/home/l.mamisashvili/miniconda3/envs/prosit-t/lib/python3.9/site-packages (from tensorboard<2.11,>=2.10->tensorflow==2.10.0->dlomix==0.0.5.dev0) (2.18.1)\n",
      "Requirement already satisfied: google-auth-oauthlib<0.5,>=0.4.1 in /cmnfs/home/l.mamisashvili/miniconda3/envs/prosit-t/lib/python3.9/site-packages (from tensorboard<2.11,>=2.10->tensorflow==2.10.0->dlomix==0.0.5.dev0) (0.4.6)\n",
      "Requirement already satisfied: tensorboard-data-server<0.7.0,>=0.6.0 in /cmnfs/home/l.mamisashvili/miniconda3/envs/prosit-t/lib/python3.9/site-packages (from tensorboard<2.11,>=2.10->tensorflow==2.10.0->dlomix==0.0.5.dev0) (0.6.1)\n",
      "Requirement already satisfied: charset-normalizer<4,>=2 in /cmnfs/home/l.mamisashvili/miniconda3/envs/prosit-t/lib/python3.9/site-packages (from requests->prospect-dataset@ git+https://github.com/wilhelm-lab/PROSPECT.git@develop->dlomix==0.0.5.dev0) (3.1.0)\n",
      "Requirement already satisfied: idna<4,>=2.5 in /cmnfs/home/l.mamisashvili/miniconda3/envs/prosit-t/lib/python3.9/site-packages (from requests->prospect-dataset@ git+https://github.com/wilhelm-lab/PROSPECT.git@develop->dlomix==0.0.5.dev0) (3.4)\n",
      "Requirement already satisfied: urllib3<3,>=1.21.1 in /cmnfs/home/l.mamisashvili/miniconda3/envs/prosit-t/lib/python3.9/site-packages (from requests->prospect-dataset@ git+https://github.com/wilhelm-lab/PROSPECT.git@develop->dlomix==0.0.5.dev0) (1.26.15)\n",
      "Requirement already satisfied: certifi>=2017.4.17 in /cmnfs/home/l.mamisashvili/miniconda3/envs/prosit-t/lib/python3.9/site-packages (from requests->prospect-dataset@ git+https://github.com/wilhelm-lab/PROSPECT.git@develop->dlomix==0.0.5.dev0) (2023.5.7)\n",
      "Requirement already satisfied: beautifulsoup4 in /cmnfs/home/l.mamisashvili/miniconda3/envs/prosit-t/lib/python3.9/site-packages (from bs4->prospect-dataset@ git+https://github.com/wilhelm-lab/PROSPECT.git@develop->dlomix==0.0.5.dev0) (4.12.2)\n",
      "Requirement already satisfied: fsspec in /cmnfs/home/l.mamisashvili/miniconda3/envs/prosit-t/lib/python3.9/site-packages (from fastparquet->prospect-dataset@ git+https://github.com/wilhelm-lab/PROSPECT.git@develop->dlomix==0.0.5.dev0) (2023.5.0)\n",
      "Requirement already satisfied: cramjam>=2.3 in /cmnfs/home/l.mamisashvili/miniconda3/envs/prosit-t/lib/python3.9/site-packages (from fastparquet->prospect-dataset@ git+https://github.com/wilhelm-lab/PROSPECT.git@develop->dlomix==0.0.5.dev0) (2.6.2)\n",
      "Requirement already satisfied: rich>=10.3.0 in /cmnfs/home/l.mamisashvili/miniconda3/envs/prosit-t/lib/python3.9/site-packages (from spectrum_fundamentals@ git+https://github.com/wilhelm-lab/spectrum_fundamentals.git@main->prospect-dataset@ git+https://github.com/wilhelm-lab/PROSPECT.git@develop->dlomix==0.0.5.dev0) (13.4.1)\n",
      "Requirement already satisfied: click>=8.0.0 in /cmnfs/home/l.mamisashvili/miniconda3/envs/prosit-t/lib/python3.9/site-packages (from spectrum_fundamentals@ git+https://github.com/wilhelm-lab/spectrum_fundamentals.git@main->prospect-dataset@ git+https://github.com/wilhelm-lab/PROSPECT.git@develop->dlomix==0.0.5.dev0) (8.1.3)\n",
      "Requirement already satisfied: PyYAML>=5.4.1 in /cmnfs/home/l.mamisashvili/miniconda3/envs/prosit-t/lib/python3.9/site-packages (from spectrum_fundamentals@ git+https://github.com/wilhelm-lab/spectrum_fundamentals.git@main->prospect-dataset@ git+https://github.com/wilhelm-lab/PROSPECT.git@develop->dlomix==0.0.5.dev0) (6.0)\n",
      "Requirement already satisfied: moepy<2.0.0,>=1.1.4 in /cmnfs/home/l.mamisashvili/miniconda3/envs/prosit-t/lib/python3.9/site-packages (from spectrum_fundamentals@ git+https://github.com/wilhelm-lab/spectrum_fundamentals.git@main->prospect-dataset@ git+https://github.com/wilhelm-lab/PROSPECT.git@develop->dlomix==0.0.5.dev0) (1.1.4)\n",
      "Requirement already satisfied: rsa<5,>=3.1.4 in /cmnfs/home/l.mamisashvili/miniconda3/envs/prosit-t/lib/python3.9/site-packages (from google-auth<3,>=1.6.3->tensorboard<2.11,>=2.10->tensorflow==2.10.0->dlomix==0.0.5.dev0) (4.9)\n",
      "Requirement already satisfied: cachetools<6.0,>=2.0.0 in /cmnfs/home/l.mamisashvili/miniconda3/envs/prosit-t/lib/python3.9/site-packages (from google-auth<3,>=1.6.3->tensorboard<2.11,>=2.10->tensorflow==2.10.0->dlomix==0.0.5.dev0) (5.3.0)\n",
      "Requirement already satisfied: pyasn1-modules>=0.2.1 in /cmnfs/home/l.mamisashvili/miniconda3/envs/prosit-t/lib/python3.9/site-packages (from google-auth<3,>=1.6.3->tensorboard<2.11,>=2.10->tensorflow==2.10.0->dlomix==0.0.5.dev0) (0.3.0)\n",
      "Requirement already satisfied: requests-oauthlib>=0.7.0 in /cmnfs/home/l.mamisashvili/miniconda3/envs/prosit-t/lib/python3.9/site-packages (from google-auth-oauthlib<0.5,>=0.4.1->tensorboard<2.11,>=2.10->tensorflow==2.10.0->dlomix==0.0.5.dev0) (1.3.1)\n",
      "Requirement already satisfied: importlib-metadata>=4.4 in /cmnfs/home/l.mamisashvili/miniconda3/envs/prosit-t/lib/python3.9/site-packages (from markdown>=2.6.8->tensorboard<2.11,>=2.10->tensorflow==2.10.0->dlomix==0.0.5.dev0) (6.0.0)\n",
      "Requirement already satisfied: tqdm>=4.59.0 in /cmnfs/home/l.mamisashvili/miniconda3/envs/prosit-t/lib/python3.9/site-packages (from moepy<2.0.0,>=1.1.4->spectrum_fundamentals@ git+https://github.com/wilhelm-lab/spectrum_fundamentals.git@main->prospect-dataset@ git+https://github.com/wilhelm-lab/PROSPECT.git@develop->dlomix==0.0.5.dev0) (4.65.0)\n"
     ]
    },
    {
     "name": "stdout",
     "output_type": "stream",
     "text": [
      "Requirement already satisfied: pygments<3.0.0,>=2.13.0 in /cmnfs/home/l.mamisashvili/miniconda3/envs/prosit-t/lib/python3.9/site-packages (from rich>=10.3.0->spectrum_fundamentals@ git+https://github.com/wilhelm-lab/spectrum_fundamentals.git@main->prospect-dataset@ git+https://github.com/wilhelm-lab/PROSPECT.git@develop->dlomix==0.0.5.dev0) (2.15.1)\n",
      "Requirement already satisfied: markdown-it-py<3.0.0,>=2.2.0 in /cmnfs/home/l.mamisashvili/miniconda3/envs/prosit-t/lib/python3.9/site-packages (from rich>=10.3.0->spectrum_fundamentals@ git+https://github.com/wilhelm-lab/spectrum_fundamentals.git@main->prospect-dataset@ git+https://github.com/wilhelm-lab/PROSPECT.git@develop->dlomix==0.0.5.dev0) (2.2.0)\n",
      "Requirement already satisfied: MarkupSafe>=2.1.1 in /cmnfs/home/l.mamisashvili/miniconda3/envs/prosit-t/lib/python3.9/site-packages (from werkzeug>=1.0.1->tensorboard<2.11,>=2.10->tensorflow==2.10.0->dlomix==0.0.5.dev0) (2.1.1)\n",
      "Requirement already satisfied: soupsieve>1.2 in /cmnfs/home/l.mamisashvili/miniconda3/envs/prosit-t/lib/python3.9/site-packages (from beautifulsoup4->bs4->prospect-dataset@ git+https://github.com/wilhelm-lab/PROSPECT.git@develop->dlomix==0.0.5.dev0) (2.4)\n",
      "Requirement already satisfied: mdurl~=0.1 in /cmnfs/home/l.mamisashvili/miniconda3/envs/prosit-t/lib/python3.9/site-packages (from markdown-it-py<3.0.0,>=2.2.0->rich>=10.3.0->spectrum_fundamentals@ git+https://github.com/wilhelm-lab/spectrum_fundamentals.git@main->prospect-dataset@ git+https://github.com/wilhelm-lab/PROSPECT.git@develop->dlomix==0.0.5.dev0) (0.1.2)\n",
      "Requirement already satisfied: pyasn1<0.6.0,>=0.4.6 in /cmnfs/home/l.mamisashvili/miniconda3/envs/prosit-t/lib/python3.9/site-packages (from pyasn1-modules>=0.2.1->google-auth<3,>=1.6.3->tensorboard<2.11,>=2.10->tensorflow==2.10.0->dlomix==0.0.5.dev0) (0.5.0)\n",
      "Requirement already satisfied: oauthlib>=3.0.0 in /cmnfs/home/l.mamisashvili/miniconda3/envs/prosit-t/lib/python3.9/site-packages (from requests-oauthlib>=0.7.0->google-auth-oauthlib<0.5,>=0.4.1->tensorboard<2.11,>=2.10->tensorflow==2.10.0->dlomix==0.0.5.dev0) (3.2.2)\n",
      "Building wheels for collected packages: dlomix, prospect-dataset\n",
      "  Building wheel for dlomix (pyproject.toml) ... \u001b[?25ldone\n",
      "\u001b[?25h  Created wheel for dlomix: filename=dlomix-0.0.5.dev0-py3-none-any.whl size=51095 sha256=ddb988d7fc217078b3efd6412e78cdc40345989a509344d343a9239e414d13e8\n",
      "  Stored in directory: /tmp/pip-ephem-wheel-cache-hxbrp_ia/wheels/5b/a8/4c/8ad8d89f80c3d1e85a18859879789059c4998c2d6fb230613f\n",
      "  Building wheel for prospect-dataset (setup.py) ... \u001b[?25ldone\n",
      "\u001b[?25h  Created wheel for prospect-dataset: filename=prospect_dataset-0.0.2.dev0-py3-none-any.whl size=20969 sha256=ae1146daea22f9e69d2cabd54a23805e7401fa9904a1ac9fd7543637fe6ac75e\n",
      "  Stored in directory: /tmp/pip-ephem-wheel-cache-hxbrp_ia/wheels/9d/be/1f/77a01f0d91ad091762f54b7bb99925bf888d4060b0e43d933d\n",
      "Successfully built dlomix prospect-dataset\n",
      "\u001b[33mWARNING: Ignoring invalid distribution -rotobuf (/cmnfs/home/l.mamisashvili/miniconda3/envs/prosit-t/lib/python3.9/site-packages)\u001b[0m\u001b[33m\n",
      "\u001b[0mInstalling collected packages: prospect-dataset, dlomix\n",
      "\u001b[33mWARNING: Ignoring invalid distribution -rotobuf (/cmnfs/home/l.mamisashvili/miniconda3/envs/prosit-t/lib/python3.9/site-packages)\u001b[0m\u001b[33m\n",
      "\u001b[0m\u001b[33mWARNING: Ignoring invalid distribution -rotobuf (/cmnfs/home/l.mamisashvili/miniconda3/envs/prosit-t/lib/python3.9/site-packages)\u001b[0m\u001b[33m\n",
      "\u001b[0mSuccessfully installed dlomix-0.0.5.dev0 prospect-dataset-0.0.2.dev0\n",
      "\u001b[33mWARNING: Ignoring invalid distribution -rotobuf (/cmnfs/home/l.mamisashvili/miniconda3/envs/prosit-t/lib/python3.9/site-packages)\u001b[0m\u001b[33m\n",
      "\u001b[0m\u001b[33mWARNING: Ignoring invalid distribution -rotobuf (/cmnfs/home/l.mamisashvili/miniconda3/envs/prosit-t/lib/python3.9/site-packages)\u001b[0m\u001b[33m\n",
      "\u001b[0m\u001b[33mWARNING: Ignoring invalid distribution -rotobuf (/cmnfs/home/l.mamisashvili/miniconda3/envs/prosit-t/lib/python3.9/site-packages)\u001b[0m\u001b[33m\n",
      "\u001b[0m"
     ]
    }
   ],
   "source": [
    "!pip install git+https://github.com/wilhelm-lab/dlomix.git@develop"
   ]
  },
  {
   "cell_type": "code",
   "execution_count": 3,
   "id": "763f1a05",
   "metadata": {},
   "outputs": [
    {
     "name": "stdout",
     "output_type": "stream",
     "text": [
      "\u001b[33mWARNING: Ignoring invalid distribution -rotobuf (/cmnfs/home/l.mamisashvili/miniconda3/envs/prosit-t/lib/python3.9/site-packages)\u001b[0m\u001b[33m\n",
      "\u001b[0m\u001b[33mWARNING: Ignoring invalid distribution -rotobuf (/cmnfs/home/l.mamisashvili/miniconda3/envs/prosit-t/lib/python3.9/site-packages)\u001b[0m\u001b[33m\n",
      "\u001b[0mCollecting git+https://github.com/wilhelm-lab/PROSPECT@develop\n",
      "  Cloning https://github.com/wilhelm-lab/PROSPECT (to revision develop) to /tmp/pip-req-build-ahpy1t4i\n",
      "  Running command git clone --filter=blob:none --quiet https://github.com/wilhelm-lab/PROSPECT /tmp/pip-req-build-ahpy1t4i\n",
      "  Running command git checkout -b develop --track origin/develop\n",
      "  Switched to a new branch 'develop'\n",
      "  Branch 'develop' set up to track remote branch 'develop' from 'origin'.\n",
      "  Resolved https://github.com/wilhelm-lab/PROSPECT to commit 2587bc8cbc4892d058e6f6bf40bb4880fa35e35e\n",
      "  Preparing metadata (setup.py) ... \u001b[?25ldone\n",
      "\u001b[?25hCollecting spectrum_fundamentals@ git+https://github.com/wilhelm-lab/spectrum_fundamentals.git@main\n",
      "  Cloning https://github.com/wilhelm-lab/spectrum_fundamentals.git (to revision main) to /tmp/pip-install-e5it7w3x/spectrum-fundamentals_f0bd1f92d7964246873263a8f95ae67a\n",
      "  Running command git clone --filter=blob:none --quiet https://github.com/wilhelm-lab/spectrum_fundamentals.git /tmp/pip-install-e5it7w3x/spectrum-fundamentals_f0bd1f92d7964246873263a8f95ae67a\n",
      "  Running command git checkout -b main --track origin/main\n",
      "  Switched to a new branch 'main'\n",
      "  Branch 'main' set up to track remote branch 'main' from 'origin'.\n",
      "  Resolved https://github.com/wilhelm-lab/spectrum_fundamentals.git to commit a0a8d21bb4196e5a968662664330935b1e512040\n",
      "  Installing build dependencies ... \u001b[?25ldone\n",
      "\u001b[?25h  Getting requirements to build wheel ... \u001b[?25ldone\n",
      "\u001b[?25h  Preparing metadata (pyproject.toml) ... \u001b[?25ldone\n",
      "\u001b[?25hRequirement already satisfied: numpy in /cmnfs/home/l.mamisashvili/miniconda3/envs/prosit-t/lib/python3.9/site-packages (from prospect-dataset==0.0.2.dev0) (1.24.3)\n",
      "Requirement already satisfied: pandas in /cmnfs/home/l.mamisashvili/miniconda3/envs/prosit-t/lib/python3.9/site-packages (from prospect-dataset==0.0.2.dev0) (1.5.3)\n",
      "Requirement already satisfied: fastparquet in /cmnfs/home/l.mamisashvili/miniconda3/envs/prosit-t/lib/python3.9/site-packages (from prospect-dataset==0.0.2.dev0) (2023.4.0)\n",
      "Requirement already satisfied: pyarrow in /cmnfs/home/l.mamisashvili/miniconda3/envs/prosit-t/lib/python3.9/site-packages (from prospect-dataset==0.0.2.dev0) (12.0.0)\n",
      "Requirement already satisfied: requests in /cmnfs/home/l.mamisashvili/miniconda3/envs/prosit-t/lib/python3.9/site-packages (from prospect-dataset==0.0.2.dev0) (2.30.0)\n",
      "Requirement already satisfied: bs4 in /cmnfs/home/l.mamisashvili/miniconda3/envs/prosit-t/lib/python3.9/site-packages (from prospect-dataset==0.0.2.dev0) (0.0.1)\n",
      "Requirement already satisfied: beautifulsoup4 in /cmnfs/home/l.mamisashvili/miniconda3/envs/prosit-t/lib/python3.9/site-packages (from bs4->prospect-dataset==0.0.2.dev0) (4.12.2)\n",
      "Requirement already satisfied: cramjam>=2.3 in /cmnfs/home/l.mamisashvili/miniconda3/envs/prosit-t/lib/python3.9/site-packages (from fastparquet->prospect-dataset==0.0.2.dev0) (2.6.2)\n",
      "Requirement already satisfied: packaging in /cmnfs/home/l.mamisashvili/miniconda3/envs/prosit-t/lib/python3.9/site-packages (from fastparquet->prospect-dataset==0.0.2.dev0) (23.0)\n",
      "Requirement already satisfied: fsspec in /cmnfs/home/l.mamisashvili/miniconda3/envs/prosit-t/lib/python3.9/site-packages (from fastparquet->prospect-dataset==0.0.2.dev0) (2023.5.0)\n",
      "Requirement already satisfied: python-dateutil>=2.8.1 in /cmnfs/home/l.mamisashvili/miniconda3/envs/prosit-t/lib/python3.9/site-packages (from pandas->prospect-dataset==0.0.2.dev0) (2.8.2)\n",
      "Requirement already satisfied: pytz>=2020.1 in /cmnfs/home/l.mamisashvili/miniconda3/envs/prosit-t/lib/python3.9/site-packages (from pandas->prospect-dataset==0.0.2.dev0) (2023.3)\n",
      "Requirement already satisfied: urllib3<3,>=1.21.1 in /cmnfs/home/l.mamisashvili/miniconda3/envs/prosit-t/lib/python3.9/site-packages (from requests->prospect-dataset==0.0.2.dev0) (1.26.15)\n",
      "Requirement already satisfied: charset-normalizer<4,>=2 in /cmnfs/home/l.mamisashvili/miniconda3/envs/prosit-t/lib/python3.9/site-packages (from requests->prospect-dataset==0.0.2.dev0) (3.1.0)\n",
      "Requirement already satisfied: idna<4,>=2.5 in /cmnfs/home/l.mamisashvili/miniconda3/envs/prosit-t/lib/python3.9/site-packages (from requests->prospect-dataset==0.0.2.dev0) (3.4)\n",
      "Requirement already satisfied: certifi>=2017.4.17 in /cmnfs/home/l.mamisashvili/miniconda3/envs/prosit-t/lib/python3.9/site-packages (from requests->prospect-dataset==0.0.2.dev0) (2023.5.7)\n",
      "Requirement already satisfied: moepy<2.0.0,>=1.1.4 in /cmnfs/home/l.mamisashvili/miniconda3/envs/prosit-t/lib/python3.9/site-packages (from spectrum_fundamentals@ git+https://github.com/wilhelm-lab/spectrum_fundamentals.git@main->prospect-dataset==0.0.2.dev0) (1.1.4)\n",
      "Requirement already satisfied: click>=8.0.0 in /cmnfs/home/l.mamisashvili/miniconda3/envs/prosit-t/lib/python3.9/site-packages (from spectrum_fundamentals@ git+https://github.com/wilhelm-lab/spectrum_fundamentals.git@main->prospect-dataset==0.0.2.dev0) (8.1.3)\n",
      "Requirement already satisfied: rich>=10.3.0 in /cmnfs/home/l.mamisashvili/miniconda3/envs/prosit-t/lib/python3.9/site-packages (from spectrum_fundamentals@ git+https://github.com/wilhelm-lab/spectrum_fundamentals.git@main->prospect-dataset==0.0.2.dev0) (13.4.1)\n",
      "Requirement already satisfied: scikit-learn<2.0,>=1.0 in /cmnfs/home/l.mamisashvili/miniconda3/envs/prosit-t/lib/python3.9/site-packages (from spectrum_fundamentals@ git+https://github.com/wilhelm-lab/spectrum_fundamentals.git@main->prospect-dataset==0.0.2.dev0) (1.2.2)\n",
      "Requirement already satisfied: joblib<2.0.0,>=1.0.1 in /cmnfs/home/l.mamisashvili/miniconda3/envs/prosit-t/lib/python3.9/site-packages (from spectrum_fundamentals@ git+https://github.com/wilhelm-lab/spectrum_fundamentals.git@main->prospect-dataset==0.0.2.dev0) (1.2.0)\n",
      "Requirement already satisfied: PyYAML>=5.4.1 in /cmnfs/home/l.mamisashvili/miniconda3/envs/prosit-t/lib/python3.9/site-packages (from spectrum_fundamentals@ git+https://github.com/wilhelm-lab/spectrum_fundamentals.git@main->prospect-dataset==0.0.2.dev0) (6.0)\n",
      "Requirement already satisfied: scipy>=1.6.0 in /cmnfs/home/l.mamisashvili/miniconda3/envs/prosit-t/lib/python3.9/site-packages (from moepy<2.0.0,>=1.1.4->spectrum_fundamentals@ git+https://github.com/wilhelm-lab/spectrum_fundamentals.git@main->prospect-dataset==0.0.2.dev0) (1.10.1)\n",
      "Requirement already satisfied: matplotlib>=3.3.3 in /cmnfs/home/l.mamisashvili/miniconda3/envs/prosit-t/lib/python3.9/site-packages (from moepy<2.0.0,>=1.1.4->spectrum_fundamentals@ git+https://github.com/wilhelm-lab/spectrum_fundamentals.git@main->prospect-dataset==0.0.2.dev0) (3.7.1)\n",
      "Requirement already satisfied: tqdm>=4.59.0 in /cmnfs/home/l.mamisashvili/miniconda3/envs/prosit-t/lib/python3.9/site-packages (from moepy<2.0.0,>=1.1.4->spectrum_fundamentals@ git+https://github.com/wilhelm-lab/spectrum_fundamentals.git@main->prospect-dataset==0.0.2.dev0) (4.65.0)\n",
      "Requirement already satisfied: six>=1.5 in /cmnfs/home/l.mamisashvili/miniconda3/envs/prosit-t/lib/python3.9/site-packages (from python-dateutil>=2.8.1->pandas->prospect-dataset==0.0.2.dev0) (1.16.0)\n",
      "Requirement already satisfied: markdown-it-py<3.0.0,>=2.2.0 in /cmnfs/home/l.mamisashvili/miniconda3/envs/prosit-t/lib/python3.9/site-packages (from rich>=10.3.0->spectrum_fundamentals@ git+https://github.com/wilhelm-lab/spectrum_fundamentals.git@main->prospect-dataset==0.0.2.dev0) (2.2.0)\n",
      "Requirement already satisfied: pygments<3.0.0,>=2.13.0 in /cmnfs/home/l.mamisashvili/miniconda3/envs/prosit-t/lib/python3.9/site-packages (from rich>=10.3.0->spectrum_fundamentals@ git+https://github.com/wilhelm-lab/spectrum_fundamentals.git@main->prospect-dataset==0.0.2.dev0) (2.15.1)\n",
      "Requirement already satisfied: threadpoolctl>=2.0.0 in /cmnfs/home/l.mamisashvili/miniconda3/envs/prosit-t/lib/python3.9/site-packages (from scikit-learn<2.0,>=1.0->spectrum_fundamentals@ git+https://github.com/wilhelm-lab/spectrum_fundamentals.git@main->prospect-dataset==0.0.2.dev0) (3.1.0)\n",
      "Requirement already satisfied: soupsieve>1.2 in /cmnfs/home/l.mamisashvili/miniconda3/envs/prosit-t/lib/python3.9/site-packages (from beautifulsoup4->bs4->prospect-dataset==0.0.2.dev0) (2.4)\n"
     ]
    },
    {
     "name": "stdout",
     "output_type": "stream",
     "text": [
      "Requirement already satisfied: mdurl~=0.1 in /cmnfs/home/l.mamisashvili/miniconda3/envs/prosit-t/lib/python3.9/site-packages (from markdown-it-py<3.0.0,>=2.2.0->rich>=10.3.0->spectrum_fundamentals@ git+https://github.com/wilhelm-lab/spectrum_fundamentals.git@main->prospect-dataset==0.0.2.dev0) (0.1.2)\n",
      "Requirement already satisfied: kiwisolver>=1.0.1 in /cmnfs/home/l.mamisashvili/miniconda3/envs/prosit-t/lib/python3.9/site-packages (from matplotlib>=3.3.3->moepy<2.0.0,>=1.1.4->spectrum_fundamentals@ git+https://github.com/wilhelm-lab/spectrum_fundamentals.git@main->prospect-dataset==0.0.2.dev0) (1.4.4)\n",
      "Requirement already satisfied: pyparsing>=2.3.1 in /cmnfs/home/l.mamisashvili/miniconda3/envs/prosit-t/lib/python3.9/site-packages (from matplotlib>=3.3.3->moepy<2.0.0,>=1.1.4->spectrum_fundamentals@ git+https://github.com/wilhelm-lab/spectrum_fundamentals.git@main->prospect-dataset==0.0.2.dev0) (3.0.9)\n",
      "Requirement already satisfied: importlib-resources>=3.2.0 in /cmnfs/home/l.mamisashvili/miniconda3/envs/prosit-t/lib/python3.9/site-packages (from matplotlib>=3.3.3->moepy<2.0.0,>=1.1.4->spectrum_fundamentals@ git+https://github.com/wilhelm-lab/spectrum_fundamentals.git@main->prospect-dataset==0.0.2.dev0) (5.12.0)\n",
      "Requirement already satisfied: contourpy>=1.0.1 in /cmnfs/home/l.mamisashvili/miniconda3/envs/prosit-t/lib/python3.9/site-packages (from matplotlib>=3.3.3->moepy<2.0.0,>=1.1.4->spectrum_fundamentals@ git+https://github.com/wilhelm-lab/spectrum_fundamentals.git@main->prospect-dataset==0.0.2.dev0) (1.0.7)\n",
      "Requirement already satisfied: cycler>=0.10 in /cmnfs/home/l.mamisashvili/miniconda3/envs/prosit-t/lib/python3.9/site-packages (from matplotlib>=3.3.3->moepy<2.0.0,>=1.1.4->spectrum_fundamentals@ git+https://github.com/wilhelm-lab/spectrum_fundamentals.git@main->prospect-dataset==0.0.2.dev0) (0.11.0)\n",
      "Requirement already satisfied: fonttools>=4.22.0 in /cmnfs/home/l.mamisashvili/miniconda3/envs/prosit-t/lib/python3.9/site-packages (from matplotlib>=3.3.3->moepy<2.0.0,>=1.1.4->spectrum_fundamentals@ git+https://github.com/wilhelm-lab/spectrum_fundamentals.git@main->prospect-dataset==0.0.2.dev0) (4.39.4)\n",
      "Requirement already satisfied: pillow>=6.2.0 in /cmnfs/home/l.mamisashvili/miniconda3/envs/prosit-t/lib/python3.9/site-packages (from matplotlib>=3.3.3->moepy<2.0.0,>=1.1.4->spectrum_fundamentals@ git+https://github.com/wilhelm-lab/spectrum_fundamentals.git@main->prospect-dataset==0.0.2.dev0) (9.5.0)\n",
      "Requirement already satisfied: zipp>=3.1.0 in /cmnfs/home/l.mamisashvili/miniconda3/envs/prosit-t/lib/python3.9/site-packages (from importlib-resources>=3.2.0->matplotlib>=3.3.3->moepy<2.0.0,>=1.1.4->spectrum_fundamentals@ git+https://github.com/wilhelm-lab/spectrum_fundamentals.git@main->prospect-dataset==0.0.2.dev0) (3.11.0)\n",
      "\u001b[33mWARNING: Ignoring invalid distribution -rotobuf (/cmnfs/home/l.mamisashvili/miniconda3/envs/prosit-t/lib/python3.9/site-packages)\u001b[0m\u001b[33m\n",
      "\u001b[0m\u001b[33mWARNING: Ignoring invalid distribution -rotobuf (/cmnfs/home/l.mamisashvili/miniconda3/envs/prosit-t/lib/python3.9/site-packages)\u001b[0m\u001b[33m\n",
      "\u001b[0m\u001b[33mWARNING: Ignoring invalid distribution -rotobuf (/cmnfs/home/l.mamisashvili/miniconda3/envs/prosit-t/lib/python3.9/site-packages)\u001b[0m\u001b[33m\n",
      "\u001b[0m\u001b[33mWARNING: Ignoring invalid distribution -rotobuf (/cmnfs/home/l.mamisashvili/miniconda3/envs/prosit-t/lib/python3.9/site-packages)\u001b[0m\u001b[33m\n",
      "\u001b[0m"
     ]
    }
   ],
   "source": [
    "!pip install git+https://github.com/wilhelm-lab/PROSPECT@develop"
   ]
  },
  {
   "cell_type": "code",
   "execution_count": 5,
   "id": "9551dfe2",
   "metadata": {},
   "outputs": [],
   "source": [
    "import prospectdataset as prospect \n",
    "data_dir = \"./data\"\n",
    "pool_keyword = \"third_pool\"\n",
    "record_name = \"prospect\""
   ]
  },
  {
   "cell_type": "code",
   "execution_count": 4,
   "id": "619ab238",
   "metadata": {},
   "outputs": [
    {
     "name": "stdout",
     "output_type": "stream",
     "text": [
      "Downloading dataset from Zenodo record prospect\n",
      "Corresponding Zenodo URL is https://zenodo.org/record/6602020\n",
      "Collected URLs:  ['/record/6602020/files/TUM_third_pool.zip?download=1', '/record/6602020/files/TUM_third_pool_meta_data.parquet?download=1']\n",
      "Downloading URL:  /record/6602020/files/TUM_third_pool.zip?download=1\n",
      "Saved file:  ./data/TUM_third_pool.zip\n",
      "Downloading URL:  /record/6602020/files/TUM_third_pool_meta_data.parquet?download=1\n",
      "Saved file:  ./data/TUM_third_pool_meta_data.parquet\n",
      "Unzipping file ./data/TUM_third_pool.zip\n",
      "No pool selected. If you intend to load the data using DLOmix,\n",
      "                please ensure you move files belonging to the same pool manually to one folder.\n"
     ]
    },
    {
     "data": {
      "text/plain": [
       "[['./data/TUM_third_pool.zip', './data/TUM_third_pool_meta_data.parquet']]"
      ]
     },
     "execution_count": 4,
     "metadata": {},
     "output_type": "execute_result"
    }
   ],
   "source": [
    "prospect.download_dataset(record = record_name, task = \"all\",\n",
    "                          save_directory = data_dir, select_pool = pool_keyword)"
   ]
  },
  {
   "cell_type": "code",
   "execution_count": 6,
   "id": "3588fadd",
   "metadata": {
    "scrolled": true
   },
   "outputs": [
    {
     "data": {
      "text/plain": [
       "'./data/TUM_third_pool_meta_data.parquet'"
      ]
     },
     "execution_count": 6,
     "metadata": {},
     "output_type": "execute_result"
    }
   ],
   "source": [
    "import glob\n",
    "import os\n",
    "from pathlib import Path\n",
    "\n",
    "# pick the path of the metadata file, can also be simply copied and pasted from previous cell outout \n",
    "#meta_data_filepath = './data/TUM_third_pool_meta_data.parquet'\n",
    "\n",
    "meta_data_filepath = glob.glob(os.path.join(data_dir, \"*\"+str(pool_keyword)+\"*meta_data.parquet\"))[0]\n",
    "meta_data_filepath"
   ]
  },
  {
   "cell_type": "code",
   "execution_count": 7,
   "id": "cf915104",
   "metadata": {},
   "outputs": [
    {
     "data": {
      "text/plain": [
       "(['TUM_third_pool_1_01_01_annotation',\n",
       "  'TUM_third_pool_2_01_01_annotation',\n",
       "  'TUM_third_pool_3_01_01_annotation',\n",
       "  'TUM_third_pool_4_01_01_annotation',\n",
       "  'TUM_third_pool_5_01_01_annotation',\n",
       "  'TUM_third_pool_6_01_01_annotation'],\n",
       " ['./data/TUM_third_pool/TUM_third_pool_1_01_01_annotation.parquet',\n",
       "  './data/TUM_third_pool/TUM_third_pool_2_01_01_annotation.parquet',\n",
       "  './data/TUM_third_pool/TUM_third_pool_3_01_01_annotation.parquet',\n",
       "  './data/TUM_third_pool/TUM_third_pool_4_01_01_annotation.parquet',\n",
       "  './data/TUM_third_pool/TUM_third_pool_5_01_01_annotation.parquet',\n",
       "  './data/TUM_third_pool/TUM_third_pool_6_01_01_annotation.parquet'])"
      ]
     },
     "execution_count": 7,
     "metadata": {},
     "output_type": "execute_result"
    }
   ],
   "source": [
    "import itertools\n",
    "\n",
    "annotation_dirs = [path for path in glob.glob(os.path.join(data_dir, \"*\"+str(pool_keyword)+\"*\")) if os.path.isdir(path)]\n",
    "annotations_filepaths = [glob.glob(os.path.join(d, \"*.parquet\")) for d in annotation_dirs]\n",
    "annotations_filepaths = list(itertools.chain(*annotations_filepaths))\n",
    "annotations_names = [Path(f).stem for f in annotations_filepaths]\n",
    "\n",
    "annotations_names, annotations_filepaths"
   ]
  },
  {
   "cell_type": "code",
   "execution_count": 8,
   "id": "88fa8049",
   "metadata": {},
   "outputs": [
    {
     "data": {
      "text/plain": [
       "{'metadata': './data/TUM_third_pool_meta_data.parquet',\n",
       " 'annotations': {'third_pool': {'TUM_third_pool_1_01_01_annotation': './data/TUM_third_pool/TUM_third_pool_1_01_01_annotation.parquet',\n",
       "   'TUM_third_pool_2_01_01_annotation': './data/TUM_third_pool/TUM_third_pool_2_01_01_annotation.parquet',\n",
       "   'TUM_third_pool_3_01_01_annotation': './data/TUM_third_pool/TUM_third_pool_3_01_01_annotation.parquet',\n",
       "   'TUM_third_pool_4_01_01_annotation': './data/TUM_third_pool/TUM_third_pool_4_01_01_annotation.parquet',\n",
       "   'TUM_third_pool_5_01_01_annotation': './data/TUM_third_pool/TUM_third_pool_5_01_01_annotation.parquet',\n",
       "   'TUM_third_pool_6_01_01_annotation': './data/TUM_third_pool/TUM_third_pool_6_01_01_annotation.parquet'}},\n",
       " 'parameters': {'target_column_key': 'intensities_raw'}}"
      ]
     },
     "execution_count": 8,
     "metadata": {},
     "output_type": "execute_result"
    }
   ],
   "source": [
    "input_data_dict = {\n",
    "    \"metadata\": meta_data_filepath,\n",
    "    \"annotations\": {\n",
    "        pool_keyword: dict(zip(annotations_names, annotations_filepaths))\n",
    "    },\n",
    "    \"parameters\": {\n",
    "        \"target_column_key\": \"intensities_raw\"\n",
    "    }\n",
    "}\n",
    "\n",
    "input_data_dict"
   ]
  },
  {
   "cell_type": "code",
   "execution_count": 9,
   "id": "86c22399",
   "metadata": {},
   "outputs": [],
   "source": [
    "# later we can feed the dict directly as a data source, for now we stick to json format\n",
    "\n",
    "import json\n",
    "with open(\"input_config.json\", 'w') as fp:\n",
    "    json.dump(input_data_dict, fp)"
   ]
  },
  {
   "cell_type": "code",
   "execution_count": 10,
   "id": "be6d1015",
   "metadata": {
    "scrolled": false
   },
   "outputs": [
    {
     "name": "stderr",
     "output_type": "stream",
     "text": [
      "2023-06-29 15:52:23.572141: I tensorflow/core/platform/cpu_feature_guard.cc:193] This TensorFlow binary is optimized with oneAPI Deep Neural Network Library (oneDNN) to use the following CPU instructions in performance-critical operations:  AVX2 AVX512F FMA\n",
      "To enable them in other operations, rebuild TensorFlow with the appropriate compiler flags.\n",
      "2023-06-29 15:52:25.645445: W tensorflow/stream_executor/platform/default/dso_loader.cc:64] Could not load dynamic library 'libcudart.so.11.0'; dlerror: libcudart.so.11.0: cannot open shared object file: No such file or directory\n",
      "2023-06-29 15:52:25.645540: I tensorflow/stream_executor/cuda/cudart_stub.cc:29] Ignore above cudart dlerror if you do not have a GPU set up on your machine.\n",
      "2023-06-29 15:52:25.904990: E tensorflow/stream_executor/cuda/cuda_blas.cc:2981] Unable to register cuBLAS factory: Attempting to register factory for plugin cuBLAS when one has already been registered\n",
      "2023-06-29 15:52:33.536445: W tensorflow/stream_executor/platform/default/dso_loader.cc:64] Could not load dynamic library 'libnvinfer.so.7'; dlerror: libnvinfer.so.7: cannot open shared object file: No such file or directory\n",
      "2023-06-29 15:52:33.537099: W tensorflow/stream_executor/platform/default/dso_loader.cc:64] Could not load dynamic library 'libnvinfer_plugin.so.7'; dlerror: libnvinfer_plugin.so.7: cannot open shared object file: No such file or directory\n",
      "2023-06-29 15:52:33.537127: W tensorflow/compiler/tf2tensorrt/utils/py_utils.cc:38] TF-TRT Warning: Cannot dlopen some TensorRT libraries. If you would like to use Nvidia GPU with TensorRT, please make sure the missing libraries mentioned above are installed properly.\n"
     ]
    },
    {
     "name": "stdout",
     "output_type": "stream",
     "text": [
      "Optionally Downloading and processing the data...\n",
      "Annotations directory:  /cmnfs/home/l.mamisashvili/transforming-prosit/notebooks/./data/TUM_third_pool\n",
      "Metadata filepath:  /cmnfs/home/l.mamisashvili/transforming-prosit/notebooks/./data/TUM_third_pool_meta_data.parquet\n",
      "Base directory:  /cmnfs/home/l.mamisashvili/transforming-prosit/notebooks\n",
      "Reading metadata file from /cmnfs/home/l.mamisashvili/transforming-prosit/notebooks/./data/TUM_third_pool_meta_data.parquet\n",
      "Reading and processing annotation files...\n",
      "Building annotation dataframe...\n",
      "Applying metadata filters...\n",
      "mode:  max\n",
      "attribute:  peptide_length\n",
      "mode:  max\n",
      "attribute:  precursor_charge\n",
      "Scaling and adding encoded columns...\n",
      "Extracting feature:  ModificationLocationFeature(pad_to_seq_length=True, padding_element=-1)\n",
      "Extracting feature:  ModificationLossFeature(pad_to_seq_length=True, padding_element=[0, 0, 0, 0, 0, 0])\n",
      "Extracting feature:  ModificationGainFeature(pad_to_seq_length=True, padding_element=[0, 0, 0, 0, 0, 0])\n"
     ]
    },
    {
     "name": "stderr",
     "output_type": "stream",
     "text": [
      "2023-06-29 16:05:50.930464: W tensorflow/stream_executor/platform/default/dso_loader.cc:64] Could not load dynamic library 'libcuda.so.1'; dlerror: libcuda.so.1: cannot open shared object file: No such file or directory\n",
      "2023-06-29 16:05:50.963474: W tensorflow/stream_executor/cuda/cuda_driver.cc:263] failed call to cuInit: UNKNOWN ERROR (303)\n",
      "2023-06-29 16:05:50.963598: I tensorflow/stream_executor/cuda/cuda_diagnostics.cc:156] kernel driver does not appear to be running on this host (norm.exbio.wzw.tum.de): /proc/driver/nvidia/version does not exist\n",
      "2023-06-29 16:05:51.018205: I tensorflow/core/platform/cpu_feature_guard.cc:193] This TensorFlow binary is optimized with oneAPI Deep Neural Network Library (oneDNN) to use the following CPU instructions in performance-critical operations:  AVX2 AVX512F FMA\n",
      "To enable them in other operations, rebuild TensorFlow with the appropriate compiler flags.\n"
     ]
    }
   ],
   "source": [
    "from dlomix.data import IntensityDataset\n",
    "from dlomix.data.feature_extractors import (\n",
    "    ModificationGainFeature,\n",
    "    ModificationLocationFeature,\n",
    "    ModificationLossFeature,\n",
    ")\n",
    "\n",
    "BATCH_SIZE = 128\n",
    "SEQ_LENGTH = 30\n",
    "\n",
    "int_data = IntensityDataset(\n",
    "    data_source=\"input_config.json\",\n",
    "    seq_length=SEQ_LENGTH,\n",
    "    batch_size=BATCH_SIZE,\n",
    "    val_ratio=0.15,\n",
    "    precursor_charge_col=\"precursor_charge_onehot\",\n",
    "    sequence_col=\"modified_sequence\",\n",
    "    collision_energy_col=\"collision_energy_aligned_normed\",\n",
    "    intensities_col=\"intensities_raw\",\n",
    "    features_to_extract=[\n",
    "        ModificationLocationFeature(),\n",
    "        ModificationLossFeature(),\n",
    "        ModificationGainFeature(),\n",
    "    ],\n",
    "    parser=\"proforma\",\n",
    "    sequence_filtering_criteria = {\n",
    "        \"max_peptide_length\": SEQ_LENGTH,\n",
    "        \"max_precursor_charge\": 6,\n",
    "    }\n",
    ")"
   ]
  },
  {
   "cell_type": "code",
   "execution_count": 11,
   "id": "3b305812",
   "metadata": {},
   "outputs": [
    {
     "data": {
      "text/plain": [
       "('Training examples', 287360)"
      ]
     },
     "execution_count": 11,
     "metadata": {},
     "output_type": "execute_result"
    }
   ],
   "source": [
    "\"Training examples\", BATCH_SIZE * len(int_data.train_data)\n"
   ]
  },
  {
   "cell_type": "code",
   "execution_count": 12,
   "id": "dd12711b",
   "metadata": {},
   "outputs": [
    {
     "data": {
      "text/plain": [
       "('Validation examples', 50816)"
      ]
     },
     "execution_count": 12,
     "metadata": {},
     "output_type": "execute_result"
    }
   ],
   "source": [
    "\"Validation examples\", BATCH_SIZE * len(int_data.val_data)\n"
   ]
  },
  {
   "cell_type": "code",
   "execution_count": null,
   "id": "37be545f",
   "metadata": {},
   "outputs": [],
   "source": [
    "import tensorflow as tf\n",
    "from dlomix.models import PrositIntensityPredictor\n",
    "from dlomix.losses import masked_spectral_distance\n",
    "\n",
    "model = PrositIntensityPredictor(seq_length=30, use_ptm_counts=True)\n",
    "\n",
    "# create the optimizer object\n",
    "optimizer = tf.keras.optimizers.Adam(learning_rate=0.001)\n",
    "\n",
    "# compile the model  with the optimizer and the metrics we want to use, we can add our custom metric\n",
    "model.compile(optimizer=optimizer, loss=masked_spectral_distance, metrics=[\"mae\"])\n"
   ]
  },
  {
   "cell_type": "code",
   "execution_count": null,
   "id": "848b24bd",
   "metadata": {},
   "outputs": [],
   "source": [
    "\n",
    "history = model.fit(int_data.train_data,\n",
    "                    validation_data=int_data.val_data,\n",
    "                    epochs=2)"
   ]
  }
 ],
 "metadata": {
  "kernelspec": {
   "display_name": "Python 3 (ipykernel)",
   "language": "python",
   "name": "python3"
  },
  "language_info": {
   "codemirror_mode": {
    "name": "ipython",
    "version": 3
   },
   "file_extension": ".py",
   "mimetype": "text/x-python",
   "name": "python",
   "nbconvert_exporter": "python",
   "pygments_lexer": "ipython3",
   "version": "3.9.16"
  }
 },
 "nbformat": 4,
 "nbformat_minor": 5
}
