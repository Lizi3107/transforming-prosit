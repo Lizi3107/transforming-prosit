{
 "cells": [
  {
   "cell_type": "code",
   "execution_count": 1,
   "id": "3588fadd",
   "metadata": {},
   "outputs": [
    {
     "data": {
      "text/plain": [
       "'/cmnfs/proj/prosit/Transformer/Final_Meta_Data/Thermo_SRM_Pool_meta_data.parquet'"
      ]
     },
     "execution_count": 1,
     "metadata": {},
     "output_type": "execute_result"
    }
   ],
   "source": [
    "import glob\n",
    "import os\n",
    "from pathlib import Path\n",
    "\n",
    "\n",
    "pool_keyword = \"first\"\n",
    "data_dir = \"/cmnfs/proj/prosit/Transformer/Final_Meta_Data\"\n",
    "meta_data_filepath = glob.glob(os.path.join(data_dir, \"*meta_data*.parquet\"))[0]\n",
    "meta_data_filepath"
   ]
  },
  {
   "cell_type": "code",
   "execution_count": 2,
   "id": "1c67268e",
   "metadata": {},
   "outputs": [],
   "source": [
    "meta_data_filepath = '/cmnfs/proj/prosit/Transformer/Final_Meta_Data/TUM_first_pool_meta_data.parquet'"
   ]
  },
  {
   "cell_type": "code",
   "execution_count": 3,
   "id": "81341b7a",
   "metadata": {},
   "outputs": [],
   "source": [
    "import pandas as pd\n",
    "df = pd.read_parquet(meta_data_filepath)"
   ]
  },
  {
   "cell_type": "code",
   "execution_count": 6,
   "id": "1389162f",
   "metadata": {},
   "outputs": [],
   "source": [
    "df = df[df.precursor_charge <= 6]"
   ]
  },
  {
   "cell_type": "code",
   "execution_count": 7,
   "id": "305e37b9",
   "metadata": {},
   "outputs": [],
   "source": [
    "df.reset_index(drop=True).to_parquet('./TUM_first_pool_meta_data_filtered.parquet', index=False)"
   ]
  },
  {
   "cell_type": "code",
   "execution_count": 8,
   "id": "9a3e3315",
   "metadata": {},
   "outputs": [
    {
     "data": {
      "text/plain": [
       "(['TUM_first_pool_10_01_01_annotation',\n",
       "  'TUM_first_pool_11_01_01_annotation',\n",
       "  'TUM_first_pool_12_01_01_annotation',\n",
       "  'TUM_first_pool_13_01_01_annotation',\n",
       "  'TUM_first_pool_14_01_01_annotation',\n",
       "  'TUM_first_pool_15_01_01_annotation',\n",
       "  'TUM_first_pool_16_01_01_annotation',\n",
       "  'TUM_first_pool_17_01_01_annotation',\n",
       "  'TUM_first_pool_18_01_01_annotation',\n",
       "  'TUM_first_pool_19_01_01_annotation',\n",
       "  'TUM_first_pool_1_01_01_annotation',\n",
       "  'TUM_first_pool_20_01_01_annotation',\n",
       "  'TUM_first_pool_21_01_01_annotation',\n",
       "  'TUM_first_pool_22_01_01_annotation',\n",
       "  'TUM_first_pool_23_01_01_annotation',\n",
       "  'TUM_first_pool_24_01_01_annotation',\n",
       "  'TUM_first_pool_25_01_01_annotation',\n",
       "  'TUM_first_pool_26_01_01_annotation',\n",
       "  'TUM_first_pool_27_01_01_annotation',\n",
       "  'TUM_first_pool_28_01_01_annotation',\n",
       "  'TUM_first_pool_29_01_01_annotation',\n",
       "  'TUM_first_pool_2_01_01_annotation',\n",
       "  'TUM_first_pool_30_01_01_annotation',\n",
       "  'TUM_first_pool_31_01_01_annotation',\n",
       "  'TUM_first_pool_32_01_01_annotation',\n",
       "  'TUM_first_pool_33_01_01_annotation',\n",
       "  'TUM_first_pool_34_01_01_annotation',\n",
       "  'TUM_first_pool_35_01_01_annotation',\n",
       "  'TUM_first_pool_36_01_01_annotation',\n",
       "  'TUM_first_pool_37_01_01_annotation',\n",
       "  'TUM_first_pool_38_01_01_annotation',\n",
       "  'TUM_first_pool_39_01_01_annotation',\n",
       "  'TUM_first_pool_3_01_01_annotation',\n",
       "  'TUM_first_pool_40_01_01_annotation',\n",
       "  'TUM_first_pool_41_01_01_annotation',\n",
       "  'TUM_first_pool_42_01_01_annotation',\n",
       "  'TUM_first_pool_43_01_01_annotation',\n",
       "  'TUM_first_pool_44_01_01_annotation',\n",
       "  'TUM_first_pool_45_01_01_annotation',\n",
       "  'TUM_first_pool_46_01_01_annotation',\n",
       "  'TUM_first_pool_47_01_01_annotation',\n",
       "  'TUM_first_pool_48_01_01_annotation',\n",
       "  'TUM_first_pool_49_01_01_annotation',\n",
       "  'TUM_first_pool_4_01_01_annotation',\n",
       "  'TUM_first_pool_50_01_01_annotation',\n",
       "  'TUM_first_pool_51_01_01_annotation',\n",
       "  'TUM_first_pool_52_01_01_annotation',\n",
       "  'TUM_first_pool_53_01_01_annotation',\n",
       "  'TUM_first_pool_54_01_01_annotation',\n",
       "  'TUM_first_pool_55_01_01_annotation',\n",
       "  'TUM_first_pool_56_01_01_annotation',\n",
       "  'TUM_first_pool_57_01_01_annotation',\n",
       "  'TUM_first_pool_58_01_01_annotation',\n",
       "  'TUM_first_pool_59_01_01_annotation',\n",
       "  'TUM_first_pool_5_01_01_annotation',\n",
       "  'TUM_first_pool_60_01_01_annotation',\n",
       "  'TUM_first_pool_61_01_01_annotation',\n",
       "  'TUM_first_pool_62_01_01_annotation',\n",
       "  'TUM_first_pool_6_01_01_annotation',\n",
       "  'TUM_first_pool_7_01_01_annotation',\n",
       "  'TUM_first_pool_8_01_01_annotation',\n",
       "  'TUM_first_pool_9_01_01_annotation'],\n",
       " ['/cmnfs/proj/prosit/Transformer/TUM_first_pool_1/TUM_first_pool_10_01_01_annotation.parquet',\n",
       "  '/cmnfs/proj/prosit/Transformer/TUM_first_pool_1/TUM_first_pool_11_01_01_annotation.parquet',\n",
       "  '/cmnfs/proj/prosit/Transformer/TUM_first_pool_1/TUM_first_pool_12_01_01_annotation.parquet',\n",
       "  '/cmnfs/proj/prosit/Transformer/TUM_first_pool_1/TUM_first_pool_13_01_01_annotation.parquet',\n",
       "  '/cmnfs/proj/prosit/Transformer/TUM_first_pool_1/TUM_first_pool_14_01_01_annotation.parquet',\n",
       "  '/cmnfs/proj/prosit/Transformer/TUM_first_pool_1/TUM_first_pool_15_01_01_annotation.parquet',\n",
       "  '/cmnfs/proj/prosit/Transformer/TUM_first_pool_1/TUM_first_pool_16_01_01_annotation.parquet',\n",
       "  '/cmnfs/proj/prosit/Transformer/TUM_first_pool_1/TUM_first_pool_17_01_01_annotation.parquet',\n",
       "  '/cmnfs/proj/prosit/Transformer/TUM_first_pool_1/TUM_first_pool_18_01_01_annotation.parquet',\n",
       "  '/cmnfs/proj/prosit/Transformer/TUM_first_pool_1/TUM_first_pool_19_01_01_annotation.parquet',\n",
       "  '/cmnfs/proj/prosit/Transformer/TUM_first_pool_1/TUM_first_pool_1_01_01_annotation.parquet',\n",
       "  '/cmnfs/proj/prosit/Transformer/TUM_first_pool_1/TUM_first_pool_20_01_01_annotation.parquet',\n",
       "  '/cmnfs/proj/prosit/Transformer/TUM_first_pool_1/TUM_first_pool_21_01_01_annotation.parquet',\n",
       "  '/cmnfs/proj/prosit/Transformer/TUM_first_pool_1/TUM_first_pool_22_01_01_annotation.parquet',\n",
       "  '/cmnfs/proj/prosit/Transformer/TUM_first_pool_1/TUM_first_pool_23_01_01_annotation.parquet',\n",
       "  '/cmnfs/proj/prosit/Transformer/TUM_first_pool_1/TUM_first_pool_24_01_01_annotation.parquet',\n",
       "  '/cmnfs/proj/prosit/Transformer/TUM_first_pool_1/TUM_first_pool_25_01_01_annotation.parquet',\n",
       "  '/cmnfs/proj/prosit/Transformer/TUM_first_pool_1/TUM_first_pool_26_01_01_annotation.parquet',\n",
       "  '/cmnfs/proj/prosit/Transformer/TUM_first_pool_1/TUM_first_pool_27_01_01_annotation.parquet',\n",
       "  '/cmnfs/proj/prosit/Transformer/TUM_first_pool_1/TUM_first_pool_28_01_01_annotation.parquet',\n",
       "  '/cmnfs/proj/prosit/Transformer/TUM_first_pool_1/TUM_first_pool_29_01_01_annotation.parquet',\n",
       "  '/cmnfs/proj/prosit/Transformer/TUM_first_pool_1/TUM_first_pool_2_01_01_annotation.parquet',\n",
       "  '/cmnfs/proj/prosit/Transformer/TUM_first_pool_1/TUM_first_pool_30_01_01_annotation.parquet',\n",
       "  '/cmnfs/proj/prosit/Transformer/TUM_first_pool_1/TUM_first_pool_31_01_01_annotation.parquet',\n",
       "  '/cmnfs/proj/prosit/Transformer/TUM_first_pool_1/TUM_first_pool_32_01_01_annotation.parquet',\n",
       "  '/cmnfs/proj/prosit/Transformer/TUM_first_pool_1/TUM_first_pool_33_01_01_annotation.parquet',\n",
       "  '/cmnfs/proj/prosit/Transformer/TUM_first_pool_1/TUM_first_pool_34_01_01_annotation.parquet',\n",
       "  '/cmnfs/proj/prosit/Transformer/TUM_first_pool_1/TUM_first_pool_35_01_01_annotation.parquet',\n",
       "  '/cmnfs/proj/prosit/Transformer/TUM_first_pool_1/TUM_first_pool_36_01_01_annotation.parquet',\n",
       "  '/cmnfs/proj/prosit/Transformer/TUM_first_pool_1/TUM_first_pool_37_01_01_annotation.parquet',\n",
       "  '/cmnfs/proj/prosit/Transformer/TUM_first_pool_1/TUM_first_pool_38_01_01_annotation.parquet',\n",
       "  '/cmnfs/proj/prosit/Transformer/TUM_first_pool_1/TUM_first_pool_39_01_01_annotation.parquet',\n",
       "  '/cmnfs/proj/prosit/Transformer/TUM_first_pool_1/TUM_first_pool_3_01_01_annotation.parquet',\n",
       "  '/cmnfs/proj/prosit/Transformer/TUM_first_pool_1/TUM_first_pool_40_01_01_annotation.parquet',\n",
       "  '/cmnfs/proj/prosit/Transformer/TUM_first_pool_1/TUM_first_pool_41_01_01_annotation.parquet',\n",
       "  '/cmnfs/proj/prosit/Transformer/TUM_first_pool_1/TUM_first_pool_42_01_01_annotation.parquet',\n",
       "  '/cmnfs/proj/prosit/Transformer/TUM_first_pool_1/TUM_first_pool_43_01_01_annotation.parquet',\n",
       "  '/cmnfs/proj/prosit/Transformer/TUM_first_pool_1/TUM_first_pool_44_01_01_annotation.parquet',\n",
       "  '/cmnfs/proj/prosit/Transformer/TUM_first_pool_1/TUM_first_pool_45_01_01_annotation.parquet',\n",
       "  '/cmnfs/proj/prosit/Transformer/TUM_first_pool_1/TUM_first_pool_46_01_01_annotation.parquet',\n",
       "  '/cmnfs/proj/prosit/Transformer/TUM_first_pool_1/TUM_first_pool_47_01_01_annotation.parquet',\n",
       "  '/cmnfs/proj/prosit/Transformer/TUM_first_pool_1/TUM_first_pool_48_01_01_annotation.parquet',\n",
       "  '/cmnfs/proj/prosit/Transformer/TUM_first_pool_1/TUM_first_pool_49_01_01_annotation.parquet',\n",
       "  '/cmnfs/proj/prosit/Transformer/TUM_first_pool_1/TUM_first_pool_4_01_01_annotation.parquet',\n",
       "  '/cmnfs/proj/prosit/Transformer/TUM_first_pool_1/TUM_first_pool_50_01_01_annotation.parquet',\n",
       "  '/cmnfs/proj/prosit/Transformer/TUM_first_pool_1/TUM_first_pool_51_01_01_annotation.parquet',\n",
       "  '/cmnfs/proj/prosit/Transformer/TUM_first_pool_1/TUM_first_pool_52_01_01_annotation.parquet',\n",
       "  '/cmnfs/proj/prosit/Transformer/TUM_first_pool_1/TUM_first_pool_53_01_01_annotation.parquet',\n",
       "  '/cmnfs/proj/prosit/Transformer/TUM_first_pool_1/TUM_first_pool_54_01_01_annotation.parquet',\n",
       "  '/cmnfs/proj/prosit/Transformer/TUM_first_pool_1/TUM_first_pool_55_01_01_annotation.parquet',\n",
       "  '/cmnfs/proj/prosit/Transformer/TUM_first_pool_1/TUM_first_pool_56_01_01_annotation.parquet',\n",
       "  '/cmnfs/proj/prosit/Transformer/TUM_first_pool_1/TUM_first_pool_57_01_01_annotation.parquet',\n",
       "  '/cmnfs/proj/prosit/Transformer/TUM_first_pool_1/TUM_first_pool_58_01_01_annotation.parquet',\n",
       "  '/cmnfs/proj/prosit/Transformer/TUM_first_pool_1/TUM_first_pool_59_01_01_annotation.parquet',\n",
       "  '/cmnfs/proj/prosit/Transformer/TUM_first_pool_1/TUM_first_pool_5_01_01_annotation.parquet',\n",
       "  '/cmnfs/proj/prosit/Transformer/TUM_first_pool_1/TUM_first_pool_60_01_01_annotation.parquet',\n",
       "  '/cmnfs/proj/prosit/Transformer/TUM_first_pool_1/TUM_first_pool_61_01_01_annotation.parquet',\n",
       "  '/cmnfs/proj/prosit/Transformer/TUM_first_pool_1/TUM_first_pool_62_01_01_annotation.parquet',\n",
       "  '/cmnfs/proj/prosit/Transformer/TUM_first_pool_1/TUM_first_pool_6_01_01_annotation.parquet',\n",
       "  '/cmnfs/proj/prosit/Transformer/TUM_first_pool_1/TUM_first_pool_7_01_01_annotation.parquet',\n",
       "  '/cmnfs/proj/prosit/Transformer/TUM_first_pool_1/TUM_first_pool_8_01_01_annotation.parquet',\n",
       "  '/cmnfs/proj/prosit/Transformer/TUM_first_pool_1/TUM_first_pool_9_01_01_annotation.parquet'])"
      ]
     },
     "execution_count": 8,
     "metadata": {},
     "output_type": "execute_result"
    }
   ],
   "source": [
    "pool_folder_path = \"/cmnfs/proj/prosit/Transformer/TUM_first_pool_1\"\n",
    "annotations_filepaths = glob.glob(os.path.join(pool_folder_path, \"*.parquet\"))\n",
    "annotations_names = [Path(f).stem for f in annotations_filepaths]\n",
    "\n",
    "annotations_names, annotations_filepaths"
   ]
  },
  {
   "cell_type": "code",
   "execution_count": 9,
   "id": "c27e6446",
   "metadata": {},
   "outputs": [
    {
     "data": {
      "text/plain": [
       "{'metadata': './TUM_first_pool_meta_data_filtered.parquet',\n",
       " 'annotations': {'first': {'TUM_first_pool_10_01_01_annotation': '/cmnfs/proj/prosit/Transformer/TUM_first_pool_1/TUM_first_pool_10_01_01_annotation.parquet',\n",
       "   'TUM_first_pool_11_01_01_annotation': '/cmnfs/proj/prosit/Transformer/TUM_first_pool_1/TUM_first_pool_11_01_01_annotation.parquet',\n",
       "   'TUM_first_pool_12_01_01_annotation': '/cmnfs/proj/prosit/Transformer/TUM_first_pool_1/TUM_first_pool_12_01_01_annotation.parquet',\n",
       "   'TUM_first_pool_13_01_01_annotation': '/cmnfs/proj/prosit/Transformer/TUM_first_pool_1/TUM_first_pool_13_01_01_annotation.parquet',\n",
       "   'TUM_first_pool_14_01_01_annotation': '/cmnfs/proj/prosit/Transformer/TUM_first_pool_1/TUM_first_pool_14_01_01_annotation.parquet',\n",
       "   'TUM_first_pool_15_01_01_annotation': '/cmnfs/proj/prosit/Transformer/TUM_first_pool_1/TUM_first_pool_15_01_01_annotation.parquet',\n",
       "   'TUM_first_pool_16_01_01_annotation': '/cmnfs/proj/prosit/Transformer/TUM_first_pool_1/TUM_first_pool_16_01_01_annotation.parquet',\n",
       "   'TUM_first_pool_17_01_01_annotation': '/cmnfs/proj/prosit/Transformer/TUM_first_pool_1/TUM_first_pool_17_01_01_annotation.parquet',\n",
       "   'TUM_first_pool_18_01_01_annotation': '/cmnfs/proj/prosit/Transformer/TUM_first_pool_1/TUM_first_pool_18_01_01_annotation.parquet',\n",
       "   'TUM_first_pool_19_01_01_annotation': '/cmnfs/proj/prosit/Transformer/TUM_first_pool_1/TUM_first_pool_19_01_01_annotation.parquet',\n",
       "   'TUM_first_pool_1_01_01_annotation': '/cmnfs/proj/prosit/Transformer/TUM_first_pool_1/TUM_first_pool_1_01_01_annotation.parquet',\n",
       "   'TUM_first_pool_20_01_01_annotation': '/cmnfs/proj/prosit/Transformer/TUM_first_pool_1/TUM_first_pool_20_01_01_annotation.parquet',\n",
       "   'TUM_first_pool_21_01_01_annotation': '/cmnfs/proj/prosit/Transformer/TUM_first_pool_1/TUM_first_pool_21_01_01_annotation.parquet',\n",
       "   'TUM_first_pool_22_01_01_annotation': '/cmnfs/proj/prosit/Transformer/TUM_first_pool_1/TUM_first_pool_22_01_01_annotation.parquet',\n",
       "   'TUM_first_pool_23_01_01_annotation': '/cmnfs/proj/prosit/Transformer/TUM_first_pool_1/TUM_first_pool_23_01_01_annotation.parquet',\n",
       "   'TUM_first_pool_24_01_01_annotation': '/cmnfs/proj/prosit/Transformer/TUM_first_pool_1/TUM_first_pool_24_01_01_annotation.parquet',\n",
       "   'TUM_first_pool_25_01_01_annotation': '/cmnfs/proj/prosit/Transformer/TUM_first_pool_1/TUM_first_pool_25_01_01_annotation.parquet',\n",
       "   'TUM_first_pool_26_01_01_annotation': '/cmnfs/proj/prosit/Transformer/TUM_first_pool_1/TUM_first_pool_26_01_01_annotation.parquet',\n",
       "   'TUM_first_pool_27_01_01_annotation': '/cmnfs/proj/prosit/Transformer/TUM_first_pool_1/TUM_first_pool_27_01_01_annotation.parquet',\n",
       "   'TUM_first_pool_28_01_01_annotation': '/cmnfs/proj/prosit/Transformer/TUM_first_pool_1/TUM_first_pool_28_01_01_annotation.parquet',\n",
       "   'TUM_first_pool_29_01_01_annotation': '/cmnfs/proj/prosit/Transformer/TUM_first_pool_1/TUM_first_pool_29_01_01_annotation.parquet',\n",
       "   'TUM_first_pool_2_01_01_annotation': '/cmnfs/proj/prosit/Transformer/TUM_first_pool_1/TUM_first_pool_2_01_01_annotation.parquet',\n",
       "   'TUM_first_pool_30_01_01_annotation': '/cmnfs/proj/prosit/Transformer/TUM_first_pool_1/TUM_first_pool_30_01_01_annotation.parquet',\n",
       "   'TUM_first_pool_31_01_01_annotation': '/cmnfs/proj/prosit/Transformer/TUM_first_pool_1/TUM_first_pool_31_01_01_annotation.parquet',\n",
       "   'TUM_first_pool_32_01_01_annotation': '/cmnfs/proj/prosit/Transformer/TUM_first_pool_1/TUM_first_pool_32_01_01_annotation.parquet',\n",
       "   'TUM_first_pool_33_01_01_annotation': '/cmnfs/proj/prosit/Transformer/TUM_first_pool_1/TUM_first_pool_33_01_01_annotation.parquet',\n",
       "   'TUM_first_pool_34_01_01_annotation': '/cmnfs/proj/prosit/Transformer/TUM_first_pool_1/TUM_first_pool_34_01_01_annotation.parquet',\n",
       "   'TUM_first_pool_35_01_01_annotation': '/cmnfs/proj/prosit/Transformer/TUM_first_pool_1/TUM_first_pool_35_01_01_annotation.parquet',\n",
       "   'TUM_first_pool_36_01_01_annotation': '/cmnfs/proj/prosit/Transformer/TUM_first_pool_1/TUM_first_pool_36_01_01_annotation.parquet',\n",
       "   'TUM_first_pool_37_01_01_annotation': '/cmnfs/proj/prosit/Transformer/TUM_first_pool_1/TUM_first_pool_37_01_01_annotation.parquet',\n",
       "   'TUM_first_pool_38_01_01_annotation': '/cmnfs/proj/prosit/Transformer/TUM_first_pool_1/TUM_first_pool_38_01_01_annotation.parquet',\n",
       "   'TUM_first_pool_39_01_01_annotation': '/cmnfs/proj/prosit/Transformer/TUM_first_pool_1/TUM_first_pool_39_01_01_annotation.parquet',\n",
       "   'TUM_first_pool_3_01_01_annotation': '/cmnfs/proj/prosit/Transformer/TUM_first_pool_1/TUM_first_pool_3_01_01_annotation.parquet',\n",
       "   'TUM_first_pool_40_01_01_annotation': '/cmnfs/proj/prosit/Transformer/TUM_first_pool_1/TUM_first_pool_40_01_01_annotation.parquet',\n",
       "   'TUM_first_pool_41_01_01_annotation': '/cmnfs/proj/prosit/Transformer/TUM_first_pool_1/TUM_first_pool_41_01_01_annotation.parquet',\n",
       "   'TUM_first_pool_42_01_01_annotation': '/cmnfs/proj/prosit/Transformer/TUM_first_pool_1/TUM_first_pool_42_01_01_annotation.parquet',\n",
       "   'TUM_first_pool_43_01_01_annotation': '/cmnfs/proj/prosit/Transformer/TUM_first_pool_1/TUM_first_pool_43_01_01_annotation.parquet',\n",
       "   'TUM_first_pool_44_01_01_annotation': '/cmnfs/proj/prosit/Transformer/TUM_first_pool_1/TUM_first_pool_44_01_01_annotation.parquet',\n",
       "   'TUM_first_pool_45_01_01_annotation': '/cmnfs/proj/prosit/Transformer/TUM_first_pool_1/TUM_first_pool_45_01_01_annotation.parquet',\n",
       "   'TUM_first_pool_46_01_01_annotation': '/cmnfs/proj/prosit/Transformer/TUM_first_pool_1/TUM_first_pool_46_01_01_annotation.parquet',\n",
       "   'TUM_first_pool_47_01_01_annotation': '/cmnfs/proj/prosit/Transformer/TUM_first_pool_1/TUM_first_pool_47_01_01_annotation.parquet',\n",
       "   'TUM_first_pool_48_01_01_annotation': '/cmnfs/proj/prosit/Transformer/TUM_first_pool_1/TUM_first_pool_48_01_01_annotation.parquet',\n",
       "   'TUM_first_pool_49_01_01_annotation': '/cmnfs/proj/prosit/Transformer/TUM_first_pool_1/TUM_first_pool_49_01_01_annotation.parquet',\n",
       "   'TUM_first_pool_4_01_01_annotation': '/cmnfs/proj/prosit/Transformer/TUM_first_pool_1/TUM_first_pool_4_01_01_annotation.parquet',\n",
       "   'TUM_first_pool_50_01_01_annotation': '/cmnfs/proj/prosit/Transformer/TUM_first_pool_1/TUM_first_pool_50_01_01_annotation.parquet',\n",
       "   'TUM_first_pool_51_01_01_annotation': '/cmnfs/proj/prosit/Transformer/TUM_first_pool_1/TUM_first_pool_51_01_01_annotation.parquet',\n",
       "   'TUM_first_pool_52_01_01_annotation': '/cmnfs/proj/prosit/Transformer/TUM_first_pool_1/TUM_first_pool_52_01_01_annotation.parquet',\n",
       "   'TUM_first_pool_53_01_01_annotation': '/cmnfs/proj/prosit/Transformer/TUM_first_pool_1/TUM_first_pool_53_01_01_annotation.parquet',\n",
       "   'TUM_first_pool_54_01_01_annotation': '/cmnfs/proj/prosit/Transformer/TUM_first_pool_1/TUM_first_pool_54_01_01_annotation.parquet',\n",
       "   'TUM_first_pool_55_01_01_annotation': '/cmnfs/proj/prosit/Transformer/TUM_first_pool_1/TUM_first_pool_55_01_01_annotation.parquet',\n",
       "   'TUM_first_pool_56_01_01_annotation': '/cmnfs/proj/prosit/Transformer/TUM_first_pool_1/TUM_first_pool_56_01_01_annotation.parquet',\n",
       "   'TUM_first_pool_57_01_01_annotation': '/cmnfs/proj/prosit/Transformer/TUM_first_pool_1/TUM_first_pool_57_01_01_annotation.parquet',\n",
       "   'TUM_first_pool_58_01_01_annotation': '/cmnfs/proj/prosit/Transformer/TUM_first_pool_1/TUM_first_pool_58_01_01_annotation.parquet',\n",
       "   'TUM_first_pool_59_01_01_annotation': '/cmnfs/proj/prosit/Transformer/TUM_first_pool_1/TUM_first_pool_59_01_01_annotation.parquet',\n",
       "   'TUM_first_pool_5_01_01_annotation': '/cmnfs/proj/prosit/Transformer/TUM_first_pool_1/TUM_first_pool_5_01_01_annotation.parquet',\n",
       "   'TUM_first_pool_60_01_01_annotation': '/cmnfs/proj/prosit/Transformer/TUM_first_pool_1/TUM_first_pool_60_01_01_annotation.parquet',\n",
       "   'TUM_first_pool_61_01_01_annotation': '/cmnfs/proj/prosit/Transformer/TUM_first_pool_1/TUM_first_pool_61_01_01_annotation.parquet',\n",
       "   'TUM_first_pool_62_01_01_annotation': '/cmnfs/proj/prosit/Transformer/TUM_first_pool_1/TUM_first_pool_62_01_01_annotation.parquet',\n",
       "   'TUM_first_pool_6_01_01_annotation': '/cmnfs/proj/prosit/Transformer/TUM_first_pool_1/TUM_first_pool_6_01_01_annotation.parquet',\n",
       "   'TUM_first_pool_7_01_01_annotation': '/cmnfs/proj/prosit/Transformer/TUM_first_pool_1/TUM_first_pool_7_01_01_annotation.parquet',\n",
       "   'TUM_first_pool_8_01_01_annotation': '/cmnfs/proj/prosit/Transformer/TUM_first_pool_1/TUM_first_pool_8_01_01_annotation.parquet',\n",
       "   'TUM_first_pool_9_01_01_annotation': '/cmnfs/proj/prosit/Transformer/TUM_first_pool_1/TUM_first_pool_9_01_01_annotation.parquet'}},\n",
       " 'parameters': {'target_column_key': 'intensities_raw'}}"
      ]
     },
     "execution_count": 9,
     "metadata": {},
     "output_type": "execute_result"
    }
   ],
   "source": [
    "input_data_dict = {\n",
    "    \"metadata\": \"./TUM_first_pool_meta_data_filtered.parquet\",\n",
    "    \"annotations\": {\n",
    "        pool_keyword: dict(zip(annotations_names, annotations_filepaths))\n",
    "    },\n",
    "    \"parameters\": {\n",
    "        \"target_column_key\": \"intensities_raw\"\n",
    "    }\n",
    "}\n",
    "\n",
    "input_data_dict"
   ]
  },
  {
   "cell_type": "code",
   "execution_count": 10,
   "id": "86c22399",
   "metadata": {},
   "outputs": [],
   "source": [
    "# later we can feed the dict directly as a data source, for now we stick to json format\n",
    "\n",
    "import json\n",
    "with open(\"input_config.json\", 'w') as fp:\n",
    "    json.dump(input_data_dict, fp)"
   ]
  },
  {
   "cell_type": "code",
   "execution_count": 11,
   "id": "be6d1015",
   "metadata": {
    "scrolled": false
   },
   "outputs": [
    {
     "name": "stderr",
     "output_type": "stream",
     "text": [
      "2023-06-22 09:22:42.878369: I tensorflow/core/platform/cpu_feature_guard.cc:193] This TensorFlow binary is optimized with oneAPI Deep Neural Network Library (oneDNN) to use the following CPU instructions in performance-critical operations:  AVX2 FMA\n",
      "To enable them in other operations, rebuild TensorFlow with the appropriate compiler flags.\n",
      "2023-06-22 09:22:42.984915: E tensorflow/stream_executor/cuda/cuda_blas.cc:2981] Unable to register cuBLAS factory: Attempting to register factory for plugin cuBLAS when one has already been registered\n",
      "2023-06-22 09:22:43.453020: W tensorflow/stream_executor/platform/default/dso_loader.cc:64] Could not load dynamic library 'libnvinfer.so.7'; dlerror: libnvinfer.so.7: cannot open shared object file: No such file or directory\n",
      "2023-06-22 09:22:43.453092: W tensorflow/stream_executor/platform/default/dso_loader.cc:64] Could not load dynamic library 'libnvinfer_plugin.so.7'; dlerror: libnvinfer_plugin.so.7: cannot open shared object file: No such file or directory\n",
      "2023-06-22 09:22:43.453097: W tensorflow/compiler/tf2tensorrt/utils/py_utils.cc:38] TF-TRT Warning: Cannot dlopen some TensorRT libraries. If you would like to use Nvidia GPU with TensorRT, please make sure the missing libraries mentioned above are installed properly.\n"
     ]
    },
    {
     "ename": "KeyError",
     "evalue": "1932",
     "output_type": "error",
     "traceback": [
      "\u001b[0;31m---------------------------------------------------------------------------\u001b[0m",
      "\u001b[0;31mKeyError\u001b[0m                                  Traceback (most recent call last)",
      "File \u001b[0;32m~/miniconda3/envs/prosit-t/lib/python3.9/site-packages/pandas/core/indexes/base.py:3802\u001b[0m, in \u001b[0;36mIndex.get_loc\u001b[0;34m(self, key, method, tolerance)\u001b[0m\n\u001b[1;32m   3801\u001b[0m \u001b[38;5;28;01mtry\u001b[39;00m:\n\u001b[0;32m-> 3802\u001b[0m     \u001b[38;5;28;01mreturn\u001b[39;00m \u001b[38;5;28;43mself\u001b[39;49m\u001b[38;5;241;43m.\u001b[39;49m\u001b[43m_engine\u001b[49m\u001b[38;5;241;43m.\u001b[39;49m\u001b[43mget_loc\u001b[49m\u001b[43m(\u001b[49m\u001b[43mcasted_key\u001b[49m\u001b[43m)\u001b[49m\n\u001b[1;32m   3803\u001b[0m \u001b[38;5;28;01mexcept\u001b[39;00m \u001b[38;5;167;01mKeyError\u001b[39;00m \u001b[38;5;28;01mas\u001b[39;00m err:\n",
      "File \u001b[0;32m~/miniconda3/envs/prosit-t/lib/python3.9/site-packages/pandas/_libs/index.pyx:138\u001b[0m, in \u001b[0;36mpandas._libs.index.IndexEngine.get_loc\u001b[0;34m()\u001b[0m\n",
      "File \u001b[0;32m~/miniconda3/envs/prosit-t/lib/python3.9/site-packages/pandas/_libs/index.pyx:165\u001b[0m, in \u001b[0;36mpandas._libs.index.IndexEngine.get_loc\u001b[0;34m()\u001b[0m\n",
      "File \u001b[0;32mpandas/_libs/hashtable_class_helper.pxi:5745\u001b[0m, in \u001b[0;36mpandas._libs.hashtable.PyObjectHashTable.get_item\u001b[0;34m()\u001b[0m\n",
      "File \u001b[0;32mpandas/_libs/hashtable_class_helper.pxi:5753\u001b[0m, in \u001b[0;36mpandas._libs.hashtable.PyObjectHashTable.get_item\u001b[0;34m()\u001b[0m\n",
      "\u001b[0;31mKeyError\u001b[0m: 1932",
      "\nThe above exception was the direct cause of the following exception:\n",
      "\u001b[0;31mKeyError\u001b[0m                                  Traceback (most recent call last)",
      "Cell \u001b[0;32mIn[11], line 11\u001b[0m\n\u001b[1;32m      8\u001b[0m BATCH_SIZE \u001b[38;5;241m=\u001b[39m \u001b[38;5;241m128\u001b[39m\n\u001b[1;32m      9\u001b[0m SEQ_LENGTH \u001b[38;5;241m=\u001b[39m \u001b[38;5;241m30\u001b[39m\n\u001b[0;32m---> 11\u001b[0m int_data \u001b[38;5;241m=\u001b[39m \u001b[43mIntensityDataset\u001b[49m\u001b[43m(\u001b[49m\n\u001b[1;32m     12\u001b[0m \u001b[43m    \u001b[49m\u001b[43mdata_source\u001b[49m\u001b[38;5;241;43m=\u001b[39;49m\u001b[38;5;124;43m\"\u001b[39;49m\u001b[38;5;124;43minput_config.json\u001b[39;49m\u001b[38;5;124;43m\"\u001b[39;49m\u001b[43m,\u001b[49m\n\u001b[1;32m     13\u001b[0m \u001b[43m    \u001b[49m\u001b[43mseq_length\u001b[49m\u001b[38;5;241;43m=\u001b[39;49m\u001b[43mSEQ_LENGTH\u001b[49m\u001b[43m,\u001b[49m\n\u001b[1;32m     14\u001b[0m \u001b[43m    \u001b[49m\u001b[43mbatch_size\u001b[49m\u001b[38;5;241;43m=\u001b[39;49m\u001b[43mBATCH_SIZE\u001b[49m\u001b[43m,\u001b[49m\n\u001b[1;32m     15\u001b[0m \u001b[43m    \u001b[49m\u001b[43mval_ratio\u001b[49m\u001b[38;5;241;43m=\u001b[39;49m\u001b[38;5;241;43m0.15\u001b[39;49m\u001b[43m,\u001b[49m\n\u001b[1;32m     16\u001b[0m \u001b[43m    \u001b[49m\u001b[43mprecursor_charge_col\u001b[49m\u001b[38;5;241;43m=\u001b[39;49m\u001b[38;5;124;43m\"\u001b[39;49m\u001b[38;5;124;43mprecursor_charge_onehot\u001b[39;49m\u001b[38;5;124;43m\"\u001b[39;49m\u001b[43m,\u001b[49m\n\u001b[1;32m     17\u001b[0m \u001b[43m    \u001b[49m\u001b[43msequence_col\u001b[49m\u001b[38;5;241;43m=\u001b[39;49m\u001b[38;5;124;43m\"\u001b[39;49m\u001b[38;5;124;43mmodified_sequence\u001b[39;49m\u001b[38;5;124;43m\"\u001b[39;49m\u001b[43m,\u001b[49m\n\u001b[1;32m     18\u001b[0m \u001b[43m    \u001b[49m\u001b[43mcollision_energy_col\u001b[49m\u001b[38;5;241;43m=\u001b[39;49m\u001b[38;5;124;43m\"\u001b[39;49m\u001b[38;5;124;43mcollision_energy_aligned_normed\u001b[39;49m\u001b[38;5;124;43m\"\u001b[39;49m\u001b[43m,\u001b[49m\n\u001b[1;32m     19\u001b[0m \u001b[43m    \u001b[49m\u001b[43mintensities_col\u001b[49m\u001b[38;5;241;43m=\u001b[39;49m\u001b[38;5;124;43m\"\u001b[39;49m\u001b[38;5;124;43mintensities_raw\u001b[39;49m\u001b[38;5;124;43m\"\u001b[39;49m\u001b[43m,\u001b[49m\n\u001b[1;32m     20\u001b[0m \u001b[43m    \u001b[49m\u001b[43mfeatures_to_extract\u001b[49m\u001b[38;5;241;43m=\u001b[39;49m\u001b[43m[\u001b[49m\n\u001b[1;32m     21\u001b[0m \u001b[43m        \u001b[49m\u001b[43mModificationLocationFeature\u001b[49m\u001b[43m(\u001b[49m\u001b[43m)\u001b[49m\u001b[43m,\u001b[49m\n\u001b[1;32m     22\u001b[0m \u001b[43m        \u001b[49m\u001b[43mModificationLossFeature\u001b[49m\u001b[43m(\u001b[49m\u001b[43m)\u001b[49m\u001b[43m,\u001b[49m\n\u001b[1;32m     23\u001b[0m \u001b[43m        \u001b[49m\u001b[43mModificationGainFeature\u001b[49m\u001b[43m(\u001b[49m\u001b[43m)\u001b[49m\u001b[43m,\u001b[49m\n\u001b[1;32m     24\u001b[0m \u001b[43m    \u001b[49m\u001b[43m]\u001b[49m\u001b[43m,\u001b[49m\n\u001b[1;32m     25\u001b[0m \u001b[43m    \u001b[49m\u001b[43mparser\u001b[49m\u001b[38;5;241;43m=\u001b[39;49m\u001b[38;5;124;43m\"\u001b[39;49m\u001b[38;5;124;43mproforma\u001b[39;49m\u001b[38;5;124;43m\"\u001b[39;49m\u001b[43m,\u001b[49m\n\u001b[1;32m     26\u001b[0m \u001b[43m)\u001b[49m\n",
      "File \u001b[0;32m~/transforming-prosit/prosit_t/data/IntensityDataset.py:106\u001b[0m, in \u001b[0;36mIntensityDataset.__init__\u001b[0;34m(self, data_source, sep, sequence_col, collision_energy_col, precursor_charge_col, intensities_col, feature_cols, normalize_targets, seq_length, parser, features_to_extract, batch_size, val_ratio, seed, test, path_aminoacid_atomcounts, sample_run)\u001b[0m\n\u001b[1;32m    104\u001b[0m \u001b[38;5;66;03m# if data is provided with the constructor call --> load, otherwise --> done\u001b[39;00m\n\u001b[1;32m    105\u001b[0m \u001b[38;5;28;01mif\u001b[39;00m \u001b[38;5;28mself\u001b[39m\u001b[38;5;241m.\u001b[39mdata_source \u001b[38;5;129;01mis\u001b[39;00m \u001b[38;5;129;01mnot\u001b[39;00m \u001b[38;5;28;01mNone\u001b[39;00m:\n\u001b[0;32m--> 106\u001b[0m     \u001b[38;5;28;43mself\u001b[39;49m\u001b[38;5;241;43m.\u001b[39;49m\u001b[43mload_data\u001b[49m\u001b[43m(\u001b[49m\u001b[43mdata\u001b[49m\u001b[38;5;241;43m=\u001b[39;49m\u001b[43mdata_source\u001b[49m\u001b[43m)\u001b[49m\n",
      "File \u001b[0;32m~/transforming-prosit/prosit_t/data/IntensityDataset.py:117\u001b[0m, in \u001b[0;36mIntensityDataset.load_data\u001b[0;34m(self, data)\u001b[0m\n\u001b[1;32m    109\u001b[0m \u001b[38;5;250m\u001b[39m\u001b[38;5;124;03m\"\"\"Load data into the dataset object, can be used to load data at a later point after initialization.\u001b[39;00m\n\u001b[1;32m    110\u001b[0m \u001b[38;5;124;03mThis function triggers the whole pipeline of: data loading, validation (against sequence length), splitting, building TensorFlow dataset objects, and apply preprocessing.\u001b[39;00m\n\u001b[1;32m    111\u001b[0m \n\u001b[1;32m    112\u001b[0m \u001b[38;5;124;03m:param data: a `str` with a file path to csv file\u001b[39;00m\n\u001b[1;32m    113\u001b[0m \u001b[38;5;124;03m:return: None\u001b[39;00m\n\u001b[1;32m    114\u001b[0m \u001b[38;5;124;03m\"\"\"\u001b[39;00m\n\u001b[1;32m    115\u001b[0m \u001b[38;5;28mself\u001b[39m\u001b[38;5;241m.\u001b[39mdata_source \u001b[38;5;241m=\u001b[39m data\n\u001b[0;32m--> 117\u001b[0m \u001b[38;5;28;43mself\u001b[39;49m\u001b[38;5;241;43m.\u001b[39;49m\u001b[43m_read_data\u001b[49m\u001b[43m(\u001b[49m\u001b[43m)\u001b[49m\n\u001b[1;32m    118\u001b[0m \u001b[38;5;66;03m# consider removing lengthy sequences when no parser is passed\u001b[39;00m\n\u001b[1;32m    119\u001b[0m \n\u001b[1;32m    120\u001b[0m \u001b[38;5;66;03m# Numpy & Pandas\u001b[39;00m\n\u001b[1;32m    121\u001b[0m \u001b[38;5;28;01mif\u001b[39;00m \u001b[38;5;28mself\u001b[39m\u001b[38;5;241m.\u001b[39mparser:\n",
      "File \u001b[0;32m~/transforming-prosit/prosit_t/data/IntensityDataset.py:164\u001b[0m, in \u001b[0;36mIntensityDataset._read_data\u001b[0;34m(self)\u001b[0m\n\u001b[1;32m    160\u001b[0m         \u001b[38;5;28;01mraise\u001b[39;00m \u001b[38;5;167;01mValueError\u001b[39;00m(\n\u001b[1;32m    161\u001b[0m             \u001b[38;5;124m\"\u001b[39m\u001b[38;5;124mIf a tuple is provided, it has to have a length of 4 and all elements should be numpy arrays.\u001b[39m\u001b[38;5;124m\"\u001b[39m\n\u001b[1;32m    162\u001b[0m         )\n\u001b[1;32m    163\u001b[0m \u001b[38;5;28;01melif\u001b[39;00m \u001b[38;5;28misinstance\u001b[39m(\u001b[38;5;28mself\u001b[39m\u001b[38;5;241m.\u001b[39mdata_source, \u001b[38;5;28mstr\u001b[39m):\n\u001b[0;32m--> 164\u001b[0m     df \u001b[38;5;241m=\u001b[39m \u001b[38;5;28;43mself\u001b[39;49m\u001b[38;5;241;43m.\u001b[39;49m\u001b[43m_resolve_string_data_path\u001b[49m\u001b[43m(\u001b[49m\u001b[43m)\u001b[49m\n\u001b[1;32m    166\u001b[0m     \u001b[38;5;66;03m# used only for testing with a smaller sample from a csv file\u001b[39;00m\n\u001b[1;32m    167\u001b[0m     \u001b[38;5;28;01mif\u001b[39;00m \u001b[38;5;28mself\u001b[39m\u001b[38;5;241m.\u001b[39msample_run:\n",
      "File \u001b[0;32m~/miniconda3/envs/prosit-t/lib/python3.9/site-packages/dlomix/data/AbstractDataset.py:186\u001b[0m, in \u001b[0;36mAbstractDataset._resolve_string_data_path\u001b[0;34m(self)\u001b[0m\n\u001b[1;32m    184\u001b[0m     json_file_base_dir \u001b[38;5;241m=\u001b[39m dirname(abspath(\u001b[38;5;28mself\u001b[39m\u001b[38;5;241m.\u001b[39mdata_source))\n\u001b[1;32m    185\u001b[0m     \u001b[38;5;28mself\u001b[39m\u001b[38;5;241m.\u001b[39mdata_source \u001b[38;5;241m=\u001b[39m read_json_file(\u001b[38;5;28mself\u001b[39m\u001b[38;5;241m.\u001b[39mdata_source)\n\u001b[0;32m--> 186\u001b[0m     \u001b[38;5;28;43mself\u001b[39;49m\u001b[38;5;241;43m.\u001b[39;49m\u001b[43m_update_data_loading_for_json_format\u001b[49m\u001b[43m(\u001b[49m\u001b[43mjson_file_base_dir\u001b[49m\u001b[43m)\u001b[49m\n\u001b[1;32m    188\u001b[0m is_parquet_url \u001b[38;5;241m=\u001b[39m \u001b[38;5;124m\"\u001b[39m\u001b[38;5;124m.parquet\u001b[39m\u001b[38;5;124m\"\u001b[39m \u001b[38;5;129;01min\u001b[39;00m \u001b[38;5;28mself\u001b[39m\u001b[38;5;241m.\u001b[39mdata_source \u001b[38;5;129;01mand\u001b[39;00m \u001b[38;5;28mself\u001b[39m\u001b[38;5;241m.\u001b[39mdata_source\u001b[38;5;241m.\u001b[39mstartswith(\n\u001b[1;32m    189\u001b[0m     \u001b[38;5;124m\"\u001b[39m\u001b[38;5;124mhttp\u001b[39m\u001b[38;5;124m\"\u001b[39m\n\u001b[1;32m    190\u001b[0m )\n\u001b[1;32m    191\u001b[0m is_parquet_file \u001b[38;5;241m=\u001b[39m \u001b[38;5;28mself\u001b[39m\u001b[38;5;241m.\u001b[39mdata_source\u001b[38;5;241m.\u001b[39mendswith(\u001b[38;5;124m\"\u001b[39m\u001b[38;5;124m.parquet\u001b[39m\u001b[38;5;124m\"\u001b[39m)\n",
      "File \u001b[0;32m~/transforming-prosit/prosit_t/data/IntensityDataset.py:233\u001b[0m, in \u001b[0;36mIntensityDataset._update_data_loading_for_json_format\u001b[0;34m(self, base_dir)\u001b[0m\n\u001b[1;32m    228\u001b[0m     \u001b[38;5;28;01mraise\u001b[39;00m \u001b[38;5;167;01mValueError\u001b[39;00m(\n\u001b[1;32m    229\u001b[0m         \u001b[38;5;124m\"\u001b[39m\u001b[38;5;124mNo paths to annotation files were provided in the JSON file.\u001b[39m\u001b[38;5;124m\"\u001b[39m\n\u001b[1;32m    230\u001b[0m     )\n\u001b[1;32m    232\u001b[0m \u001b[38;5;66;03m# ToDo: consider options to check if the files were processed earlier and skip this step since it is time consuming\u001b[39;00m\n\u001b[0;32m--> 233\u001b[0m \u001b[38;5;28mself\u001b[39m\u001b[38;5;241m.\u001b[39mdata_source \u001b[38;5;241m=\u001b[39m \u001b[43mprospect\u001b[49m\u001b[38;5;241;43m.\u001b[39;49m\u001b[43mdownload_process_pool\u001b[49m\u001b[43m(\u001b[49m\n\u001b[1;32m    234\u001b[0m \u001b[43m    \u001b[49m\u001b[43mannotations_data_dir\u001b[49m\u001b[38;5;241;43m=\u001b[39;49m\u001b[43mannotations_dir\u001b[49m\u001b[43m,\u001b[49m\n\u001b[1;32m    235\u001b[0m \u001b[43m    \u001b[49m\u001b[43mmetadata_path\u001b[49m\u001b[38;5;241;43m=\u001b[39;49m\u001b[43mmeta_data_filepath\u001b[49m\u001b[43m,\u001b[49m\n\u001b[1;32m    236\u001b[0m \u001b[43m    \u001b[49m\u001b[43msave_filepath\u001b[49m\u001b[38;5;241;43m=\u001b[39;49m\u001b[43mjoin\u001b[49m\u001b[43m(\u001b[49m\u001b[43mbase_dir\u001b[49m\u001b[43m,\u001b[49m\u001b[43m \u001b[49m\u001b[38;5;124;43m\"\u001b[39;49m\u001b[38;5;124;43mprocessed_pool.parquet\u001b[39;49m\u001b[38;5;124;43m\"\u001b[39;49m\u001b[43m)\u001b[49m\u001b[43m,\u001b[49m\n\u001b[1;32m    237\u001b[0m \u001b[43m\u001b[49m\u001b[43m)\u001b[49m\n\u001b[1;32m    239\u001b[0m \u001b[38;5;28mself\u001b[39m\u001b[38;5;241m.\u001b[39mintensities_col \u001b[38;5;241m=\u001b[39m json_dict\u001b[38;5;241m.\u001b[39mget(IntensityDataset\u001b[38;5;241m.\u001b[39mPARAMS_KEY, {})\u001b[38;5;241m.\u001b[39mget(\n\u001b[1;32m    240\u001b[0m     IntensityDataset\u001b[38;5;241m.\u001b[39mTARGET_NAME_KEY, \u001b[38;5;28mself\u001b[39m\u001b[38;5;241m.\u001b[39mintensities_col\n\u001b[1;32m    241\u001b[0m )\n\u001b[1;32m    242\u001b[0m \u001b[38;5;66;03m# ToDo: make dynamic based on parameters\u001b[39;00m\n",
      "File \u001b[0;32m~/miniconda3/envs/prosit-t/lib/python3.9/site-packages/prospectdataset/process_intensity_data.py:40\u001b[0m, in \u001b[0;36mdownload_process_pool\u001b[0;34m(annotations_data_dir, metadata_path, pool_name, save_filepath)\u001b[0m\n\u001b[1;32m     37\u001b[0m \u001b[38;5;28;01mif\u001b[39;00m \u001b[38;5;124m\"\u001b[39m\u001b[38;5;124mexperimental_mass\u001b[39m\u001b[38;5;124m\"\u001b[39m \u001b[38;5;129;01min\u001b[39;00m \u001b[38;5;28mlist\u001b[39m(annotation_df\u001b[38;5;241m.\u001b[39mcolumns):\n\u001b[1;32m     38\u001b[0m     annotation_df\u001b[38;5;241m.\u001b[39mrename(columns\u001b[38;5;241m=\u001b[39m{\u001b[38;5;124m'\u001b[39m\u001b[38;5;124mexperimental_mass\u001b[39m\u001b[38;5;124m'\u001b[39m:\u001b[38;5;124m'\u001b[39m\u001b[38;5;124mexp_mass\u001b[39m\u001b[38;5;124m'\u001b[39m}, inplace\u001b[38;5;241m=\u001b[39m\u001b[38;5;28;01mTrue\u001b[39;00m)\n\u001b[0;32m---> 40\u001b[0m annotation_matrix_df \u001b[38;5;241m=\u001b[39m \u001b[43mbuild_annotation_df\u001b[49m\u001b[43m(\u001b[49m\u001b[43mannotation_df\u001b[49m\u001b[43m,\u001b[49m\u001b[43m \u001b[49m\u001b[43mmetadata_df\u001b[49m\u001b[43m)\u001b[49m\n\u001b[1;32m     41\u001b[0m \u001b[38;5;28;01mdel\u001b[39;00m annotation_df\n\u001b[1;32m     43\u001b[0m meta_data_merge \u001b[38;5;241m=\u001b[39m metadata_df\u001b[38;5;241m.\u001b[39mmerge(annotation_matrix_df, on\u001b[38;5;241m=\u001b[39m[\u001b[38;5;124m'\u001b[39m\u001b[38;5;124mraw_file\u001b[39m\u001b[38;5;124m'\u001b[39m,\u001b[38;5;124m'\u001b[39m\u001b[38;5;124mscan_number\u001b[39m\u001b[38;5;124m'\u001b[39m], how\u001b[38;5;241m=\u001b[39m\u001b[38;5;124m'\u001b[39m\u001b[38;5;124minner\u001b[39m\u001b[38;5;124m'\u001b[39m)\n",
      "File \u001b[0;32m~/miniconda3/envs/prosit-t/lib/python3.9/site-packages/prospectdataset/process_intensity_data.py:125\u001b[0m, in \u001b[0;36mbuild_annotation_df\u001b[0;34m(annotation_df, metadata_df)\u001b[0m\n\u001b[1;32m    122\u001b[0m \u001b[38;5;28;01mfor\u001b[39;00m scan, spectrum \u001b[38;5;129;01min\u001b[39;00m annotation_scans:\n\u001b[1;32m    123\u001b[0m     \u001b[38;5;66;03m# select the two columns from meta data\u001b[39;00m\n\u001b[1;32m    124\u001b[0m     raw_file, scan_number \u001b[38;5;241m=\u001b[39m scan\n\u001b[0;32m--> 125\u001b[0m     charge_modseq \u001b[38;5;241m=\u001b[39m \u001b[43mcharge_seq\u001b[49m\u001b[38;5;241;43m.\u001b[39;49m\u001b[43mloc\u001b[49m\u001b[43m[\u001b[49m\u001b[43mraw_file\u001b[49m\u001b[43m,\u001b[49m\u001b[43m \u001b[49m\u001b[43mscan_number\u001b[49m\u001b[43m]\u001b[49m\n\u001b[1;32m    126\u001b[0m     charge \u001b[38;5;241m=\u001b[39m charge_modseq\u001b[38;5;241m.\u001b[39mprecursor_charge\n\u001b[1;32m    127\u001b[0m     mod_sequence \u001b[38;5;241m=\u001b[39m charge_modseq\u001b[38;5;241m.\u001b[39mmodified_sequence\n",
      "File \u001b[0;32m~/miniconda3/envs/prosit-t/lib/python3.9/site-packages/pandas/core/indexing.py:1067\u001b[0m, in \u001b[0;36m_LocationIndexer.__getitem__\u001b[0;34m(self, key)\u001b[0m\n\u001b[1;32m   1065\u001b[0m     \u001b[38;5;28;01mif\u001b[39;00m \u001b[38;5;28mself\u001b[39m\u001b[38;5;241m.\u001b[39m_is_scalar_access(key):\n\u001b[1;32m   1066\u001b[0m         \u001b[38;5;28;01mreturn\u001b[39;00m \u001b[38;5;28mself\u001b[39m\u001b[38;5;241m.\u001b[39mobj\u001b[38;5;241m.\u001b[39m_get_value(\u001b[38;5;241m*\u001b[39mkey, takeable\u001b[38;5;241m=\u001b[39m\u001b[38;5;28mself\u001b[39m\u001b[38;5;241m.\u001b[39m_takeable)\n\u001b[0;32m-> 1067\u001b[0m     \u001b[38;5;28;01mreturn\u001b[39;00m \u001b[38;5;28;43mself\u001b[39;49m\u001b[38;5;241;43m.\u001b[39;49m\u001b[43m_getitem_tuple\u001b[49m\u001b[43m(\u001b[49m\u001b[43mkey\u001b[49m\u001b[43m)\u001b[49m\n\u001b[1;32m   1068\u001b[0m \u001b[38;5;28;01melse\u001b[39;00m:\n\u001b[1;32m   1069\u001b[0m     \u001b[38;5;66;03m# we by definition only have the 0th axis\u001b[39;00m\n\u001b[1;32m   1070\u001b[0m     axis \u001b[38;5;241m=\u001b[39m \u001b[38;5;28mself\u001b[39m\u001b[38;5;241m.\u001b[39maxis \u001b[38;5;129;01mor\u001b[39;00m \u001b[38;5;241m0\u001b[39m\n",
      "File \u001b[0;32m~/miniconda3/envs/prosit-t/lib/python3.9/site-packages/pandas/core/indexing.py:1247\u001b[0m, in \u001b[0;36m_LocIndexer._getitem_tuple\u001b[0;34m(self, tup)\u001b[0m\n\u001b[1;32m   1245\u001b[0m \u001b[38;5;28;01mwith\u001b[39;00m suppress(IndexingError):\n\u001b[1;32m   1246\u001b[0m     tup \u001b[38;5;241m=\u001b[39m \u001b[38;5;28mself\u001b[39m\u001b[38;5;241m.\u001b[39m_expand_ellipsis(tup)\n\u001b[0;32m-> 1247\u001b[0m     \u001b[38;5;28;01mreturn\u001b[39;00m \u001b[38;5;28;43mself\u001b[39;49m\u001b[38;5;241;43m.\u001b[39;49m\u001b[43m_getitem_lowerdim\u001b[49m\u001b[43m(\u001b[49m\u001b[43mtup\u001b[49m\u001b[43m)\u001b[49m\n\u001b[1;32m   1249\u001b[0m \u001b[38;5;66;03m# no multi-index, so validate all of the indexers\u001b[39;00m\n\u001b[1;32m   1250\u001b[0m tup \u001b[38;5;241m=\u001b[39m \u001b[38;5;28mself\u001b[39m\u001b[38;5;241m.\u001b[39m_validate_tuple_indexer(tup)\n",
      "File \u001b[0;32m~/miniconda3/envs/prosit-t/lib/python3.9/site-packages/pandas/core/indexing.py:991\u001b[0m, in \u001b[0;36m_LocationIndexer._getitem_lowerdim\u001b[0;34m(self, tup)\u001b[0m\n\u001b[1;32m    989\u001b[0m             \u001b[38;5;28;01mreturn\u001b[39;00m section\n\u001b[1;32m    990\u001b[0m         \u001b[38;5;66;03m# This is an elided recursive call to iloc/loc\u001b[39;00m\n\u001b[0;32m--> 991\u001b[0m         \u001b[38;5;28;01mreturn\u001b[39;00m \u001b[38;5;28;43mgetattr\u001b[39;49m\u001b[43m(\u001b[49m\u001b[43msection\u001b[49m\u001b[43m,\u001b[49m\u001b[43m \u001b[49m\u001b[38;5;28;43mself\u001b[39;49m\u001b[38;5;241;43m.\u001b[39;49m\u001b[43mname\u001b[49m\u001b[43m)\u001b[49m\u001b[43m[\u001b[49m\u001b[43mnew_key\u001b[49m\u001b[43m]\u001b[49m\n\u001b[1;32m    993\u001b[0m \u001b[38;5;28;01mraise\u001b[39;00m IndexingError(\u001b[38;5;124m\"\u001b[39m\u001b[38;5;124mnot applicable\u001b[39m\u001b[38;5;124m\"\u001b[39m)\n",
      "File \u001b[0;32m~/miniconda3/envs/prosit-t/lib/python3.9/site-packages/pandas/core/indexing.py:1067\u001b[0m, in \u001b[0;36m_LocationIndexer.__getitem__\u001b[0;34m(self, key)\u001b[0m\n\u001b[1;32m   1065\u001b[0m     \u001b[38;5;28;01mif\u001b[39;00m \u001b[38;5;28mself\u001b[39m\u001b[38;5;241m.\u001b[39m_is_scalar_access(key):\n\u001b[1;32m   1066\u001b[0m         \u001b[38;5;28;01mreturn\u001b[39;00m \u001b[38;5;28mself\u001b[39m\u001b[38;5;241m.\u001b[39mobj\u001b[38;5;241m.\u001b[39m_get_value(\u001b[38;5;241m*\u001b[39mkey, takeable\u001b[38;5;241m=\u001b[39m\u001b[38;5;28mself\u001b[39m\u001b[38;5;241m.\u001b[39m_takeable)\n\u001b[0;32m-> 1067\u001b[0m     \u001b[38;5;28;01mreturn\u001b[39;00m \u001b[38;5;28;43mself\u001b[39;49m\u001b[38;5;241;43m.\u001b[39;49m\u001b[43m_getitem_tuple\u001b[49m\u001b[43m(\u001b[49m\u001b[43mkey\u001b[49m\u001b[43m)\u001b[49m\n\u001b[1;32m   1068\u001b[0m \u001b[38;5;28;01melse\u001b[39;00m:\n\u001b[1;32m   1069\u001b[0m     \u001b[38;5;66;03m# we by definition only have the 0th axis\u001b[39;00m\n\u001b[1;32m   1070\u001b[0m     axis \u001b[38;5;241m=\u001b[39m \u001b[38;5;28mself\u001b[39m\u001b[38;5;241m.\u001b[39maxis \u001b[38;5;129;01mor\u001b[39;00m \u001b[38;5;241m0\u001b[39m\n",
      "File \u001b[0;32m~/miniconda3/envs/prosit-t/lib/python3.9/site-packages/pandas/core/indexing.py:1247\u001b[0m, in \u001b[0;36m_LocIndexer._getitem_tuple\u001b[0;34m(self, tup)\u001b[0m\n\u001b[1;32m   1245\u001b[0m \u001b[38;5;28;01mwith\u001b[39;00m suppress(IndexingError):\n\u001b[1;32m   1246\u001b[0m     tup \u001b[38;5;241m=\u001b[39m \u001b[38;5;28mself\u001b[39m\u001b[38;5;241m.\u001b[39m_expand_ellipsis(tup)\n\u001b[0;32m-> 1247\u001b[0m     \u001b[38;5;28;01mreturn\u001b[39;00m \u001b[38;5;28;43mself\u001b[39;49m\u001b[38;5;241;43m.\u001b[39;49m\u001b[43m_getitem_lowerdim\u001b[49m\u001b[43m(\u001b[49m\u001b[43mtup\u001b[49m\u001b[43m)\u001b[49m\n\u001b[1;32m   1249\u001b[0m \u001b[38;5;66;03m# no multi-index, so validate all of the indexers\u001b[39;00m\n\u001b[1;32m   1250\u001b[0m tup \u001b[38;5;241m=\u001b[39m \u001b[38;5;28mself\u001b[39m\u001b[38;5;241m.\u001b[39m_validate_tuple_indexer(tup)\n",
      "File \u001b[0;32m~/miniconda3/envs/prosit-t/lib/python3.9/site-packages/pandas/core/indexing.py:967\u001b[0m, in \u001b[0;36m_LocationIndexer._getitem_lowerdim\u001b[0;34m(self, tup)\u001b[0m\n\u001b[1;32m    963\u001b[0m \u001b[38;5;28;01mfor\u001b[39;00m i, key \u001b[38;5;129;01min\u001b[39;00m \u001b[38;5;28menumerate\u001b[39m(tup):\n\u001b[1;32m    964\u001b[0m     \u001b[38;5;28;01mif\u001b[39;00m is_label_like(key):\n\u001b[1;32m    965\u001b[0m         \u001b[38;5;66;03m# We don't need to check for tuples here because those are\u001b[39;00m\n\u001b[1;32m    966\u001b[0m         \u001b[38;5;66;03m#  caught by the _is_nested_tuple_indexer check above.\u001b[39;00m\n\u001b[0;32m--> 967\u001b[0m         section \u001b[38;5;241m=\u001b[39m \u001b[38;5;28;43mself\u001b[39;49m\u001b[38;5;241;43m.\u001b[39;49m\u001b[43m_getitem_axis\u001b[49m\u001b[43m(\u001b[49m\u001b[43mkey\u001b[49m\u001b[43m,\u001b[49m\u001b[43m \u001b[49m\u001b[43maxis\u001b[49m\u001b[38;5;241;43m=\u001b[39;49m\u001b[43mi\u001b[49m\u001b[43m)\u001b[49m\n\u001b[1;32m    969\u001b[0m         \u001b[38;5;66;03m# We should never have a scalar section here, because\u001b[39;00m\n\u001b[1;32m    970\u001b[0m         \u001b[38;5;66;03m#  _getitem_lowerdim is only called after a check for\u001b[39;00m\n\u001b[1;32m    971\u001b[0m         \u001b[38;5;66;03m#  is_scalar_access, which that would be.\u001b[39;00m\n\u001b[1;32m    972\u001b[0m         \u001b[38;5;28;01mif\u001b[39;00m section\u001b[38;5;241m.\u001b[39mndim \u001b[38;5;241m==\u001b[39m \u001b[38;5;28mself\u001b[39m\u001b[38;5;241m.\u001b[39mndim:\n\u001b[1;32m    973\u001b[0m             \u001b[38;5;66;03m# we're in the middle of slicing through a MultiIndex\u001b[39;00m\n\u001b[1;32m    974\u001b[0m             \u001b[38;5;66;03m# revise the key wrt to `section` by inserting an _NS\u001b[39;00m\n",
      "File \u001b[0;32m~/miniconda3/envs/prosit-t/lib/python3.9/site-packages/pandas/core/indexing.py:1312\u001b[0m, in \u001b[0;36m_LocIndexer._getitem_axis\u001b[0;34m(self, key, axis)\u001b[0m\n\u001b[1;32m   1310\u001b[0m \u001b[38;5;66;03m# fall thru to straight lookup\u001b[39;00m\n\u001b[1;32m   1311\u001b[0m \u001b[38;5;28mself\u001b[39m\u001b[38;5;241m.\u001b[39m_validate_key(key, axis)\n\u001b[0;32m-> 1312\u001b[0m \u001b[38;5;28;01mreturn\u001b[39;00m \u001b[38;5;28;43mself\u001b[39;49m\u001b[38;5;241;43m.\u001b[39;49m\u001b[43m_get_label\u001b[49m\u001b[43m(\u001b[49m\u001b[43mkey\u001b[49m\u001b[43m,\u001b[49m\u001b[43m \u001b[49m\u001b[43maxis\u001b[49m\u001b[38;5;241;43m=\u001b[39;49m\u001b[43maxis\u001b[49m\u001b[43m)\u001b[49m\n",
      "File \u001b[0;32m~/miniconda3/envs/prosit-t/lib/python3.9/site-packages/pandas/core/indexing.py:1260\u001b[0m, in \u001b[0;36m_LocIndexer._get_label\u001b[0;34m(self, label, axis)\u001b[0m\n\u001b[1;32m   1258\u001b[0m \u001b[38;5;28;01mdef\u001b[39;00m \u001b[38;5;21m_get_label\u001b[39m(\u001b[38;5;28mself\u001b[39m, label, axis: \u001b[38;5;28mint\u001b[39m):\n\u001b[1;32m   1259\u001b[0m     \u001b[38;5;66;03m# GH#5567 this will fail if the label is not present in the axis.\u001b[39;00m\n\u001b[0;32m-> 1260\u001b[0m     \u001b[38;5;28;01mreturn\u001b[39;00m \u001b[38;5;28;43mself\u001b[39;49m\u001b[38;5;241;43m.\u001b[39;49m\u001b[43mobj\u001b[49m\u001b[38;5;241;43m.\u001b[39;49m\u001b[43mxs\u001b[49m\u001b[43m(\u001b[49m\u001b[43mlabel\u001b[49m\u001b[43m,\u001b[49m\u001b[43m \u001b[49m\u001b[43maxis\u001b[49m\u001b[38;5;241;43m=\u001b[39;49m\u001b[43maxis\u001b[49m\u001b[43m)\u001b[49m\n",
      "File \u001b[0;32m~/miniconda3/envs/prosit-t/lib/python3.9/site-packages/pandas/core/generic.py:4041\u001b[0m, in \u001b[0;36mNDFrame.xs\u001b[0;34m(self, key, axis, level, drop_level)\u001b[0m\n\u001b[1;32m   4039\u001b[0m \u001b[38;5;28;01mif\u001b[39;00m axis \u001b[38;5;241m==\u001b[39m \u001b[38;5;241m1\u001b[39m:\n\u001b[1;32m   4040\u001b[0m     \u001b[38;5;28;01mif\u001b[39;00m drop_level:\n\u001b[0;32m-> 4041\u001b[0m         \u001b[38;5;28;01mreturn\u001b[39;00m \u001b[38;5;28;43mself\u001b[39;49m\u001b[43m[\u001b[49m\u001b[43mkey\u001b[49m\u001b[43m]\u001b[49m\n\u001b[1;32m   4042\u001b[0m     index \u001b[38;5;241m=\u001b[39m \u001b[38;5;28mself\u001b[39m\u001b[38;5;241m.\u001b[39mcolumns\n\u001b[1;32m   4043\u001b[0m \u001b[38;5;28;01melse\u001b[39;00m:\n",
      "File \u001b[0;32m~/miniconda3/envs/prosit-t/lib/python3.9/site-packages/pandas/core/frame.py:3807\u001b[0m, in \u001b[0;36mDataFrame.__getitem__\u001b[0;34m(self, key)\u001b[0m\n\u001b[1;32m   3805\u001b[0m \u001b[38;5;28;01mif\u001b[39;00m \u001b[38;5;28mself\u001b[39m\u001b[38;5;241m.\u001b[39mcolumns\u001b[38;5;241m.\u001b[39mnlevels \u001b[38;5;241m>\u001b[39m \u001b[38;5;241m1\u001b[39m:\n\u001b[1;32m   3806\u001b[0m     \u001b[38;5;28;01mreturn\u001b[39;00m \u001b[38;5;28mself\u001b[39m\u001b[38;5;241m.\u001b[39m_getitem_multilevel(key)\n\u001b[0;32m-> 3807\u001b[0m indexer \u001b[38;5;241m=\u001b[39m \u001b[38;5;28;43mself\u001b[39;49m\u001b[38;5;241;43m.\u001b[39;49m\u001b[43mcolumns\u001b[49m\u001b[38;5;241;43m.\u001b[39;49m\u001b[43mget_loc\u001b[49m\u001b[43m(\u001b[49m\u001b[43mkey\u001b[49m\u001b[43m)\u001b[49m\n\u001b[1;32m   3808\u001b[0m \u001b[38;5;28;01mif\u001b[39;00m is_integer(indexer):\n\u001b[1;32m   3809\u001b[0m     indexer \u001b[38;5;241m=\u001b[39m [indexer]\n",
      "File \u001b[0;32m~/miniconda3/envs/prosit-t/lib/python3.9/site-packages/pandas/core/indexes/base.py:3804\u001b[0m, in \u001b[0;36mIndex.get_loc\u001b[0;34m(self, key, method, tolerance)\u001b[0m\n\u001b[1;32m   3802\u001b[0m     \u001b[38;5;28;01mreturn\u001b[39;00m \u001b[38;5;28mself\u001b[39m\u001b[38;5;241m.\u001b[39m_engine\u001b[38;5;241m.\u001b[39mget_loc(casted_key)\n\u001b[1;32m   3803\u001b[0m \u001b[38;5;28;01mexcept\u001b[39;00m \u001b[38;5;167;01mKeyError\u001b[39;00m \u001b[38;5;28;01mas\u001b[39;00m err:\n\u001b[0;32m-> 3804\u001b[0m     \u001b[38;5;28;01mraise\u001b[39;00m \u001b[38;5;167;01mKeyError\u001b[39;00m(key) \u001b[38;5;28;01mfrom\u001b[39;00m \u001b[38;5;21;01merr\u001b[39;00m\n\u001b[1;32m   3805\u001b[0m \u001b[38;5;28;01mexcept\u001b[39;00m \u001b[38;5;167;01mTypeError\u001b[39;00m:\n\u001b[1;32m   3806\u001b[0m     \u001b[38;5;66;03m# If we have a listlike key, _check_indexing_error will raise\u001b[39;00m\n\u001b[1;32m   3807\u001b[0m     \u001b[38;5;66;03m#  InvalidIndexError. Otherwise we fall through and re-raise\u001b[39;00m\n\u001b[1;32m   3808\u001b[0m     \u001b[38;5;66;03m#  the TypeError.\u001b[39;00m\n\u001b[1;32m   3809\u001b[0m     \u001b[38;5;28mself\u001b[39m\u001b[38;5;241m.\u001b[39m_check_indexing_error(key)\n",
      "\u001b[0;31mKeyError\u001b[0m: 1932"
     ]
    }
   ],
   "source": [
    "from prosit_t.data import IntensityDataset\n",
    "from dlomix.data.feature_extractors import (\n",
    "    ModificationGainFeature,\n",
    "    ModificationLocationFeature,\n",
    "    ModificationLossFeature,\n",
    ")\n",
    "\n",
    "BATCH_SIZE = 128\n",
    "SEQ_LENGTH = 30\n",
    "\n",
    "int_data = IntensityDataset(\n",
    "    data_source=\"input_config.json\",\n",
    "    seq_length=SEQ_LENGTH,\n",
    "    batch_size=BATCH_SIZE,\n",
    "    val_ratio=0.15,\n",
    "    precursor_charge_col=\"precursor_charge_onehot\",\n",
    "    sequence_col=\"modified_sequence\",\n",
    "    collision_energy_col=\"collision_energy_aligned_normed\",\n",
    "    intensities_col=\"intensities_raw\",\n",
    "    features_to_extract=[\n",
    "        ModificationLocationFeature(),\n",
    "        ModificationLossFeature(),\n",
    "        ModificationGainFeature(),\n",
    "    ],\n",
    "    parser=\"proforma\",\n",
    ")"
   ]
  },
  {
   "cell_type": "code",
   "execution_count": 7,
   "id": "3b305812",
   "metadata": {},
   "outputs": [
    {
     "ename": "NameError",
     "evalue": "name 'int_data' is not defined",
     "output_type": "error",
     "traceback": [
      "\u001b[0;31m---------------------------------------------------------------------------\u001b[0m",
      "\u001b[0;31mNameError\u001b[0m                                 Traceback (most recent call last)",
      "Cell \u001b[0;32mIn[7], line 1\u001b[0m\n\u001b[0;32m----> 1\u001b[0m \u001b[38;5;124m\"\u001b[39m\u001b[38;5;124mTraining examples\u001b[39m\u001b[38;5;124m\"\u001b[39m, BATCH_SIZE \u001b[38;5;241m*\u001b[39m \u001b[38;5;28mlen\u001b[39m(\u001b[43mint_data\u001b[49m\u001b[38;5;241m.\u001b[39mtrain_data)\n",
      "\u001b[0;31mNameError\u001b[0m: name 'int_data' is not defined"
     ]
    }
   ],
   "source": [
    "\"Training examples\", BATCH_SIZE * len(int_data.train_data)\n"
   ]
  },
  {
   "cell_type": "code",
   "execution_count": null,
   "id": "dd12711b",
   "metadata": {},
   "outputs": [],
   "source": [
    "\"Validation examples\", BATCH_SIZE * len(int_data.val_data)\n"
   ]
  },
  {
   "cell_type": "code",
   "execution_count": null,
   "id": "37be545f",
   "metadata": {},
   "outputs": [],
   "source": [
    "import tensorflow as tf\n",
    "from dlomix.models import PrositIntensityPredictor\n",
    "from dlomix.losses import masked_spectral_distance\n",
    "\n",
    "model = PrositIntensityPredictor(seq_length=30, use_ptm_counts=True)\n",
    "\n",
    "# create the optimizer object\n",
    "optimizer = tf.keras.optimizers.Adam(learning_rate=0.001)\n",
    "\n",
    "# compile the model  with the optimizer and the metrics we want to use, we can add our custom metric\n",
    "model.compile(optimizer=optimizer, loss=masked_spectral_distance, metrics=[\"mae\"])\n"
   ]
  },
  {
   "cell_type": "code",
   "execution_count": null,
   "id": "848b24bd",
   "metadata": {},
   "outputs": [],
   "source": [
    "\n",
    "history = model.fit(int_data.train_data,\n",
    "                    validation_data=int_data.val_data,\n",
    "                    epochs=2)"
   ]
  }
 ],
 "metadata": {
  "kernelspec": {
   "display_name": "Python 3 (ipykernel)",
   "language": "python",
   "name": "python3"
  },
  "language_info": {
   "codemirror_mode": {
    "name": "ipython",
    "version": 3
   },
   "file_extension": ".py",
   "mimetype": "text/x-python",
   "name": "python",
   "nbconvert_exporter": "python",
   "pygments_lexer": "ipython3",
   "version": "3.9.16"
  }
 },
 "nbformat": 4,
 "nbformat_minor": 5
}
