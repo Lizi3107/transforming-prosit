{
 "cells": [
  {
   "cell_type": "code",
   "execution_count": 1,
   "id": "98c40237",
   "metadata": {},
   "outputs": [
    {
     "name": "stderr",
     "output_type": "stream",
     "text": [
      "2023-05-25 13:27:18.298781: I tensorflow/core/platform/cpu_feature_guard.cc:182] This TensorFlow binary is optimized to use available CPU instructions in performance-critical operations.\n",
      "To enable the following instructions: AVX2 FMA, in other operations, rebuild TensorFlow with the appropriate compiler flags.\n",
      "2023-05-25 13:27:21.043946: W tensorflow/compiler/tf2tensorrt/utils/py_utils.cc:38] TF-TRT Warning: Could not find TensorRT\n"
     ]
    },
    {
     "name": "stdout",
     "output_type": "stream",
     "text": [
      "['META_DATA', 'constants', 'data', 'eval', 'layers', 'losses', 'models', 'pipelines', 'reports', 'utils']\n"
     ]
    }
   ],
   "source": [
    "import numpy as np\n",
    "import pandas as pd\n",
    "import dlomix\n",
    "from dlomix import constants, data, eval, layers, models, pipelines, reports, utils\n",
    "from dlomix.models import PrositIntensityPredictor\n",
    "from dlomix.losses import masked_spectral_distance, masked_pearson_correlation_distance\n",
    "from tensorflow.keras.layers.experimental import preprocessing\n",
    "from dlomix.constants import ALPHABET_UNMOD\n",
    "from dlomix.layers.attention import AttentionLayer, DecoderAttentionLayer\n",
    "import tensorflow as tf\n",
    "from tensorflow import keras\n",
    "import wandb\n",
    "# from prosit import  PrositIntensityPredictor\n",
    "from wandb.keras import WandbCallback\n",
    "import keras_nlp\n",
    "print([x for x in dir(dlomix) if not x.startswith(\"_\")])"
   ]
  },
  {
   "cell_type": "code",
   "execution_count": 2,
   "id": "8f1d960c",
   "metadata": {},
   "outputs": [],
   "source": [
    "%load_ext autoreload\n",
    "\n",
    "%autoreload 2"
   ]
  },
  {
   "cell_type": "code",
   "execution_count": 3,
   "id": "f5e67f73",
   "metadata": {},
   "outputs": [],
   "source": [
    "import os\n",
    "os.environ[\"CUDA_VISIBLE_DEVICES\"] = \"1\""
   ]
  },
  {
   "cell_type": "code",
   "execution_count": 4,
   "id": "84511f79",
   "metadata": {},
   "outputs": [],
   "source": [
    "physical_devices = tf.config.list_physical_devices('GPU')\n",
    "tf.config.experimental.set_memory_growth(physical_devices[0], enable=True)"
   ]
  },
  {
   "cell_type": "code",
   "execution_count": 5,
   "id": "bb2f9986",
   "metadata": {},
   "outputs": [],
   "source": [
    "# policy = keras.mixed_precision.Policy(\"mixed_float16\")\n",
    "# keras.mixed_precision.set_global_policy(policy)"
   ]
  },
  {
   "cell_type": "code",
   "execution_count": 6,
   "id": "394c779e",
   "metadata": {},
   "outputs": [],
   "source": [
    "project_name = \"transforming-prosit\""
   ]
  },
  {
   "cell_type": "code",
   "execution_count": 7,
   "id": "ec2a477f",
   "metadata": {},
   "outputs": [
    {
     "name": "stderr",
     "output_type": "stream",
     "text": [
      "2023-05-25 13:27:39.884763: I tensorflow/core/common_runtime/gpu/gpu_device.cc:1635] Created device /job:localhost/replica:0/task:0/device:GPU:0 with 41964 MB memory:  -> device: 0, name: NVIDIA A40, pci bus id: 0000:81:00.0, compute capability: 8.6\n"
     ]
    }
   ],
   "source": [
    "from dlomix.data import IntensityDataset\n",
    "\n",
    "TRAIN_DATAPATH = 'https://raw.githubusercontent.com/wilhelm-lab/dlomix-resources/main/example_datasets/Intensity/proteomeTools_train_val.csv'\n",
    "BATCH_SIZE = 64\n",
    "int_data = IntensityDataset(data_source=TRAIN_DATAPATH, seq_length=30,\n",
    "                            collision_energy_col='collision_energy', batch_size=BATCH_SIZE, val_ratio=0.2, test=False)"
   ]
  },
  {
   "cell_type": "code",
   "execution_count": 8,
   "id": "ed54cb32",
   "metadata": {
    "scrolled": true
   },
   "outputs": [
    {
     "name": "stderr",
     "output_type": "stream",
     "text": [
      "2023-05-25 13:28:11.926596: I tensorflow/core/common_runtime/executor.cc:1197] [/device:CPU:0] (DEBUG INFO) Executor start aborting (this does not indicate an error and you can ignore this message): INVALID_ARGUMENT: You must feed a value for placeholder tensor 'gradients/split_2_grad/concat/split_2/split_dim' with dtype int32\n",
      "\t [[{{node gradients/split_2_grad/concat/split_2/split_dim}}]]\n",
      "2023-05-25 13:28:11.927617: I tensorflow/core/common_runtime/executor.cc:1197] [/device:CPU:0] (DEBUG INFO) Executor start aborting (this does not indicate an error and you can ignore this message): INVALID_ARGUMENT: You must feed a value for placeholder tensor 'gradients/split_grad/concat/split/split_dim' with dtype int32\n",
      "\t [[{{node gradients/split_grad/concat/split/split_dim}}]]\n",
      "2023-05-25 13:28:11.928342: I tensorflow/core/common_runtime/executor.cc:1197] [/device:CPU:0] (DEBUG INFO) Executor start aborting (this does not indicate an error and you can ignore this message): INVALID_ARGUMENT: You must feed a value for placeholder tensor 'gradients/split_1_grad/concat/split_1/split_dim' with dtype int32\n",
      "\t [[{{node gradients/split_1_grad/concat/split_1/split_dim}}]]\n",
      "2023-05-25 13:28:12.004532: I tensorflow/core/common_runtime/executor.cc:1197] [/device:CPU:0] (DEBUG INFO) Executor start aborting (this does not indicate an error and you can ignore this message): INVALID_ARGUMENT: You must feed a value for placeholder tensor 'gradients/ReverseV2_grad/ReverseV2/ReverseV2/axis' with dtype int32 and shape [1]\n",
      "\t [[{{node gradients/ReverseV2_grad/ReverseV2/ReverseV2/axis}}]]\n",
      "2023-05-25 13:28:12.025582: I tensorflow/core/common_runtime/executor.cc:1197] [/device:CPU:0] (DEBUG INFO) Executor start aborting (this does not indicate an error and you can ignore this message): INVALID_ARGUMENT: You must feed a value for placeholder tensor 'gradients/split_2_grad/concat/split_2/split_dim' with dtype int32\n",
      "\t [[{{node gradients/split_2_grad/concat/split_2/split_dim}}]]\n",
      "2023-05-25 13:28:12.026336: I tensorflow/core/common_runtime/executor.cc:1197] [/device:CPU:0] (DEBUG INFO) Executor start aborting (this does not indicate an error and you can ignore this message): INVALID_ARGUMENT: You must feed a value for placeholder tensor 'gradients/split_grad/concat/split/split_dim' with dtype int32\n",
      "\t [[{{node gradients/split_grad/concat/split/split_dim}}]]\n",
      "2023-05-25 13:28:12.027029: I tensorflow/core/common_runtime/executor.cc:1197] [/device:CPU:0] (DEBUG INFO) Executor start aborting (this does not indicate an error and you can ignore this message): INVALID_ARGUMENT: You must feed a value for placeholder tensor 'gradients/split_1_grad/concat/split_1/split_dim' with dtype int32\n",
      "\t [[{{node gradients/split_1_grad/concat/split_1/split_dim}}]]\n",
      "2023-05-25 13:28:12.188990: I tensorflow/core/common_runtime/executor.cc:1197] [/device:CPU:0] (DEBUG INFO) Executor start aborting (this does not indicate an error and you can ignore this message): INVALID_ARGUMENT: You must feed a value for placeholder tensor 'gradients/split_2_grad/concat/split_2/split_dim' with dtype int32\n",
      "\t [[{{node gradients/split_2_grad/concat/split_2/split_dim}}]]\n",
      "2023-05-25 13:28:12.189908: I tensorflow/core/common_runtime/executor.cc:1197] [/device:CPU:0] (DEBUG INFO) Executor start aborting (this does not indicate an error and you can ignore this message): INVALID_ARGUMENT: You must feed a value for placeholder tensor 'gradients/split_grad/concat/split/split_dim' with dtype int32\n",
      "\t [[{{node gradients/split_grad/concat/split/split_dim}}]]\n",
      "2023-05-25 13:28:12.190594: I tensorflow/core/common_runtime/executor.cc:1197] [/device:CPU:0] (DEBUG INFO) Executor start aborting (this does not indicate an error and you can ignore this message): INVALID_ARGUMENT: You must feed a value for placeholder tensor 'gradients/split_1_grad/concat/split_1/split_dim' with dtype int32\n",
      "\t [[{{node gradients/split_1_grad/concat/split_1/split_dim}}]]\n",
      "2023-05-25 13:28:12.434861: I tensorflow/core/common_runtime/executor.cc:1197] [/device:CPU:0] (DEBUG INFO) Executor start aborting (this does not indicate an error and you can ignore this message): INVALID_ARGUMENT: You must feed a value for placeholder tensor 'gradients/split_2_grad/concat/split_2/split_dim' with dtype int32\n",
      "\t [[{{node gradients/split_2_grad/concat/split_2/split_dim}}]]\n",
      "2023-05-25 13:28:12.435741: I tensorflow/core/common_runtime/executor.cc:1197] [/device:CPU:0] (DEBUG INFO) Executor start aborting (this does not indicate an error and you can ignore this message): INVALID_ARGUMENT: You must feed a value for placeholder tensor 'gradients/split_grad/concat/split/split_dim' with dtype int32\n",
      "\t [[{{node gradients/split_grad/concat/split/split_dim}}]]\n",
      "2023-05-25 13:28:12.436411: I tensorflow/core/common_runtime/executor.cc:1197] [/device:CPU:0] (DEBUG INFO) Executor start aborting (this does not indicate an error and you can ignore this message): INVALID_ARGUMENT: You must feed a value for placeholder tensor 'gradients/split_1_grad/concat/split_1/split_dim' with dtype int32\n",
      "\t [[{{node gradients/split_1_grad/concat/split_1/split_dim}}]]\n"
     ]
    }
   ],
   "source": [
    "in_sequence = tf.keras.layers.Input(shape=(30,))\n",
    "in_collision_energy = tf.keras.layers.Input(shape=(6,))\n",
    "in_precursor_charge = tf.keras.layers.Input(shape=(1,))\n",
    "\n",
    "meta = tf.keras.layers.Concatenate(name=\"meta_in\")([in_collision_energy,in_precursor_charge])\n",
    "meta = tf.keras.layers.Dense(512, name=\"meta_dense\")(meta)\n",
    "meta = tf.keras.layers.Dropout(0.2, name=\"meta_dense_do\")(meta)\n",
    "\n",
    "x = preprocessing.StringLookup(vocabulary=list(ALPHABET_UNMOD.keys()))(in_sequence)\n",
    "x = tf.keras.layers.Embedding(\n",
    "            input_dim=len(ALPHABET_UNMOD) + 2,\n",
    "            output_dim=16,\n",
    "            input_length=30,\n",
    "        )(x)\n",
    "x = tf.keras.layers.Bidirectional(\n",
    "                    tf.keras.layers.GRU(\n",
    "                        units=256, return_sequences=True\n",
    "                    )\n",
    "                )(x)\n",
    "x = tf.keras.layers.Dropout(rate=0.2)(x)\n",
    "x = tf.keras.layers.GRU(units=512, return_sequences=True)(x)\n",
    "x = tf.keras.layers.Dropout(rate=0.2)(x)\n",
    "x = AttentionLayer(name=\"encoder_att\")(x)\n",
    "x = tf.keras.layers.Multiply(name=\"add_meta\")([x, meta])\n",
    "x = tf.keras.layers.RepeatVector(29, name=\"repeat\")(x)\n",
    "\n",
    "x = tf.keras.layers.GRU(\n",
    "                    units=512,\n",
    "                    return_sequences=True,\n",
    "                    name=\"decoder\")(x)\n",
    "x = tf.keras.layers.Dropout(0.2)(x)\n",
    "x = DecoderAttentionLayer(29)(x)\n",
    "x = tf.keras.layers.TimeDistributed(\n",
    "                    tf.keras.layers.Dense(6), name=\"time_dense\"\n",
    "                )(x)\n",
    "x = tf.keras.layers.LeakyReLU(name=\"activation\")(x)\n",
    "x = tf.keras.layers.Flatten(name=\"out\")(x)\n",
    "\n",
    "model = tf.keras.Model(inputs=[in_sequence, in_collision_energy, in_precursor_charge],outputs=x)"
   ]
  },
  {
   "cell_type": "code",
   "execution_count": 9,
   "id": "a5ca84ba",
   "metadata": {},
   "outputs": [
    {
     "name": "stdout",
     "output_type": "stream",
     "text": [
      "Model: \"model\"\n",
      "__________________________________________________________________________________________________\n",
      " Layer (type)                   Output Shape         Param #     Connected to                     \n",
      "==================================================================================================\n",
      " input_1 (InputLayer)           [(None, 30)]         0           []                               \n",
      "                                                                                                  \n",
      " string_lookup (StringLookup)   (None, 30)           0           ['input_1[0][0]']                \n",
      "                                                                                                  \n",
      " embedding (Embedding)          (None, 30, 16)       352         ['string_lookup[0][0]']          \n",
      "                                                                                                  \n",
      " bidirectional (Bidirectional)  (None, 30, 512)      420864      ['embedding[0][0]']              \n",
      "                                                                                                  \n",
      " dropout (Dropout)              (None, 30, 512)      0           ['bidirectional[0][0]']          \n",
      "                                                                                                  \n",
      " input_2 (InputLayer)           [(None, 6)]          0           []                               \n",
      "                                                                                                  \n",
      " input_3 (InputLayer)           [(None, 1)]          0           []                               \n",
      "                                                                                                  \n",
      " gru_1 (GRU)                    (None, 30, 512)      1575936     ['dropout[0][0]']                \n",
      "                                                                                                  \n",
      " meta_in (Concatenate)          (None, 7)            0           ['input_2[0][0]',                \n",
      "                                                                  'input_3[0][0]']                \n",
      "                                                                                                  \n",
      " dropout_1 (Dropout)            (None, 30, 512)      0           ['gru_1[0][0]']                  \n",
      "                                                                                                  \n",
      " meta_dense (Dense)             (None, 512)          4096        ['meta_in[0][0]']                \n",
      "                                                                                                  \n",
      " encoder_att (AttentionLayer)   (None, 512)          542         ['dropout_1[0][0]']              \n",
      "                                                                                                  \n",
      " meta_dense_do (Dropout)        (None, 512)          0           ['meta_dense[0][0]']             \n",
      "                                                                                                  \n",
      " add_meta (Multiply)            (None, 512)          0           ['encoder_att[0][0]',            \n",
      "                                                                  'meta_dense_do[0][0]']          \n",
      "                                                                                                  \n",
      " repeat (RepeatVector)          (None, 29, 512)      0           ['add_meta[0][0]']               \n",
      "                                                                                                  \n",
      " decoder (GRU)                  (None, 29, 512)      1575936     ['repeat[0][0]']                 \n",
      "                                                                                                  \n",
      " dropout_2 (Dropout)            (None, 29, 512)      0           ['decoder[0][0]']                \n",
      "                                                                                                  \n",
      " decoder_attention_layer (Decod  (None, 29, 512)     870         ['dropout_2[0][0]']              \n",
      " erAttentionLayer)                                                                                \n",
      "                                                                                                  \n",
      " time_dense (TimeDistributed)   (None, 29, 6)        3078        ['decoder_attention_layer[0][0]']\n",
      "                                                                                                  \n",
      " activation (LeakyReLU)         (None, 29, 6)        0           ['time_dense[0][0]']             \n",
      "                                                                                                  \n",
      " out (Flatten)                  (None, 174)          0           ['activation[0][0]']             \n",
      "                                                                                                  \n",
      "==================================================================================================\n",
      "Total params: 3,581,674\n",
      "Trainable params: 3,581,674\n",
      "Non-trainable params: 0\n",
      "__________________________________________________________________________________________________\n"
     ]
    }
   ],
   "source": [
    "model.summary()"
   ]
  },
  {
   "cell_type": "code",
   "execution_count": 9,
   "id": "7b20e574",
   "metadata": {},
   "outputs": [],
   "source": [
    "# wandb.init(project=project_name, name='test_on_csv')"
   ]
  },
  {
   "cell_type": "code",
   "execution_count": 10,
   "id": "f94e24ff",
   "metadata": {},
   "outputs": [],
   "source": [
    "optimizer = tf.keras.optimizers.Adam(learning_rate=1e-3)"
   ]
  },
  {
   "cell_type": "code",
   "execution_count": 11,
   "id": "21df308b",
   "metadata": {},
   "outputs": [],
   "source": [
    "model.compile(optimizer=optimizer, \n",
    "              loss=masked_spectral_distance, metrics=[masked_pearson_correlation_distance])"
   ]
  },
  {
   "cell_type": "code",
   "execution_count": 30,
   "id": "6e204576",
   "metadata": {},
   "outputs": [],
   "source": [
    "in_ = tf.keras.layers.Input(shape=(30,16))\n",
    "z = keras_nlp.layers.TransformerEncoder(\n",
    "        intermediate_dim=512,\n",
    "        num_heads=4,\n",
    "        dropout=0.1,\n",
    "        layer_norm_epsilon=1e-5,\n",
    "    )(in_)\n",
    "z = tf.keras.layers.MultiHeadAttention(num_heads=2, key_dim=2, dropout=0.2, output_shape=512)(z, z)"
   ]
  },
  {
   "cell_type": "code",
   "execution_count": 31,
   "id": "21ead2c2",
   "metadata": {},
   "outputs": [
    {
     "data": {
      "text/plain": [
       "TensorShape([None, 30, 512])"
      ]
     },
     "execution_count": 31,
     "metadata": {},
     "output_type": "execute_result"
    }
   ],
   "source": [
    "z.shape"
   ]
  },
  {
   "cell_type": "code",
   "execution_count": 23,
   "id": "d94c0315",
   "metadata": {},
   "outputs": [
    {
     "data": {
      "text/plain": [
       "TensorShape([None, 30, 512])"
      ]
     },
     "execution_count": 23,
     "metadata": {},
     "output_type": "execute_result"
    }
   ],
   "source": [
    "y.shape"
   ]
  },
  {
   "cell_type": "code",
   "execution_count": null,
   "id": "c9d9230c",
   "metadata": {},
   "outputs": [],
   "source": []
  }
 ],
 "metadata": {
  "kernelspec": {
   "display_name": "Python 3 (ipykernel)",
   "language": "python",
   "name": "python3"
  },
  "language_info": {
   "codemirror_mode": {
    "name": "ipython",
    "version": 3
   },
   "file_extension": ".py",
   "mimetype": "text/x-python",
   "name": "python",
   "nbconvert_exporter": "python",
   "pygments_lexer": "ipython3",
   "version": "3.9.16"
  }
 },
 "nbformat": 4,
 "nbformat_minor": 5
}
