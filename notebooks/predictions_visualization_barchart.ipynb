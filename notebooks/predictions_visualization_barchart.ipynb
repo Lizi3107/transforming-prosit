{
 "cells": [
  {
   "cell_type": "code",
   "execution_count": 1,
   "id": "cf66aae0",
   "metadata": {},
   "outputs": [],
   "source": [
    "%load_ext autoreload\n",
    "\n",
    "%autoreload 2"
   ]
  },
  {
   "cell_type": "code",
   "execution_count": 40,
   "id": "915fd50e",
   "metadata": {},
   "outputs": [],
   "source": [
    "import time\n",
    "import tensorflow as tf\n",
    "import wandb\n",
    "import pandas as pd\n",
    "from prosit_t.wandb_agent.train_utils import get_proteometools_data\n",
    "import seaborn as sns \n",
    "from dlomix.losses import masked_spectral_distance, masked_pearson_correlation_distance\n",
    "import os\n",
    "import matplotlib.pyplot as plt\n",
    "from prosit_t.models import PrositTransformerV2\n",
    "from dlomix.models import PrositIntensityPredictor\n",
    "import numpy as np\n",
    "import tensorflow.keras.backend as K\n",
    "from prosit_t.inference.visualization import compare_spectra, compare_multiple_spectra"
   ]
  },
  {
   "cell_type": "code",
   "execution_count": 20,
   "id": "e287b19a",
   "metadata": {},
   "outputs": [],
   "source": [
    "import plotly.io as pio\n",
    "pio.renderers.default = \"iframe\"\n",
    "import plotly.express as px"
   ]
  },
  {
   "cell_type": "code",
   "execution_count": 4,
   "id": "53eddb94",
   "metadata": {},
   "outputs": [],
   "source": [
    "os.environ[\"CUDA_VISIBLE_DEVICES\"] = \"0\"\n",
    "# physical_devices = tf.config.list_physical_devices(\"GPU\")\n",
    "# tf.config.experimental.set_memory_growth(physical_devices[0], enable=True)"
   ]
  },
  {
   "cell_type": "code",
   "execution_count": 5,
   "id": "6d373731",
   "metadata": {},
   "outputs": [],
   "source": [
    "data_config = {\n",
    "    \"dataset\": \"proteometools\",\n",
    "    \"data_source\": {\n",
    "        \"train\": \"/cmnfs/proj/prosit/Transformer/first_pool_train.parquet\",\n",
    "        \"val\": \"/cmnfs/proj/prosit/Transformer/first_pool_test.parquet\",\n",
    "    },\n",
    "    \"fragmentation\": \"HCD\",\n",
    "    \"batch_size\": 1024,\n",
    "    \"seq_length\": 30,\n",
    "}"
   ]
  },
  {
   "cell_type": "code",
   "execution_count": 6,
   "id": "82b9c581",
   "metadata": {},
   "outputs": [
    {
     "name": "stderr",
     "output_type": "stream",
     "text": [
      "\u001b[34m\u001b[1mwandb\u001b[0m: Currently logged in as: \u001b[33mmamisashvili-lizi\u001b[0m (\u001b[33mprosit-compms\u001b[0m). Use \u001b[1m`wandb login --relogin`\u001b[0m to force relogin\n"
     ]
    },
    {
     "data": {
      "text/html": [
       "wandb version 0.15.10 is available!  To upgrade, please run:\n",
       " $ pip install wandb --upgrade"
      ],
      "text/plain": [
       "<IPython.core.display.HTML object>"
      ]
     },
     "metadata": {},
     "output_type": "display_data"
    },
    {
     "data": {
      "text/html": [
       "Tracking run with wandb version 0.15.3"
      ],
      "text/plain": [
       "<IPython.core.display.HTML object>"
      ]
     },
     "metadata": {},
     "output_type": "display_data"
    },
    {
     "data": {
      "text/html": [
       "Run data is saved locally in <code>/cmnfs/home/l.mamisashvili/transforming-prosit/notebooks/wandb/run-20230918_075802-pqv0xohw</code>"
      ],
      "text/plain": [
       "<IPython.core.display.HTML object>"
      ]
     },
     "metadata": {},
     "output_type": "display_data"
    },
    {
     "data": {
      "text/html": [
       "Syncing run <strong><a href='https://wandb.ai/prosit-compms/transforming-prosit-first-pool/runs/pqv0xohw' target=\"_blank\">visionary-cherry-112</a></strong> to <a href='https://wandb.ai/prosit-compms/transforming-prosit-first-pool' target=\"_blank\">Weights & Biases</a> (<a href='https://wandb.me/run' target=\"_blank\">docs</a>)<br/>"
      ],
      "text/plain": [
       "<IPython.core.display.HTML object>"
      ]
     },
     "metadata": {},
     "output_type": "display_data"
    },
    {
     "data": {
      "text/html": [
       " View project at <a href='https://wandb.ai/prosit-compms/transforming-prosit-first-pool' target=\"_blank\">https://wandb.ai/prosit-compms/transforming-prosit-first-pool</a>"
      ],
      "text/plain": [
       "<IPython.core.display.HTML object>"
      ]
     },
     "metadata": {},
     "output_type": "display_data"
    },
    {
     "data": {
      "text/html": [
       " View run at <a href='https://wandb.ai/prosit-compms/transforming-prosit-first-pool/runs/pqv0xohw' target=\"_blank\">https://wandb.ai/prosit-compms/transforming-prosit-first-pool/runs/pqv0xohw</a>"
      ],
      "text/plain": [
       "<IPython.core.display.HTML object>"
      ]
     },
     "metadata": {},
     "output_type": "display_data"
    }
   ],
   "source": [
    "project_name = \"transforming-prosit-first-pool\"\n",
    "run = wandb.init(project=project_name)"
   ]
  },
  {
   "cell_type": "code",
   "execution_count": 7,
   "id": "794bd528",
   "metadata": {},
   "outputs": [
    {
     "name": "stderr",
     "output_type": "stream",
     "text": [
      "2023-09-18 07:58:58.711321: I tensorflow/core/common_runtime/gpu/gpu_device.cc:1639] Created device /job:localhost/replica:0/task:0/device:GPU:0 with 43640 MB memory:  -> device: 0, name: NVIDIA A40, pci bus id: 0000:21:00.0, compute capability: 8.6\n"
     ]
    }
   ],
   "source": [
    "_, val_data = get_proteometools_data(data_config)"
   ]
  },
  {
   "cell_type": "code",
   "execution_count": 8,
   "id": "c6ab080c",
   "metadata": {},
   "outputs": [
    {
     "name": "stderr",
     "output_type": "stream",
     "text": [
      "\u001b[34m\u001b[1mwandb\u001b[0m:   5 of 5 files downloaded.  \n",
      "2023-09-18 07:59:17.431045: W tensorflow/core/util/tensor_slice_reader.cc:97] Could not open ./artifacts/model-hardy-pine-74:v144: FAILED_PRECONDITION: artifacts/model-hardy-pine-74:v144; Is a directory: perhaps your file is in a different file format and you need to use a different restore operator?\n"
     ]
    },
    {
     "data": {
      "text/plain": [
       "<tensorflow.python.checkpoint.checkpoint.CheckpointLoadStatus at 0x7f34aa814c10>"
      ]
     },
     "execution_count": 8,
     "metadata": {},
     "output_type": "execute_result"
    }
   ],
   "source": [
    "artifact_path = \"prosit-compms/transforming-prosit-first-pool/model-hardy-pine-74:v144\"\n",
    "artifact = run.use_artifact(artifact_path)\n",
    "model_dir = artifact.download()\n",
    "transformer = PrositTransformerV2(seq_length=30,embedding_output_dim=64,num_heads=8,\n",
    "        num_transformers=6, dense_dim_factor=4)\n",
    "transformer.load_weights(model_dir)"
   ]
  },
  {
   "cell_type": "code",
   "execution_count": 9,
   "id": "84473f64",
   "metadata": {},
   "outputs": [
    {
     "name": "stderr",
     "output_type": "stream",
     "text": [
      "\u001b[34m\u001b[1mwandb\u001b[0m:   4 of 4 files downloaded.  \n",
      "2023-09-18 07:59:18.708653: W tensorflow/core/util/tensor_slice_reader.cc:97] Could not open ./artifacts/model-classic-star-15:v19: FAILED_PRECONDITION: artifacts/model-classic-star-15:v19; Is a directory: perhaps your file is in a different file format and you need to use a different restore operator?\n"
     ]
    },
    {
     "data": {
      "text/plain": [
       "<tensorflow.python.checkpoint.checkpoint.CheckpointLoadStatus at 0x7f34aaf41dc0>"
      ]
     },
     "execution_count": 9,
     "metadata": {},
     "output_type": "execute_result"
    }
   ],
   "source": [
    "baseline_path = \"prosit-compms/transforming-prosit-first-pool/model-classic-star-15:v19\"\n",
    "baseline_artifact = run.use_artifact(baseline_path)\n",
    "baseline_dir = baseline_artifact.download()\n",
    "\n",
    "baseline = PrositIntensityPredictor(seq_length=30,embedding_output_dim=16,\n",
    "        recurrent_layers_sizes=(256, 512))\n",
    "\n",
    "baseline.load_weights(baseline_dir)"
   ]
  },
  {
   "cell_type": "code",
   "execution_count": 10,
   "id": "8b95af1d",
   "metadata": {},
   "outputs": [],
   "source": [
    "batch_x, batch_y = [x for x in val_data.take(1)][0]"
   ]
  },
  {
   "cell_type": "code",
   "execution_count": 11,
   "id": "6364d84a",
   "metadata": {},
   "outputs": [
    {
     "name": "stderr",
     "output_type": "stream",
     "text": [
      "2023-09-18 07:59:20.001097: W tensorflow/core/grappler/costs/op_level_cost_estimator.cc:693] Error in PredictCost() for the op: op: \"Softmax\" attr { key: \"T\" value { type: DT_FLOAT } } inputs { dtype: DT_FLOAT shape { unknown_rank: true } } device { type: \"GPU\" vendor: \"NVIDIA\" model: \"NVIDIA A40\" frequency: 1740 num_cores: 84 environment { key: \"architecture\" value: \"8.6\" } environment { key: \"cuda\" value: \"11080\" } environment { key: \"cudnn\" value: \"8600\" } num_registers: 65536 l1_cache_size: 24576 l2_cache_size: 6291456 shared_memory_size_per_multiprocessor: 102400 memory_size: 45760577536 bandwidth: 696096000 } outputs { dtype: DT_FLOAT shape { unknown_rank: true } }\n"
     ]
    },
    {
     "name": "stdout",
     "output_type": "stream",
     "text": [
      "32/32 [==============================] - 2s 3ms/step\n"
     ]
    },
    {
     "name": "stderr",
     "output_type": "stream",
     "text": [
      "2023-09-18 07:59:20.629724: I tensorflow/compiler/xla/stream_executor/cuda/cuda_blas.cc:606] TensorFloat-32 will be used for the matrix multiplication. This will only be logged once.\n"
     ]
    },
    {
     "name": "stdout",
     "output_type": "stream",
     "text": [
      "22/32 [===================>..........] - ETA: 0s  "
     ]
    },
    {
     "name": "stderr",
     "output_type": "stream",
     "text": [
      "2023-09-18 07:59:23.576347: I tensorflow/compiler/xla/stream_executor/cuda/cuda_dnn.cc:432] Loaded cuDNN version 8801\n"
     ]
    },
    {
     "name": "stdout",
     "output_type": "stream",
     "text": [
      "\b\b\b\b\b\b\b\b\b\b\b\b\b\b\b\b\b\b\b\b\b\b\b\b\b\b\b\b\b\b\b\b\b\b\b\b\b\b\b\b\b\b\b\b\b\b\b\b\r",
      "32/32 [==============================] - 3s 2ms/step\n"
     ]
    }
   ],
   "source": [
    "pred = transformer.predict(batch_x)\n",
    "baseline_pred = baseline.predict(batch_x)"
   ]
  },
  {
   "cell_type": "code",
   "execution_count": 44,
   "id": "71613b6a",
   "metadata": {},
   "outputs": [
    {
     "data": {
      "text/html": [
       "<iframe\n",
       "    scrolling=\"no\"\n",
       "    width=\"100%\"\n",
       "    height=\"545px\"\n",
       "    src=\"iframe_figures/figure_44.html\"\n",
       "    frameborder=\"0\"\n",
       "    allowfullscreen\n",
       "></iframe>\n"
      ]
     },
     "metadata": {},
     "output_type": "display_data"
    }
   ],
   "source": [
    "idx = 456\n",
    "compare_multiple_spectra(batch_y[idx], [pred[idx], baseline_pred[idx]], [\"Transformer\", \"Baseline\"])"
   ]
  },
  {
   "cell_type": "code",
   "execution_count": 48,
   "id": "79b5a69a",
   "metadata": {},
   "outputs": [
    {
     "data": {
      "text/plain": [
       "<tf.Tensor: shape=(30,), dtype=string, numpy=\n",
       "array([b'E', b'S', b'S', b'I', b'I', b'A', b'P', b'A', b'P', b'A', b'E',\n",
       "       b'D', b'V', b'D', b'T', b'P', b'P', b'R', b'', b'', b'', b'', b'',\n",
       "       b'', b'', b'', b'', b'', b'', b''], dtype=object)>"
      ]
     },
     "execution_count": 48,
     "metadata": {},
     "output_type": "execute_result"
    }
   ],
   "source": [
    "batch_x[\"sequence\"][idx]"
   ]
  },
  {
   "cell_type": "code",
   "execution_count": 49,
   "id": "8e86186d",
   "metadata": {},
   "outputs": [
    {
     "data": {
      "text/plain": [
       "<tf.Tensor: shape=(1,), dtype=float64, numpy=array([0.29139948])>"
      ]
     },
     "execution_count": 49,
     "metadata": {},
     "output_type": "execute_result"
    }
   ],
   "source": [
    "batch_x[\"collision_energy\"][idx]"
   ]
  },
  {
   "cell_type": "code",
   "execution_count": 52,
   "id": "e9f79044",
   "metadata": {},
   "outputs": [
    {
     "data": {
      "text/plain": [
       "<tf.Tensor: shape=(6,), dtype=float32, numpy=array([0., 1., 0., 0., 0., 0.], dtype=float32)>"
      ]
     },
     "execution_count": 52,
     "metadata": {},
     "output_type": "execute_result"
    }
   ],
   "source": [
    "batch_x[\"precursor_charge\"][idx]"
   ]
  },
  {
   "cell_type": "code",
   "execution_count": 61,
   "id": "5ca135e0",
   "metadata": {},
   "outputs": [],
   "source": [
    "for i in batch_x[\"collision_energy\"]:\n",
    "    if i == 0.29139948:\n",
    "        print(i)"
   ]
  },
  {
   "cell_type": "code",
   "execution_count": null,
   "id": "4dccf5a0",
   "metadata": {},
   "outputs": [],
   "source": []
  }
 ],
 "metadata": {
  "kernelspec": {
   "display_name": "Python 3 (ipykernel)",
   "language": "python",
   "name": "python3"
  },
  "language_info": {
   "codemirror_mode": {
    "name": "ipython",
    "version": 3
   },
   "file_extension": ".py",
   "mimetype": "text/x-python",
   "name": "python",
   "nbconvert_exporter": "python",
   "pygments_lexer": "ipython3",
   "version": "3.9.16"
  }
 },
 "nbformat": 4,
 "nbformat_minor": 5
}
