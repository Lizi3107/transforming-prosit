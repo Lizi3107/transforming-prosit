{
 "cells": [
  {
   "cell_type": "code",
   "execution_count": 9,
   "id": "90ac36ca",
   "metadata": {},
   "outputs": [],
   "source": [
    "import tensorflow as tf\n",
    "from tensorflow.keras.layers.experimental import preprocessing\n",
    "from dlomix.constants import ALPHABET_UNMOD\n",
    "from prosit_t.layers import (\n",
    "    MetaEncoder,\n",
    "    FusionLayer,\n",
    "    RegressorV2,\n",
    "    PositionalEmbedding,\n",
    "    TransformerEncoder,\n",
    ")"
   ]
  },
  {
   "cell_type": "code",
   "execution_count": 10,
   "id": "78bd032d",
   "metadata": {},
   "outputs": [
    {
     "name": "stdout",
     "output_type": "stream",
     "text": [
      "The autoreload extension is already loaded. To reload it, use:\n",
      "  %reload_ext autoreload\n"
     ]
    }
   ],
   "source": [
    "%load_ext autoreload\n",
    "\n",
    "%autoreload 2"
   ]
  },
  {
   "cell_type": "code",
   "execution_count": 11,
   "id": "4263300c",
   "metadata": {},
   "outputs": [],
   "source": [
    "import os\n",
    "os.environ[\"CUDA_VISIBLE_DEVICES\"] = \"0\""
   ]
  },
  {
   "cell_type": "code",
   "execution_count": 12,
   "id": "b52bb56a",
   "metadata": {},
   "outputs": [],
   "source": [
    "physical_devices = tf.config.list_physical_devices('GPU')\n",
    "tf.config.experimental.set_memory_growth(physical_devices[0], enable=True)"
   ]
  },
  {
   "cell_type": "code",
   "execution_count": 13,
   "id": "ee81384b",
   "metadata": {},
   "outputs": [],
   "source": [
    "SEQ_LENGTH = 30\n",
    "embeddings_count = len(ALPHABET_UNMOD) + 2\n",
    "max_ion = SEQ_LENGTH - 1\n",
    "len_fion = 6"
   ]
  },
  {
   "cell_type": "code",
   "execution_count": 79,
   "id": "f4ba91d9",
   "metadata": {},
   "outputs": [],
   "source": [
    "embedding_output_dim = 32\n",
    "num_heads = 16\n",
    "ff_dim = 512\n",
    "transformer_dropout = 0.1\n",
    "num_transformers = 6\n",
    "dropout_rate = 0\n",
    "dense_dim_factor = 4"
   ]
  },
  {
   "cell_type": "code",
   "execution_count": 78,
   "id": "47ca2d2d",
   "metadata": {},
   "outputs": [
    {
     "name": "stdout",
     "output_type": "stream",
     "text": [
      "Model: \"model_23\"\n",
      "__________________________________________________________________________________________________\n",
      " Layer (type)                   Output Shape         Param #     Connected to                     \n",
      "==================================================================================================\n",
      " input_73 (InputLayer)          [(None, 30)]         0           []                               \n",
      "                                                                                                  \n",
      " string_lookup_24 (StringLookup  (None, 30)          0           ['input_73[0][0]']               \n",
      " )                                                                                                \n",
      "                                                                                                  \n",
      " positional_embedding_24 (Posit  (None, 30, 32)      704         ['string_lookup_24[0][0]']       \n",
      " ionalEmbedding)                                                                                  \n",
      "                                                                                                  \n",
      " transformer_encoder_24 (Transf  (None, 30, 32)      603264      ['positional_embedding_24[0][0]']\n",
      " ormerEncoder)                                                                                    \n",
      "                                                                                                  \n",
      " flatten_47 (Flatten)           (None, 960)          0           ['transformer_encoder_24[0][0]'] \n",
      "                                                                                                  \n",
      " input_74 (InputLayer)          [(None, 6)]          0           []                               \n",
      "                                                                                                  \n",
      " input_75 (InputLayer)          [(None, 1)]          0           []                               \n",
      "                                                                                                  \n",
      " dense_196 (Dense)              (None, 512)          492032      ['flatten_47[0][0]']             \n",
      "                                                                                                  \n",
      " meta_encoder_24 (MetaEncoder)  (None, 512)          4096        ['input_74[0][0]',               \n",
      "                                                                  'input_75[0][0]']               \n",
      "                                                                                                  \n",
      " multiply_4 (Multiply)          (None, 512)          0           ['dense_196[0][0]',              \n",
      "                                                                  'meta_encoder_24[0][0]']        \n",
      "                                                                                                  \n",
      " flatten_48 (Flatten)           (None, 512)          0           ['multiply_4[0][0]']             \n",
      "                                                                                                  \n",
      " regressor_v2_23 (RegressorV2)  (None, 174)          89262       ['flatten_48[0][0]']             \n",
      "                                                                                                  \n",
      "==================================================================================================\n",
      "Total params: 1,189,358\n",
      "Trainable params: 1,189,358\n",
      "Non-trainable params: 0\n",
      "__________________________________________________________________________________________________\n"
     ]
    }
   ],
   "source": [
    "in_sequence = tf.keras.layers.Input(shape=(30,))\n",
    "in_collision_energy = tf.keras.layers.Input(shape=(6,))\n",
    "in_precursor_charge = tf.keras.layers.Input(shape=(1,))\n",
    "\n",
    "encoded_meta = MetaEncoder(embedding_output_dim*dense_dim_factor, dropout_rate)([in_collision_energy, in_precursor_charge])\n",
    "\n",
    "x = preprocessing.StringLookup(vocabulary=list(ALPHABET_UNMOD.keys()))(in_sequence)\n",
    "x = PositionalEmbedding(\n",
    "            embeddings_count, embedding_output_dim\n",
    "        )(x)\n",
    "x = TransformerEncoder(\n",
    "            embedding_output_dim, num_heads, ff_dim, rate=transformer_dropout, num_transformers=num_transformers\n",
    "        )(x)\n",
    "x = tf.keras.layers.Flatten()(x)\n",
    "x = tf.keras.layers.Dense(embedding_output_dim*dense_dim_factor)(x)\n",
    "x = tf.keras.layers.Multiply()([x, encoded_meta])\n",
    "# x = FusionLayer(max_ion)([x, encoded_meta])\n",
    "x = tf.keras.layers.Flatten()(x)\n",
    "x = RegressorV2(len_fion * max_ion)(x)\n",
    "\n",
    "model = tf.keras.Model(inputs=[in_sequence, in_collision_energy, in_precursor_charge],outputs=x)\n",
    "model.summary()"
   ]
  },
  {
   "cell_type": "code",
   "execution_count": null,
   "id": "4643f9ac",
   "metadata": {},
   "outputs": [],
   "source": [
    "## in_sequence = tf.keras.layers.Input(shape=(30,))\n",
    "# in_collision_energy = tf.keras.layers.Input(shape=(6,))\n",
    "# in_precursor_charge = tf.keras.layers.Input(shape=(1,))\n",
    "\n",
    "# encoded_meta = MetaEncoder(embedding_output_dim, dropout_rate)([in_collision_energy, in_precursor_charge])\n",
    "\n",
    "# x = preprocessing.StringLookup(vocabulary=list(ALPHABET_UNMOD.keys()))(in_sequence)\n",
    "# x = PositionalEmbedding(\n",
    "#             embeddings_count, embedding_output_dim\n",
    "#         )(x)\n",
    "# x = TransformerEncoder(\n",
    "#             embedding_output_dim, num_heads, ff_dim, rate=transformer_dropout, num_transformers=num_transformers\n",
    "#         )(x)\n",
    "# x = tf.keras.layers.Flatten()(x)\n",
    "# x = tf.keras.layers.Dense(embedding_output_dim)(x)\n",
    "# x = FusionLayer(max_ion)([x, encoded_meta])\n",
    "# x = TransformerEncoder(\n",
    "#             embedding_output_dim, num_heads, ff_dim, rate=transformer_dropout, num_transformers=num_transformers\n",
    "#         )(x)\n",
    "# x = tf.keras.layers.Flatten()(x)\n",
    "# x = RegressorV2(len_fion * max_ion)(x)\n",
    "\n",
    "# model = tf.keras.Model(inputs=[in_sequence, in_collision_energy, in_precursor_charge],outputs=x)\n",
    "# model.summary()"
   ]
  },
  {
   "cell_type": "code",
   "execution_count": 7,
   "id": "ac0d737f",
   "metadata": {},
   "outputs": [],
   "source": [
    "# in_sequence = tf.keras.layers.Input(shape=(30,))\n",
    "# in_collision_energy = tf.keras.layers.Input(shape=(6,))\n",
    "# in_precursor_charge = tf.keras.layers.Input(shape=(1,))\n",
    "\n",
    "# encoded_meta = MetaEncoder(embedding_output_dim, dropout_rate)([in_collision_energy, in_precursor_charge])\n",
    "\n",
    "# x = preprocessing.StringLookup(vocabulary=list(ALPHABET_UNMOD.keys()))(in_sequence)\n",
    "# x = PositionalEmbedding(\n",
    "#             embeddings_count, embedding_output_dim\n",
    "#         )(x)\n",
    "# x = tf.keras.layers.Flatten()(x)\n",
    "# x = tf.keras.layers.Dense(embedding_output_dim)(x)\n",
    "# x = FusionLayer(max_ion)([x, encoded_meta])\n",
    "# x = TransformerEncoder(\n",
    "#             embedding_output_dim, num_heads, ff_dim, rate=transformer_dropout, num_transformers=num_transformers\n",
    "#         )(x)\n",
    "# x = tf.keras.layers.Flatten()(x)\n",
    "# x = RegressorV2(len_fion * max_ion)(x)\n",
    "\n",
    "# model = tf.keras.Model(inputs=[in_sequence, in_collision_energy, in_precursor_charge],outputs=x)\n",
    "# model.summary()"
   ]
  },
  {
   "cell_type": "code",
   "execution_count": 52,
   "id": "338a6813",
   "metadata": {},
   "outputs": [],
   "source": [
    "config = {\n",
    "    \"cyclic_lr\": 0,\n",
    "    \"learning_rate\": 1e-3\n",
    "}"
   ]
  },
  {
   "cell_type": "code",
   "execution_count": 53,
   "id": "263f8b3f",
   "metadata": {},
   "outputs": [],
   "source": [
    "optimizer = (\n",
    "        \"adam\"\n",
    "        if \"cyclic_lr\" in config\n",
    "        else tf.keras.optimizers.Adam(learning_rate=config[\"learning_rate\"]),\n",
    "    )[0]"
   ]
  },
  {
   "cell_type": "code",
   "execution_count": 54,
   "id": "6a8b85ea",
   "metadata": {},
   "outputs": [
    {
     "data": {
      "text/plain": [
       "str"
      ]
     },
     "execution_count": 54,
     "metadata": {},
     "output_type": "execute_result"
    }
   ],
   "source": [
    "type(optimizer)"
   ]
  },
  {
   "cell_type": "code",
   "execution_count": null,
   "id": "cfd17833",
   "metadata": {},
   "outputs": [],
   "source": []
  }
 ],
 "metadata": {
  "kernelspec": {
   "display_name": "Python 3 (ipykernel)",
   "language": "python",
   "name": "python3"
  },
  "language_info": {
   "codemirror_mode": {
    "name": "ipython",
    "version": 3
   },
   "file_extension": ".py",
   "mimetype": "text/x-python",
   "name": "python",
   "nbconvert_exporter": "python",
   "pygments_lexer": "ipython3",
   "version": "3.9.16"
  }
 },
 "nbformat": 4,
 "nbformat_minor": 5
}
