{
 "cells": [
  {
   "cell_type": "code",
   "execution_count": 1,
   "id": "2dd50cba",
   "metadata": {},
   "outputs": [],
   "source": [
    "%load_ext autoreload\n",
    "\n",
    "%autoreload 2"
   ]
  },
  {
   "cell_type": "code",
   "execution_count": 2,
   "id": "e29764e8",
   "metadata": {},
   "outputs": [
    {
     "name": "stderr",
     "output_type": "stream",
     "text": [
      "2023-06-01 16:04:53.280567: I tensorflow/core/platform/cpu_feature_guard.cc:182] This TensorFlow binary is optimized to use available CPU instructions in performance-critical operations.\n",
      "To enable the following instructions: AVX2 FMA, in other operations, rebuild TensorFlow with the appropriate compiler flags.\n",
      "2023-06-01 16:04:54.146084: W tensorflow/compiler/tf2tensorrt/utils/py_utils.cc:38] TF-TRT Warning: Could not find TensorRT\n"
     ]
    }
   ],
   "source": [
    "import tensorflow as tf\n",
    "from tensorflow.keras.layers.experimental import preprocessing\n",
    "from dlomix.constants import ALPHABET_UNMOD\n",
    "from dlomix.layers.attention import AttentionLayer\n",
    "from prosit_t.layers import (\n",
    "    MetaEncoder,\n",
    "    FusionLayer,\n",
    "    TransformerDecoder,\n",
    "    Regressor,\n",
    "    SequenceEncoder,\n",
    "    SequenceEncoderNoGRU,\n",
    ")\n",
    "from prosit_t.models import PrositTransformerIntensityPredictorV2\n",
    "from dlomix.losses import masked_spectral_distance, masked_pearson_correlation_distance\n",
    "from dlomix.data import IntensityDataset\n",
    "from dlomix.constants import ALPHABET_UNMOD"
   ]
  },
  {
   "cell_type": "code",
   "execution_count": 3,
   "id": "8d88cf67",
   "metadata": {},
   "outputs": [],
   "source": [
    "TRAIN_DATAPATH = \"https://raw.githubusercontent.com/wilhelm-lab/dlomix-resources/main/example_datasets/Intensity/proteomeTools_train_val.csv\"\n",
    "EPOCHS=1"
   ]
  },
  {
   "cell_type": "code",
   "execution_count": 4,
   "id": "c372038d",
   "metadata": {},
   "outputs": [
    {
     "name": "stderr",
     "output_type": "stream",
     "text": [
      "2023-06-01 16:05:04.011450: I tensorflow/core/common_runtime/gpu/gpu_device.cc:1635] Created device /job:localhost/replica:0/task:0/device:GPU:0 with 28702 MB memory:  -> device: 0, name: NVIDIA A40, pci bus id: 0000:21:00.0, compute capability: 8.6\n",
      "2023-06-01 16:05:04.012022: I tensorflow/core/common_runtime/gpu/gpu_device.cc:1635] Created device /job:localhost/replica:0/task:0/device:GPU:1 with 43610 MB memory:  -> device: 1, name: NVIDIA A40, pci bus id: 0000:81:00.0, compute capability: 8.6\n",
      "2023-06-01 16:05:04.012390: I tensorflow/core/common_runtime/gpu/gpu_device.cc:1635] Created device /job:localhost/replica:0/task:0/device:GPU:2 with 43610 MB memory:  -> device: 2, name: NVIDIA A40, pci bus id: 0000:e2:00.0, compute capability: 8.6\n"
     ]
    }
   ],
   "source": [
    "BATCH_SIZE = 64\n",
    "int_data = IntensityDataset(\n",
    "    data_source=TRAIN_DATAPATH,\n",
    "    seq_length=30,\n",
    "    collision_energy_col=\"collision_energy\",\n",
    "    batch_size=BATCH_SIZE,\n",
    "    val_ratio=0.2,\n",
    "    test=False,\n",
    ")"
   ]
  },
  {
   "cell_type": "code",
   "execution_count": 5,
   "id": "291d9d72",
   "metadata": {},
   "outputs": [
    {
     "name": "stdout",
     "output_type": "stream",
     "text": [
      "16\n"
     ]
    }
   ],
   "source": [
    "model = PrositTransformerIntensityPredictorV2()\n",
    "model.compile(\n",
    "    optimizer=tf.keras.optimizers.Adam(learning_rate=1e-3),\n",
    "    loss=masked_spectral_distance,\n",
    "    metrics=[masked_pearson_correlation_distance],\n",
    ")"
   ]
  },
  {
   "cell_type": "code",
   "execution_count": 6,
   "id": "d777558c",
   "metadata": {},
   "outputs": [
    {
     "name": "stderr",
     "output_type": "stream",
     "text": [
      "2023-06-01 16:05:04.694677: I tensorflow/core/common_runtime/executor.cc:1197] [/device:CPU:0] (DEBUG INFO) Executor start aborting (this does not indicate an error and you can ignore this message): INVALID_ARGUMENT: You must feed a value for placeholder tensor 'Placeholder/_1' with dtype double and shape [23601,1]\n",
      "\t [[{{node Placeholder/_1}}]]\n",
      "2023-06-01 16:05:04.694895: I tensorflow/core/common_runtime/executor.cc:1197] [/device:CPU:0] (DEBUG INFO) Executor start aborting (this does not indicate an error and you can ignore this message): INVALID_ARGUMENT: You must feed a value for placeholder tensor 'Placeholder/_2' with dtype double and shape [23601,6]\n",
      "\t [[{{node Placeholder/_2}}]]\n"
     ]
    },
    {
     "name": "stdout",
     "output_type": "stream",
     "text": [
      "(None, 16)\n",
      "(None, 30, 16) ????\n",
      "(None, 16) atttt\n",
      "(None, 16)\n",
      "(None, 30, 16) ????\n",
      "(None, 16) atttt\n"
     ]
    },
    {
     "name": "stderr",
     "output_type": "stream",
     "text": [
      "2023-06-01 16:05:13.108542: I tensorflow/compiler/xla/stream_executor/cuda/cuda_blas.cc:637] TensorFloat-32 will be used for the matrix multiplication. This will only be logged once.\n",
      "2023-06-01 16:05:13.192874: I tensorflow/compiler/xla/service/service.cc:169] XLA service 0x3a64bfc0 initialized for platform CUDA (this does not guarantee that XLA will be used). Devices:\n",
      "2023-06-01 16:05:13.192897: I tensorflow/compiler/xla/service/service.cc:177]   StreamExecutor device (0): NVIDIA A40, Compute Capability 8.6\n",
      "2023-06-01 16:05:13.192903: I tensorflow/compiler/xla/service/service.cc:177]   StreamExecutor device (1): NVIDIA A40, Compute Capability 8.6\n",
      "2023-06-01 16:05:13.192908: I tensorflow/compiler/xla/service/service.cc:177]   StreamExecutor device (2): NVIDIA A40, Compute Capability 8.6\n",
      "2023-06-01 16:05:13.196322: I tensorflow/compiler/mlir/tensorflow/utils/dump_mlir_util.cc:269] disabling MLIR crash reproducer, set env var `MLIR_CRASH_REPRODUCER_DIRECTORY` to enable.\n",
      "2023-06-01 16:05:15.060097: I tensorflow/compiler/xla/stream_executor/cuda/cuda_dnn.cc:424] Loaded cuDNN version 8801\n",
      "2023-06-01 16:05:15.179756: I ./tensorflow/compiler/jit/device_compiler.h:180] Compiled cluster using XLA!  This line is logged at most once for the lifetime of the process.\n"
     ]
    },
    {
     "name": "stdout",
     "output_type": "stream",
     "text": [
      "367/369 [============================>.] - ETA: 0s - loss: 0.6592 - masked_pearson_correlation_distance: 0.5427(None, 16)\n",
      "(None, 30, 16) ????\n"
     ]
    },
    {
     "name": "stderr",
     "output_type": "stream",
     "text": [
      "2023-06-01 16:05:28.246743: I tensorflow/core/common_runtime/executor.cc:1197] [/device:CPU:0] (DEBUG INFO) Executor start aborting (this does not indicate an error and you can ignore this message): INVALID_ARGUMENT: You must feed a value for placeholder tensor 'Placeholder/_0' with dtype string and shape [5900]\n",
      "\t [[{{node Placeholder/_0}}]]\n",
      "2023-06-01 16:05:28.246977: I tensorflow/core/common_runtime/executor.cc:1197] [/device:CPU:0] (DEBUG INFO) Executor start aborting (this does not indicate an error and you can ignore this message): INVALID_ARGUMENT: You must feed a value for placeholder tensor 'Placeholder/_1' with dtype double and shape [5900,1]\n",
      "\t [[{{node Placeholder/_1}}]]\n"
     ]
    },
    {
     "name": "stdout",
     "output_type": "stream",
     "text": [
      "(None, 16) atttt\n",
      "369/369 [==============================] - 25s 21ms/step - loss: 0.6591 - masked_pearson_correlation_distance: 0.5425 - val_loss: 0.6119 - val_masked_pearson_correlation_distance: 0.4737\n"
     ]
    },
    {
     "data": {
      "text/plain": [
       "<keras.callbacks.History at 0x7f69aa8a4d90>"
      ]
     },
     "execution_count": 6,
     "metadata": {},
     "output_type": "execute_result"
    }
   ],
   "source": [
    "model.fit(\n",
    "    int_data.train_data,\n",
    "    validation_data=int_data.val_data,\n",
    "    epochs=EPOCHS\n",
    ")"
   ]
  },
  {
   "cell_type": "code",
   "execution_count": 7,
   "id": "2e80bc1c",
   "metadata": {},
   "outputs": [
    {
     "name": "stdout",
     "output_type": "stream",
     "text": [
      "Model: \"prosit_transformer_intensity_predictor_v2\"\n",
      "_________________________________________________________________\n",
      " Layer (type)                Output Shape              Param #   \n",
      "=================================================================\n",
      " string_lookup (StringLookup  multiple                 0         \n",
      " )                                                               \n",
      "                                                                 \n",
      " embedding (Embedding)       multiple                  352       \n",
      "                                                                 \n",
      " meta_encoder (MetaEncoder)  multiple                  128       \n",
      "                                                                 \n",
      " sequence_encoder_no_gru (Se  multiple                 54192     \n",
      " quenceEncoderNoGRU)                                             \n",
      "                                                                 \n",
      " encoder_att (AttentionLayer  multiple                 46        \n",
      " )                                                               \n",
      "                                                                 \n",
      " fusion_layer (FusionLayer)  multiple                  0         \n",
      "                                                                 \n",
      " transformer_decoder (Transf  multiple                 55062     \n",
      " ormerDecoder)                                                   \n",
      "                                                                 \n",
      " regressor (Regressor)       multiple                  102       \n",
      "                                                                 \n",
      "=================================================================\n",
      "Total params: 109,882\n",
      "Trainable params: 109,882\n",
      "Non-trainable params: 0\n",
      "_________________________________________________________________\n"
     ]
    }
   ],
   "source": [
    "model.summary()"
   ]
  },
  {
   "cell_type": "code",
   "execution_count": null,
   "id": "c2423f4e",
   "metadata": {},
   "outputs": [],
   "source": []
  }
 ],
 "metadata": {
  "kernelspec": {
   "display_name": "Python 3 (ipykernel)",
   "language": "python",
   "name": "python3"
  },
  "language_info": {
   "codemirror_mode": {
    "name": "ipython",
    "version": 3
   },
   "file_extension": ".py",
   "mimetype": "text/x-python",
   "name": "python",
   "nbconvert_exporter": "python",
   "pygments_lexer": "ipython3",
   "version": "3.9.16"
  }
 },
 "nbformat": 4,
 "nbformat_minor": 5
}
