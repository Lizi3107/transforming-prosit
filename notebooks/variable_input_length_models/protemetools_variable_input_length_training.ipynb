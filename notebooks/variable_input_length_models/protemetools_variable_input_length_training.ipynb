{
 "cells": [
  {
   "cell_type": "code",
   "execution_count": 6,
   "id": "e98d866e",
   "metadata": {},
   "outputs": [
    {
     "name": "stdout",
     "output_type": "stream",
     "text": [
      "The autoreload extension is already loaded. To reload it, use:\n",
      "  %reload_ext autoreload\n"
     ]
    }
   ],
   "source": [
    "%load_ext autoreload\n",
    "\n",
    "%autoreload 2"
   ]
  },
  {
   "cell_type": "code",
   "execution_count": 7,
   "id": "8d482af0",
   "metadata": {},
   "outputs": [],
   "source": [
    "from prosit_t.eval import prosit_transformer_eval\n",
    "import wandb\n",
    "import tensorflow as tf\n",
    "import plotly.io as pio\n",
    "import plotly.express as px\n",
    "import plotly.graph_objects as go\n",
    "import numpy as np\n",
    "import os\n",
    "from prosit_t.wandb_agent.train_utils import get_proteometools_data\n",
    "from prosit_t.models import PrositTransformerV2\n",
    "import pandas as pd\n",
    "from dlomix.models import PrositIntensityPredictor\n",
    "from dlomix.losses import masked_pearson_correlation_distance\n",
    "from prosit_t.models import PrositTransformerV2\n",
    "from dlomix.losses import masked_spectral_distance\n",
    "from prosit_t.models.variable_seq_length_models import TestModelDrop\n",
    "from prosit_t.data.parquet_to_tfdataset import get_tfdatasets\n",
    "\n",
    "pd.set_option('mode.chained_assignment', None)"
   ]
  },
  {
   "cell_type": "code",
   "execution_count": 8,
   "id": "55010932",
   "metadata": {},
   "outputs": [],
   "source": [
    "tf.config.run_functions_eagerly(True)\n",
    "\n",
    "os.environ[\"CUDA_VISIBLE_DEVICES\"] = \"0\"\n",
    "physical_devices = tf.config.list_physical_devices(\"GPU\")\n",
    "tf.config.experimental.set_memory_growth(physical_devices[0], enable=True)"
   ]
  },
  {
   "cell_type": "code",
   "execution_count": 15,
   "id": "19d96429",
   "metadata": {},
   "outputs": [
    {
     "name": "stderr",
     "output_type": "stream",
     "text": [
      "/cmnfs/home/l.mamisashvili/miniconda3/envs/prosit-t/lib/python3.9/site-packages/tensorflow/python/data/ops/structured_function.py:265: UserWarning: Even though the `tf.config.experimental_run_functions_eagerly` option is set, this option does not apply to tf.data functions. To force eager execution of tf.data functions, please use `tf.data.experimental.enable_debug_mode()`.\n",
      "  warnings.warn(\n"
     ]
    }
   ],
   "source": [
    "train_data, val_data = get_tfdatasets(2)"
   ]
  },
  {
   "cell_type": "code",
   "execution_count": 4,
   "id": "82462c7b",
   "metadata": {},
   "outputs": [],
   "source": [
    "data_config = {\n",
    "    \"dataset\": \"proteometools\",\n",
    "    \"data_source\": {\n",
    "        \"train\": \"/cmnfs/proj/prosit/Transformer/first_pool_train.parquet\",\n",
    "        \"val\": \"/cmnfs/proj/prosit/Transformer/first_pool_test.parquet\",\n",
    "    },\n",
    "    \"fragmentation\": \"HCD\",\n",
    "    \"batch_size\": 1,\n",
    "    \"seq_length\": 30,\n",
    "}"
   ]
  },
  {
   "cell_type": "code",
   "execution_count": 5,
   "id": "d8054ce0",
   "metadata": {},
   "outputs": [
    {
     "data": {
      "text/html": [
       "<div>\n",
       "<style scoped>\n",
       "    .dataframe tbody tr th:only-of-type {\n",
       "        vertical-align: middle;\n",
       "    }\n",
       "\n",
       "    .dataframe tbody tr th {\n",
       "        vertical-align: top;\n",
       "    }\n",
       "\n",
       "    .dataframe thead th {\n",
       "        text-align: right;\n",
       "    }\n",
       "</style>\n",
       "<table border=\"1\" class=\"dataframe\">\n",
       "  <thead>\n",
       "    <tr style=\"text-align: right;\">\n",
       "      <th></th>\n",
       "      <th>raw_file</th>\n",
       "      <th>scan_number</th>\n",
       "      <th>modified_sequence</th>\n",
       "      <th>precursor_charge</th>\n",
       "      <th>fragmentation</th>\n",
       "      <th>mass_analyzer</th>\n",
       "      <th>andromeda_score</th>\n",
       "      <th>peptide_length</th>\n",
       "      <th>orig_collision_energy</th>\n",
       "      <th>aligned_collision_energy</th>\n",
       "      <th>intensities_raw</th>\n",
       "      <th>masses_raw</th>\n",
       "      <th>collision_energy_aligned_normed</th>\n",
       "      <th>method_nbr</th>\n",
       "      <th>precursor_charge_onehot</th>\n",
       "    </tr>\n",
       "  </thead>\n",
       "  <tbody>\n",
       "    <tr>\n",
       "      <th>0</th>\n",
       "      <td>01650b_BF4-TUM_first_pool_72_01_01-2xIT_2xHCD-...</td>\n",
       "      <td>17405</td>\n",
       "      <td>AEEAAGPGAAALQR</td>\n",
       "      <td>2</td>\n",
       "      <td>HCD</td>\n",
       "      <td>ITMS</td>\n",
       "      <td>243.37</td>\n",
       "      <td>14</td>\n",
       "      <td>28.0</td>\n",
       "      <td>29.663639</td>\n",
       "      <td>[0.05, 0.0, -1.0, 0.0, 0.0, -1.0, 0.05, 0.0, -...</td>\n",
       "      <td>[175.32356, 0.0, -1.0, 0.0, 0.0, -1.0, 303.386...</td>\n",
       "      <td>0.296636</td>\n",
       "      <td>1</td>\n",
       "      <td>[0, 1, 0, 0, 0, 0]</td>\n",
       "    </tr>\n",
       "    <tr>\n",
       "      <th>1</th>\n",
       "      <td>01625b_GA1-TUM_first_pool_1_01_01-2xIT_2xHCD-1...</td>\n",
       "      <td>28098</td>\n",
       "      <td>VSWQDLK</td>\n",
       "      <td>2</td>\n",
       "      <td>HCD</td>\n",
       "      <td>FTMS</td>\n",
       "      <td>183.04</td>\n",
       "      <td>7</td>\n",
       "      <td>23.0</td>\n",
       "      <td>25.222923</td>\n",
       "      <td>[0.06, 0.0, -1.0, 0.0, 0.0, -1.0, 0.24, 0.0, -...</td>\n",
       "      <td>[147.11295, 0.0, -1.0, 0.0, 0.0, -1.0, 260.196...</td>\n",
       "      <td>0.252229</td>\n",
       "      <td>1</td>\n",
       "      <td>[0, 1, 0, 0, 0, 0]</td>\n",
       "    </tr>\n",
       "    <tr>\n",
       "      <th>2</th>\n",
       "      <td>01625b_GA1-TUM_first_pool_1_01_01-3xHCD-1h-R1</td>\n",
       "      <td>11793</td>\n",
       "      <td>DIHHIDYYK</td>\n",
       "      <td>2</td>\n",
       "      <td>HCD</td>\n",
       "      <td>FTMS</td>\n",
       "      <td>117.70</td>\n",
       "      <td>9</td>\n",
       "      <td>35.0</td>\n",
       "      <td>37.352073</td>\n",
       "      <td>[0.43, 0.0, -1.0, 0.0, 0.0, -1.0, 0.33, 0.0, -...</td>\n",
       "      <td>[147.11281, 0.0, -1.0, 0.0, 0.0, -1.0, 310.175...</td>\n",
       "      <td>0.373521</td>\n",
       "      <td>1</td>\n",
       "      <td>[0, 1, 0, 0, 0, 0]</td>\n",
       "    </tr>\n",
       "    <tr>\n",
       "      <th>3</th>\n",
       "      <td>01650b_BB4-TUM_first_pool_68_01_01-3xHCD-1h-R2</td>\n",
       "      <td>42651</td>\n",
       "      <td>LVSDEM[UNIMOD:35]VVELIEK</td>\n",
       "      <td>2</td>\n",
       "      <td>HCD</td>\n",
       "      <td>FTMS</td>\n",
       "      <td>143.21</td>\n",
       "      <td>13</td>\n",
       "      <td>25.0</td>\n",
       "      <td>26.651139</td>\n",
       "      <td>[0.09, 0.0, -1.0, 0.0, 0.0, -1.0, 0.22, 0.0, -...</td>\n",
       "      <td>[147.11278, 0.0, -1.0, 0.0, 0.0, -1.0, 276.155...</td>\n",
       "      <td>0.266511</td>\n",
       "      <td>1</td>\n",
       "      <td>[0, 1, 0, 0, 0, 0]</td>\n",
       "    </tr>\n",
       "    <tr>\n",
       "      <th>4</th>\n",
       "      <td>01709a_GD2-TUM_first_pool_110_01_01-DDA-1h-R1</td>\n",
       "      <td>27132</td>\n",
       "      <td>IRDLSGNLWERSSGDGEELER</td>\n",
       "      <td>4</td>\n",
       "      <td>HCD</td>\n",
       "      <td>FTMS</td>\n",
       "      <td>134.87</td>\n",
       "      <td>21</td>\n",
       "      <td>28.0</td>\n",
       "      <td>31.333845</td>\n",
       "      <td>[0.22, 0.0, 0.0, 0.0, 0.0, 0.0, 0.15, 0.0, 0.0...</td>\n",
       "      <td>[175.11949, 0.0, 0.0, 0.0, 0.0, 0.0, 304.16235...</td>\n",
       "      <td>0.313338</td>\n",
       "      <td>1</td>\n",
       "      <td>[0, 0, 0, 1, 0, 0]</td>\n",
       "    </tr>\n",
       "  </tbody>\n",
       "</table>\n",
       "</div>"
      ],
      "text/plain": [
       "                                            raw_file  scan_number  \\\n",
       "0  01650b_BF4-TUM_first_pool_72_01_01-2xIT_2xHCD-...        17405   \n",
       "1  01625b_GA1-TUM_first_pool_1_01_01-2xIT_2xHCD-1...        28098   \n",
       "2      01625b_GA1-TUM_first_pool_1_01_01-3xHCD-1h-R1        11793   \n",
       "3     01650b_BB4-TUM_first_pool_68_01_01-3xHCD-1h-R2        42651   \n",
       "4      01709a_GD2-TUM_first_pool_110_01_01-DDA-1h-R1        27132   \n",
       "\n",
       "          modified_sequence  precursor_charge fragmentation mass_analyzer  \\\n",
       "0            AEEAAGPGAAALQR                 2           HCD          ITMS   \n",
       "1                   VSWQDLK                 2           HCD          FTMS   \n",
       "2                 DIHHIDYYK                 2           HCD          FTMS   \n",
       "3  LVSDEM[UNIMOD:35]VVELIEK                 2           HCD          FTMS   \n",
       "4     IRDLSGNLWERSSGDGEELER                 4           HCD          FTMS   \n",
       "\n",
       "   andromeda_score  peptide_length  orig_collision_energy  \\\n",
       "0           243.37              14                   28.0   \n",
       "1           183.04               7                   23.0   \n",
       "2           117.70               9                   35.0   \n",
       "3           143.21              13                   25.0   \n",
       "4           134.87              21                   28.0   \n",
       "\n",
       "   aligned_collision_energy  \\\n",
       "0                 29.663639   \n",
       "1                 25.222923   \n",
       "2                 37.352073   \n",
       "3                 26.651139   \n",
       "4                 31.333845   \n",
       "\n",
       "                                     intensities_raw  \\\n",
       "0  [0.05, 0.0, -1.0, 0.0, 0.0, -1.0, 0.05, 0.0, -...   \n",
       "1  [0.06, 0.0, -1.0, 0.0, 0.0, -1.0, 0.24, 0.0, -...   \n",
       "2  [0.43, 0.0, -1.0, 0.0, 0.0, -1.0, 0.33, 0.0, -...   \n",
       "3  [0.09, 0.0, -1.0, 0.0, 0.0, -1.0, 0.22, 0.0, -...   \n",
       "4  [0.22, 0.0, 0.0, 0.0, 0.0, 0.0, 0.15, 0.0, 0.0...   \n",
       "\n",
       "                                          masses_raw  \\\n",
       "0  [175.32356, 0.0, -1.0, 0.0, 0.0, -1.0, 303.386...   \n",
       "1  [147.11295, 0.0, -1.0, 0.0, 0.0, -1.0, 260.196...   \n",
       "2  [147.11281, 0.0, -1.0, 0.0, 0.0, -1.0, 310.175...   \n",
       "3  [147.11278, 0.0, -1.0, 0.0, 0.0, -1.0, 276.155...   \n",
       "4  [175.11949, 0.0, 0.0, 0.0, 0.0, 0.0, 304.16235...   \n",
       "\n",
       "   collision_energy_aligned_normed  method_nbr precursor_charge_onehot  \n",
       "0                         0.296636           1      [0, 1, 0, 0, 0, 0]  \n",
       "1                         0.252229           1      [0, 1, 0, 0, 0, 0]  \n",
       "2                         0.373521           1      [0, 1, 0, 0, 0, 0]  \n",
       "3                         0.266511           1      [0, 1, 0, 0, 0, 0]  \n",
       "4                         0.313338           1      [0, 0, 0, 1, 0, 0]  "
      ]
     },
     "execution_count": 5,
     "metadata": {},
     "output_type": "execute_result"
    }
   ],
   "source": [
    "train_df = pd.read_parquet(data_config[\"data_source\"][\"train\"])\n",
    "train_df.head()"
   ]
  },
  {
   "cell_type": "code",
   "execution_count": 6,
   "id": "f3570b1e",
   "metadata": {},
   "outputs": [],
   "source": [
    "df = pd.DataFrame(columns=[\"sequence\", \"precursor_charge\", \"collision_energy\"])"
   ]
  },
  {
   "cell_type": "code",
   "execution_count": 7,
   "id": "dcc42617",
   "metadata": {},
   "outputs": [],
   "source": [
    "df[\"sequence\"] = train_df[\"modified_sequence\"].str.replace('[UNIMOD:35]', '', regex=False).str.replace('[UNIMOD:4]', '', regex=False)"
   ]
  },
  {
   "cell_type": "code",
   "execution_count": 8,
   "id": "5e63f6e8",
   "metadata": {},
   "outputs": [],
   "source": [
    "def concatenate_columns(row):\n",
    "    return row.tolist()\n",
    "\n",
    "df[\"precursor_charge\"] = pd.get_dummies(train_df['precursor_charge'], dtype=float).apply(lambda row: concatenate_columns(row), axis=1)"
   ]
  },
  {
   "cell_type": "code",
   "execution_count": 9,
   "id": "42c03db4",
   "metadata": {},
   "outputs": [],
   "source": [
    "df[\"collision_energy\"] = train_df[\"collision_energy_aligned_normed\"]"
   ]
  },
  {
   "cell_type": "code",
   "execution_count": 10,
   "id": "e1eeb6a4",
   "metadata": {},
   "outputs": [],
   "source": [
    "df[\"intensities_raw\"] = train_df[\"intensities_raw\"]"
   ]
  },
  {
   "cell_type": "code",
   "execution_count": 11,
   "id": "73e78efc",
   "metadata": {},
   "outputs": [],
   "source": [
    "def truncate_target(row):\n",
    "    sequence = row[\"sequence\"]\n",
    "    target = row[\"intensities_raw\"][: (len(sequence) - 1) * 6]\n",
    "    return target"
   ]
  },
  {
   "cell_type": "code",
   "execution_count": 12,
   "id": "17f708a4",
   "metadata": {},
   "outputs": [],
   "source": [
    "df[\"target\"] = df.apply(truncate_target, axis=1)"
   ]
  },
  {
   "cell_type": "code",
   "execution_count": 13,
   "id": "fd7626d5",
   "metadata": {},
   "outputs": [],
   "source": [
    "df = df.drop(\"intensities_raw\", axis=1)"
   ]
  },
  {
   "cell_type": "code",
   "execution_count": 14,
   "id": "cf1b46b8",
   "metadata": {},
   "outputs": [],
   "source": [
    "dff = df.iloc[:40]"
   ]
  },
  {
   "cell_type": "code",
   "execution_count": 15,
   "id": "6bbf8365",
   "metadata": {},
   "outputs": [],
   "source": [
    "dff.loc[:, \"sequence\"] = dff[\"sequence\"].apply(lambda x: np.array(list(x)))\n",
    "dff.loc[:, \"precursor_charge\"] = dff[\"precursor_charge\"].apply(np.array)\n",
    "dff.loc[:, \"collision_energy\"] = dff[\"collision_energy\"].apply(lambda x: [x])"
   ]
  },
  {
   "cell_type": "code",
   "execution_count": 17,
   "id": "37f6f6e6",
   "metadata": {},
   "outputs": [
    {
     "name": "stderr",
     "output_type": "stream",
     "text": [
      "2023-10-06 13:21:07.446284: I tensorflow/core/common_runtime/gpu/gpu_device.cc:1639] Created device /job:localhost/replica:0/task:0/device:GPU:0 with 43640 MB memory:  -> device: 0, name: NVIDIA A40, pci bus id: 0000:21:00.0, compute capability: 8.6\n"
     ]
    }
   ],
   "source": [
    "sequence_col = dff['sequence'].tolist()\n",
    "collision_energy_col = dff['collision_energy'].tolist()\n",
    "precursor_charge_col = dff['precursor_charge'].tolist()\n",
    "target_col = dff['target'].tolist()\n",
    "\n",
    "sequence_col_ragged = tf.ragged.constant(sequence_col, dtype=tf.string)\n",
    "collision_energy_col_ragged = tf.ragged.constant(collision_energy_col, dtype=tf.float32)\n",
    "precursor_charge_col_ragged = tf.ragged.constant(precursor_charge_col, dtype=tf.float32)\n",
    "target_col_ragged = tf.ragged.constant(target_col, dtype=tf.float64)"
   ]
  },
  {
   "cell_type": "code",
   "execution_count": 18,
   "id": "ed796a31",
   "metadata": {},
   "outputs": [],
   "source": [
    "def ragged_to_dense(x,y):\n",
    "    return x, y\n",
    "\n",
    "def merge_tuples(item1, item2):\n",
    "    return ({\n",
    "        \"sequence\": item1[0],\n",
    "        \"precursor_charge\": item2[0],\n",
    "        \"collision_energy\": item2[1]\n",
    "    }, item1[-1])"
   ]
  },
  {
   "cell_type": "code",
   "execution_count": 19,
   "id": "f2049f7f",
   "metadata": {},
   "outputs": [],
   "source": [
    "batch_size = 2"
   ]
  },
  {
   "cell_type": "code",
   "execution_count": 20,
   "id": "7f3b2cdf",
   "metadata": {
    "scrolled": false
   },
   "outputs": [
    {
     "name": "stderr",
     "output_type": "stream",
     "text": [
      "/cmnfs/home/l.mamisashvili/miniconda3/envs/prosit-t/lib/python3.9/site-packages/tensorflow/python/data/ops/structured_function.py:265: UserWarning: Even though the `tf.config.experimental_run_functions_eagerly` option is set, this option does not apply to tf.data functions. To force eager execution of tf.data functions, please use `tf.data.experimental.enable_debug_mode()`.\n",
      "  warnings.warn(\n"
     ]
    }
   ],
   "source": [
    "dataset_seq_target = tf.data.Dataset.from_tensor_slices(\n",
    "    (\n",
    "        sequence_col_ragged,\n",
    "        target_col_ragged,\n",
    "    )\n",
    ").map(ragged_to_dense).padded_batch(batch_size).unbatch()"
   ]
  },
  {
   "cell_type": "code",
   "execution_count": 21,
   "id": "94f420dd",
   "metadata": {},
   "outputs": [],
   "source": [
    "dataset_meta = tf.data.Dataset.from_tensor_slices(\n",
    "(\n",
    "    precursor_charge_col_ragged,\n",
    "    collision_energy_col_ragged\n",
    ")).map(ragged_to_dense)"
   ]
  },
  {
   "cell_type": "code",
   "execution_count": 22,
   "id": "a64246ca",
   "metadata": {},
   "outputs": [],
   "source": [
    "dataset = tf.data.Dataset.zip(dataset_seq_target, dataset_meta).map(merge_tuples).batch(batch_size).prefetch(tf.data.AUTOTUNE)"
   ]
  },
  {
   "cell_type": "code",
   "execution_count": 16,
   "id": "bb0ed1e1",
   "metadata": {},
   "outputs": [],
   "source": [
    "model = TestModelDrop(\n",
    "    seq_length=30,\n",
    "    embedding_output_dim=64,\n",
    "    num_heads=16,\n",
    "    num_transformers=6, \n",
    "    dense_dim_factor=4\n",
    ")"
   ]
  },
  {
   "cell_type": "code",
   "execution_count": 17,
   "id": "d9478816",
   "metadata": {},
   "outputs": [],
   "source": [
    "optimizer = tf.keras.optimizers.Adam(learning_rate=0.0001)\n",
    "model.compile(\n",
    "    optimizer=optimizer,\n",
    "    loss=masked_spectral_distance,\n",
    ")"
   ]
  },
  {
   "cell_type": "code",
   "execution_count": 18,
   "id": "86e1365a",
   "metadata": {},
   "outputs": [
    {
     "name": "stdout",
     "output_type": "stream",
     "text": [
      "Epoch 1/10\n"
     ]
    },
    {
     "name": "stderr",
     "output_type": "stream",
     "text": [
      "2023-10-06 17:56:42.201946: I tensorflow/compiler/xla/stream_executor/cuda/cuda_blas.cc:606] TensorFloat-32 will be used for the matrix multiplication. This will only be logged once.\n",
      "2023-10-06 17:56:43.620747: I tensorflow/compiler/xla/stream_executor/cuda/cuda_dnn.cc:432] Loaded cuDNN version 8801\n"
     ]
    },
    {
     "name": "stdout",
     "output_type": "stream",
     "text": [
      "1/1 [==============================] - 3s 3s/step - loss: 1.0817 - val_loss: 1.0006\n",
      "Epoch 2/10\n",
      "1/1 [==============================] - 0s 357ms/step - loss: 1.0092 - val_loss: 0.9207\n",
      "Epoch 3/10\n",
      "1/1 [==============================] - 0s 362ms/step - loss: 0.9473 - val_loss: 0.8636\n",
      "Epoch 4/10\n",
      "1/1 [==============================] - 0s 347ms/step - loss: 0.8931 - val_loss: 0.8191\n",
      "Epoch 5/10\n",
      "1/1 [==============================] - 0s 350ms/step - loss: 0.8549 - val_loss: 0.7850\n",
      "Epoch 6/10\n",
      "1/1 [==============================] - 0s 352ms/step - loss: 0.8301 - val_loss: 0.7645\n",
      "Epoch 7/10\n",
      "1/1 [==============================] - 0s 353ms/step - loss: 0.8078 - val_loss: 0.7549\n",
      "Epoch 8/10\n",
      "1/1 [==============================] - 0s 357ms/step - loss: 0.7907 - val_loss: 0.7518\n",
      "Epoch 9/10\n",
      "1/1 [==============================] - 0s 376ms/step - loss: 0.7839 - val_loss: 0.7510\n",
      "Epoch 10/10\n",
      "1/1 [==============================] - 0s 350ms/step - loss: 0.7816 - val_loss: 0.7501\n"
     ]
    },
    {
     "data": {
      "text/plain": [
       "<keras.src.callbacks.History at 0x7f01aa31ceb0>"
      ]
     },
     "execution_count": 18,
     "metadata": {},
     "output_type": "execute_result"
    }
   ],
   "source": [
    "model.fit(\n",
    "    train_data,\n",
    "    validation_data=val_data,\n",
    "    epochs=10\n",
    ")"
   ]
  },
  {
   "cell_type": "code",
   "execution_count": null,
   "id": "5fbc996f",
   "metadata": {},
   "outputs": [],
   "source": []
  }
 ],
 "metadata": {
  "kernelspec": {
   "display_name": "Python 3 (ipykernel)",
   "language": "python",
   "name": "python3"
  },
  "language_info": {
   "codemirror_mode": {
    "name": "ipython",
    "version": 3
   },
   "file_extension": ".py",
   "mimetype": "text/x-python",
   "name": "python",
   "nbconvert_exporter": "python",
   "pygments_lexer": "ipython3",
   "version": "3.9.16"
  }
 },
 "nbformat": 4,
 "nbformat_minor": 5
}
